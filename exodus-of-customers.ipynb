{
 "cells": [
  {
   "attachments": {},
   "cell_type": "markdown",
   "metadata": {
    "toc": true
   },
   "source": [
    "<h1>Содержание<span class=\"tocSkip\"></span></h1>\n",
    "<div class=\"toc\"><ul class=\"toc-item\"><li><span><a href=\"#Подготовка-данных\" data-toc-modified-id=\"Подготовка-данных-1\"><span class=\"toc-item-num\">1&nbsp;&nbsp;</span>Подготовка данных</a></span></li><li><span><a href=\"#Исследование-задачи\" data-toc-modified-id=\"Исследование-задачи-2\"><span class=\"toc-item-num\">2&nbsp;&nbsp;</span>Исследование задачи</a></span></li><li><span><a href=\"#Борьба-с-дисбалансом\" data-toc-modified-id=\"Борьба-с-дисбалансом-3\"><span class=\"toc-item-num\">3&nbsp;&nbsp;</span>Борьба с дисбалансом</a></span></li><li><span><a href=\"#Тестирование-модели\" data-toc-modified-id=\"Тестирование-модели-4\"><span class=\"toc-item-num\">4&nbsp;&nbsp;</span>Тестирование модели</a></span></li></ul></div>"
   ]
  },
  {
   "attachments": {},
   "cell_type": "markdown",
   "metadata": {},
   "source": [
    "# Отток клиентов"
   ]
  },
  {
   "attachments": {},
   "cell_type": "markdown",
   "metadata": {},
   "source": [
    "Из «Бета-Банка» стали уходить клиенты. Каждый месяц. Немного, но заметно. Банковские маркетологи посчитали: сохранять текущих клиентов дешевле, чем привлекать новых.\n",
    "\n",
    "Нужно спрогнозировать, уйдёт клиент из банка в ближайшее время или нет. Вам предоставлены исторические данные о поведении клиентов и расторжении договоров с банком. \n",
    "\n",
    "Построим модель с предельно большим значением *F1*-меры, не менее 0.59. Затем проверим *F1*-меру на тестовой выборке.\n",
    "\n",
    "Измерим *AUC-ROC* и сравним её значение с *F1*-мерой."
   ]
  },
  {
   "attachments": {},
   "cell_type": "markdown",
   "metadata": {},
   "source": [
    "## Подготовка данных"
   ]
  },
  {
   "attachments": {},
   "cell_type": "markdown",
   "metadata": {},
   "source": [
    "Подключаем необходимые библиотки:"
   ]
  },
  {
   "cell_type": "code",
   "execution_count": 1,
   "metadata": {},
   "outputs": [],
   "source": [
    "import pandas as pd\n",
    "import numpy as np\n",
    "\n",
    "import matplotlib.pyplot as plt\n",
    "\n",
    "from sklearn.preprocessing import StandardScaler\n",
    "from sklearn.model_selection import train_test_split, GridSearchCV, KFold\n",
    "from sklearn.ensemble import RandomForestClassifier\n",
    "from sklearn.utils import resample, shuffle\n",
    "from sklearn.metrics import f1_score, roc_curve, roc_auc_score"
   ]
  },
  {
   "cell_type": "code",
   "execution_count": 2,
   "metadata": {},
   "outputs": [],
   "source": [
    "RANDOM_STATE = 0"
   ]
  },
  {
   "attachments": {},
   "cell_type": "markdown",
   "metadata": {},
   "source": [
    "Откроем файл с данными и рассмотрим содержимое"
   ]
  },
  {
   "cell_type": "code",
   "execution_count": 3,
   "metadata": {},
   "outputs": [
    {
     "data": {
      "text/html": [
       "<div>\n",
       "<style scoped>\n",
       "    .dataframe tbody tr th:only-of-type {\n",
       "        vertical-align: middle;\n",
       "    }\n",
       "\n",
       "    .dataframe tbody tr th {\n",
       "        vertical-align: top;\n",
       "    }\n",
       "\n",
       "    .dataframe thead th {\n",
       "        text-align: right;\n",
       "    }\n",
       "</style>\n",
       "<table border=\"1\" class=\"dataframe\">\n",
       "  <thead>\n",
       "    <tr style=\"text-align: right;\">\n",
       "      <th></th>\n",
       "      <th>RowNumber</th>\n",
       "      <th>CustomerId</th>\n",
       "      <th>Surname</th>\n",
       "      <th>CreditScore</th>\n",
       "      <th>Geography</th>\n",
       "      <th>Gender</th>\n",
       "      <th>Age</th>\n",
       "      <th>Tenure</th>\n",
       "      <th>Balance</th>\n",
       "      <th>NumOfProducts</th>\n",
       "      <th>HasCrCard</th>\n",
       "      <th>IsActiveMember</th>\n",
       "      <th>EstimatedSalary</th>\n",
       "      <th>Exited</th>\n",
       "    </tr>\n",
       "  </thead>\n",
       "  <tbody>\n",
       "    <tr>\n",
       "      <th>0</th>\n",
       "      <td>1</td>\n",
       "      <td>15634602</td>\n",
       "      <td>Hargrave</td>\n",
       "      <td>619</td>\n",
       "      <td>France</td>\n",
       "      <td>Female</td>\n",
       "      <td>42</td>\n",
       "      <td>2.0</td>\n",
       "      <td>0.00</td>\n",
       "      <td>1</td>\n",
       "      <td>1</td>\n",
       "      <td>1</td>\n",
       "      <td>101348.88</td>\n",
       "      <td>1</td>\n",
       "    </tr>\n",
       "    <tr>\n",
       "      <th>1</th>\n",
       "      <td>2</td>\n",
       "      <td>15647311</td>\n",
       "      <td>Hill</td>\n",
       "      <td>608</td>\n",
       "      <td>Spain</td>\n",
       "      <td>Female</td>\n",
       "      <td>41</td>\n",
       "      <td>1.0</td>\n",
       "      <td>83807.86</td>\n",
       "      <td>1</td>\n",
       "      <td>0</td>\n",
       "      <td>1</td>\n",
       "      <td>112542.58</td>\n",
       "      <td>0</td>\n",
       "    </tr>\n",
       "    <tr>\n",
       "      <th>2</th>\n",
       "      <td>3</td>\n",
       "      <td>15619304</td>\n",
       "      <td>Onio</td>\n",
       "      <td>502</td>\n",
       "      <td>France</td>\n",
       "      <td>Female</td>\n",
       "      <td>42</td>\n",
       "      <td>8.0</td>\n",
       "      <td>159660.80</td>\n",
       "      <td>3</td>\n",
       "      <td>1</td>\n",
       "      <td>0</td>\n",
       "      <td>113931.57</td>\n",
       "      <td>1</td>\n",
       "    </tr>\n",
       "    <tr>\n",
       "      <th>3</th>\n",
       "      <td>4</td>\n",
       "      <td>15701354</td>\n",
       "      <td>Boni</td>\n",
       "      <td>699</td>\n",
       "      <td>France</td>\n",
       "      <td>Female</td>\n",
       "      <td>39</td>\n",
       "      <td>1.0</td>\n",
       "      <td>0.00</td>\n",
       "      <td>2</td>\n",
       "      <td>0</td>\n",
       "      <td>0</td>\n",
       "      <td>93826.63</td>\n",
       "      <td>0</td>\n",
       "    </tr>\n",
       "    <tr>\n",
       "      <th>4</th>\n",
       "      <td>5</td>\n",
       "      <td>15737888</td>\n",
       "      <td>Mitchell</td>\n",
       "      <td>850</td>\n",
       "      <td>Spain</td>\n",
       "      <td>Female</td>\n",
       "      <td>43</td>\n",
       "      <td>2.0</td>\n",
       "      <td>125510.82</td>\n",
       "      <td>1</td>\n",
       "      <td>1</td>\n",
       "      <td>1</td>\n",
       "      <td>79084.10</td>\n",
       "      <td>0</td>\n",
       "    </tr>\n",
       "  </tbody>\n",
       "</table>\n",
       "</div>"
      ],
      "text/plain": [
       "   RowNumber  CustomerId   Surname  CreditScore Geography  Gender  Age  \\\n",
       "0          1    15634602  Hargrave          619    France  Female   42   \n",
       "1          2    15647311      Hill          608     Spain  Female   41   \n",
       "2          3    15619304      Onio          502    France  Female   42   \n",
       "3          4    15701354      Boni          699    France  Female   39   \n",
       "4          5    15737888  Mitchell          850     Spain  Female   43   \n",
       "\n",
       "   Tenure    Balance  NumOfProducts  HasCrCard  IsActiveMember  \\\n",
       "0     2.0       0.00              1          1               1   \n",
       "1     1.0   83807.86              1          0               1   \n",
       "2     8.0  159660.80              3          1               0   \n",
       "3     1.0       0.00              2          0               0   \n",
       "4     2.0  125510.82              1          1               1   \n",
       "\n",
       "   EstimatedSalary  Exited  \n",
       "0        101348.88       1  \n",
       "1        112542.58       0  \n",
       "2        113931.57       1  \n",
       "3         93826.63       0  \n",
       "4         79084.10       0  "
      ]
     },
     "execution_count": 3,
     "metadata": {},
     "output_type": "execute_result"
    }
   ],
   "source": [
    "df = pd.read_csv('churn.csv')\n",
    "df.head()"
   ]
  },
  {
   "cell_type": "code",
   "execution_count": 4,
   "metadata": {},
   "outputs": [
    {
     "name": "stdout",
     "output_type": "stream",
     "text": [
      "<class 'pandas.core.frame.DataFrame'>\n",
      "RangeIndex: 10000 entries, 0 to 9999\n",
      "Data columns (total 14 columns):\n",
      " #   Column           Non-Null Count  Dtype  \n",
      "---  ------           --------------  -----  \n",
      " 0   RowNumber        10000 non-null  int64  \n",
      " 1   CustomerId       10000 non-null  int64  \n",
      " 2   Surname          10000 non-null  object \n",
      " 3   CreditScore      10000 non-null  int64  \n",
      " 4   Geography        10000 non-null  object \n",
      " 5   Gender           10000 non-null  object \n",
      " 6   Age              10000 non-null  int64  \n",
      " 7   Tenure           9091 non-null   float64\n",
      " 8   Balance          10000 non-null  float64\n",
      " 9   NumOfProducts    10000 non-null  int64  \n",
      " 10  HasCrCard        10000 non-null  int64  \n",
      " 11  IsActiveMember   10000 non-null  int64  \n",
      " 12  EstimatedSalary  10000 non-null  float64\n",
      " 13  Exited           10000 non-null  int64  \n",
      "dtypes: float64(3), int64(8), object(3)\n",
      "memory usage: 1.1+ MB\n"
     ]
    }
   ],
   "source": [
    "df.info()"
   ]
  },
  {
   "attachments": {},
   "cell_type": "markdown",
   "metadata": {},
   "source": [
    "В признаке `Tensure` довольно много пропусков"
   ]
  },
  {
   "attachments": {},
   "cell_type": "markdown",
   "metadata": {},
   "source": [
    "Количество дубликотов в датафрейме:"
   ]
  },
  {
   "cell_type": "code",
   "execution_count": 5,
   "metadata": {},
   "outputs": [
    {
     "data": {
      "text/plain": [
       "0"
      ]
     },
     "execution_count": 5,
     "metadata": {},
     "output_type": "execute_result"
    }
   ],
   "source": [
    "df.duplicated().sum()"
   ]
  },
  {
   "attachments": {},
   "cell_type": "markdown",
   "metadata": {},
   "source": [
    "Изучим как распределены числовые признаки."
   ]
  },
  {
   "cell_type": "code",
   "execution_count": 6,
   "metadata": {},
   "outputs": [
    {
     "data": {
      "text/html": [
       "<div>\n",
       "<style scoped>\n",
       "    .dataframe tbody tr th:only-of-type {\n",
       "        vertical-align: middle;\n",
       "    }\n",
       "\n",
       "    .dataframe tbody tr th {\n",
       "        vertical-align: top;\n",
       "    }\n",
       "\n",
       "    .dataframe thead th {\n",
       "        text-align: right;\n",
       "    }\n",
       "</style>\n",
       "<table border=\"1\" class=\"dataframe\">\n",
       "  <thead>\n",
       "    <tr style=\"text-align: right;\">\n",
       "      <th></th>\n",
       "      <th>RowNumber</th>\n",
       "      <th>CustomerId</th>\n",
       "      <th>CreditScore</th>\n",
       "      <th>Age</th>\n",
       "      <th>Tenure</th>\n",
       "      <th>Balance</th>\n",
       "      <th>NumOfProducts</th>\n",
       "      <th>HasCrCard</th>\n",
       "      <th>IsActiveMember</th>\n",
       "      <th>EstimatedSalary</th>\n",
       "      <th>Exited</th>\n",
       "    </tr>\n",
       "  </thead>\n",
       "  <tbody>\n",
       "    <tr>\n",
       "      <th>count</th>\n",
       "      <td>10000.00000</td>\n",
       "      <td>1.000000e+04</td>\n",
       "      <td>10000.000000</td>\n",
       "      <td>10000.000000</td>\n",
       "      <td>9091.000000</td>\n",
       "      <td>10000.000000</td>\n",
       "      <td>10000.000000</td>\n",
       "      <td>10000.00000</td>\n",
       "      <td>10000.000000</td>\n",
       "      <td>10000.000000</td>\n",
       "      <td>10000.000000</td>\n",
       "    </tr>\n",
       "    <tr>\n",
       "      <th>mean</th>\n",
       "      <td>5000.50000</td>\n",
       "      <td>1.569094e+07</td>\n",
       "      <td>650.528800</td>\n",
       "      <td>38.921800</td>\n",
       "      <td>4.997690</td>\n",
       "      <td>76485.889288</td>\n",
       "      <td>1.530200</td>\n",
       "      <td>0.70550</td>\n",
       "      <td>0.515100</td>\n",
       "      <td>100090.239881</td>\n",
       "      <td>0.203700</td>\n",
       "    </tr>\n",
       "    <tr>\n",
       "      <th>std</th>\n",
       "      <td>2886.89568</td>\n",
       "      <td>7.193619e+04</td>\n",
       "      <td>96.653299</td>\n",
       "      <td>10.487806</td>\n",
       "      <td>2.894723</td>\n",
       "      <td>62397.405202</td>\n",
       "      <td>0.581654</td>\n",
       "      <td>0.45584</td>\n",
       "      <td>0.499797</td>\n",
       "      <td>57510.492818</td>\n",
       "      <td>0.402769</td>\n",
       "    </tr>\n",
       "    <tr>\n",
       "      <th>min</th>\n",
       "      <td>1.00000</td>\n",
       "      <td>1.556570e+07</td>\n",
       "      <td>350.000000</td>\n",
       "      <td>18.000000</td>\n",
       "      <td>0.000000</td>\n",
       "      <td>0.000000</td>\n",
       "      <td>1.000000</td>\n",
       "      <td>0.00000</td>\n",
       "      <td>0.000000</td>\n",
       "      <td>11.580000</td>\n",
       "      <td>0.000000</td>\n",
       "    </tr>\n",
       "    <tr>\n",
       "      <th>25%</th>\n",
       "      <td>2500.75000</td>\n",
       "      <td>1.562853e+07</td>\n",
       "      <td>584.000000</td>\n",
       "      <td>32.000000</td>\n",
       "      <td>2.000000</td>\n",
       "      <td>0.000000</td>\n",
       "      <td>1.000000</td>\n",
       "      <td>0.00000</td>\n",
       "      <td>0.000000</td>\n",
       "      <td>51002.110000</td>\n",
       "      <td>0.000000</td>\n",
       "    </tr>\n",
       "    <tr>\n",
       "      <th>50%</th>\n",
       "      <td>5000.50000</td>\n",
       "      <td>1.569074e+07</td>\n",
       "      <td>652.000000</td>\n",
       "      <td>37.000000</td>\n",
       "      <td>5.000000</td>\n",
       "      <td>97198.540000</td>\n",
       "      <td>1.000000</td>\n",
       "      <td>1.00000</td>\n",
       "      <td>1.000000</td>\n",
       "      <td>100193.915000</td>\n",
       "      <td>0.000000</td>\n",
       "    </tr>\n",
       "    <tr>\n",
       "      <th>75%</th>\n",
       "      <td>7500.25000</td>\n",
       "      <td>1.575323e+07</td>\n",
       "      <td>718.000000</td>\n",
       "      <td>44.000000</td>\n",
       "      <td>7.000000</td>\n",
       "      <td>127644.240000</td>\n",
       "      <td>2.000000</td>\n",
       "      <td>1.00000</td>\n",
       "      <td>1.000000</td>\n",
       "      <td>149388.247500</td>\n",
       "      <td>0.000000</td>\n",
       "    </tr>\n",
       "    <tr>\n",
       "      <th>max</th>\n",
       "      <td>10000.00000</td>\n",
       "      <td>1.581569e+07</td>\n",
       "      <td>850.000000</td>\n",
       "      <td>92.000000</td>\n",
       "      <td>10.000000</td>\n",
       "      <td>250898.090000</td>\n",
       "      <td>4.000000</td>\n",
       "      <td>1.00000</td>\n",
       "      <td>1.000000</td>\n",
       "      <td>199992.480000</td>\n",
       "      <td>1.000000</td>\n",
       "    </tr>\n",
       "  </tbody>\n",
       "</table>\n",
       "</div>"
      ],
      "text/plain": [
       "         RowNumber    CustomerId   CreditScore           Age       Tenure  \\\n",
       "count  10000.00000  1.000000e+04  10000.000000  10000.000000  9091.000000   \n",
       "mean    5000.50000  1.569094e+07    650.528800     38.921800     4.997690   \n",
       "std     2886.89568  7.193619e+04     96.653299     10.487806     2.894723   \n",
       "min        1.00000  1.556570e+07    350.000000     18.000000     0.000000   \n",
       "25%     2500.75000  1.562853e+07    584.000000     32.000000     2.000000   \n",
       "50%     5000.50000  1.569074e+07    652.000000     37.000000     5.000000   \n",
       "75%     7500.25000  1.575323e+07    718.000000     44.000000     7.000000   \n",
       "max    10000.00000  1.581569e+07    850.000000     92.000000    10.000000   \n",
       "\n",
       "             Balance  NumOfProducts    HasCrCard  IsActiveMember  \\\n",
       "count   10000.000000   10000.000000  10000.00000    10000.000000   \n",
       "mean    76485.889288       1.530200      0.70550        0.515100   \n",
       "std     62397.405202       0.581654      0.45584        0.499797   \n",
       "min         0.000000       1.000000      0.00000        0.000000   \n",
       "25%         0.000000       1.000000      0.00000        0.000000   \n",
       "50%     97198.540000       1.000000      1.00000        1.000000   \n",
       "75%    127644.240000       2.000000      1.00000        1.000000   \n",
       "max    250898.090000       4.000000      1.00000        1.000000   \n",
       "\n",
       "       EstimatedSalary        Exited  \n",
       "count     10000.000000  10000.000000  \n",
       "mean     100090.239881      0.203700  \n",
       "std       57510.492818      0.402769  \n",
       "min          11.580000      0.000000  \n",
       "25%       51002.110000      0.000000  \n",
       "50%      100193.915000      0.000000  \n",
       "75%      149388.247500      0.000000  \n",
       "max      199992.480000      1.000000  "
      ]
     },
     "execution_count": 6,
     "metadata": {},
     "output_type": "execute_result"
    }
   ],
   "source": [
    "df.describe()"
   ]
  },
  {
   "cell_type": "code",
   "execution_count": 7,
   "metadata": {
    "scrolled": false
   },
   "outputs": [
    {
     "data": {
      "image/png": "[encoded data removed]",
      "text/plain": [
       "<Figure size 1152x1152 with 121 Axes>"
      ]
     },
     "metadata": {
      "needs_background": "light"
     },
     "output_type": "display_data"
    }
   ],
   "source": [
    "_ = pd.plotting.scatter_matrix(df, figsize=(16, 16), alpha=0.2)"
   ]
  },
  {
   "attachments": {},
   "cell_type": "markdown",
   "metadata": {},
   "source": [
    "Какой-то серьёзной корреляции между признаками на которых будем обучать модель не вижу.\n",
    "\n",
    "Выбросов нет\n",
    "\n",
    "Есть дисбаланс классов в нескольких признаках, в частности в целевом"
   ]
  },
  {
   "attachments": {},
   "cell_type": "markdown",
   "metadata": {},
   "source": [
    "Посмотрим какие значения есть в не числовых признаках"
   ]
  },
  {
   "cell_type": "code",
   "execution_count": 8,
   "metadata": {
    "scrolled": true
   },
   "outputs": [
    {
     "data": {
      "text/plain": [
       "France     5014\n",
       "Germany    2509\n",
       "Spain      2477\n",
       "Name: Geography, dtype: int64"
      ]
     },
     "execution_count": 8,
     "metadata": {},
     "output_type": "execute_result"
    }
   ],
   "source": [
    "df['Geography'].value_counts()"
   ]
  },
  {
   "cell_type": "code",
   "execution_count": 9,
   "metadata": {
    "scrolled": true
   },
   "outputs": [
    {
     "data": {
      "text/plain": [
       "Male      5457\n",
       "Female    4543\n",
       "Name: Gender, dtype: int64"
      ]
     },
     "execution_count": 9,
     "metadata": {},
     "output_type": "execute_result"
    }
   ],
   "source": [
    "df['Gender'].value_counts()"
   ]
  },
  {
   "attachments": {},
   "cell_type": "markdown",
   "metadata": {},
   "source": [
    "**Признаки**\n",
    "- RowNumber — индекс строки в данных\n",
    "- CustomerId — уникальный идентификатор клиента\n",
    "- Surname — фамилия\n",
    "- CreditScore — кредитный рейтинг\n",
    "- Geography — страна проживания\n",
    "- Gender — пол\n",
    "- Age — возраст\n",
    "- Tenure — сколько лет человек является клиентом банка\n",
    "- Balance — баланс на счёте\n",
    "- NumOfProducts — количество продуктов банка, используемых клиентом\n",
    "- HasCrCard — наличие кредитной карты\n",
    "- IsActiveMember — активность клиента\n",
    "- EstimatedSalary — предполагаемая зарплата\n",
    "\n",
    "**Целевой признак**\n",
    "- Exited — факт ухода клиента\n",
    "\n",
    "Уберем признаки, которые не несут особого смысла:"
   ]
  },
  {
   "cell_type": "code",
   "execution_count": 10,
   "metadata": {},
   "outputs": [],
   "source": [
    "df.drop(columns=['RowNumber', 'CustomerId', 'Surname'], inplace=True)"
   ]
  },
  {
   "attachments": {},
   "cell_type": "markdown",
   "metadata": {},
   "source": [
    "Я не знаю как повлияет на результат заполнение пропусков тем или иным способом. И это процентов десять данных. Возможно этот признак вовсе не влияет на целевой - тогда можно просто удалить столбец. Если это сделать сейчас, то мы так никогда и не узнаем ответ. Поэтому строки с пропусками запишем в отдельный датафрейм и удалим из основного набора данных."
   ]
  },
  {
   "cell_type": "code",
   "execution_count": 11,
   "metadata": {},
   "outputs": [
    {
     "data": {
      "text/plain": [
       "(909, 11)"
      ]
     },
     "execution_count": 11,
     "metadata": {},
     "output_type": "execute_result"
    }
   ],
   "source": [
    "df_dropped = df.loc[df.Tenure.isna()]\n",
    "df_dropped.shape"
   ]
  },
  {
   "cell_type": "code",
   "execution_count": 12,
   "metadata": {
    "scrolled": true
   },
   "outputs": [
    {
     "data": {
      "text/plain": [
       "(9091, 11)"
      ]
     },
     "execution_count": 12,
     "metadata": {},
     "output_type": "execute_result"
    }
   ],
   "source": [
    "df.dropna(axis='index', how='any', inplace=True)\n",
    "df.shape"
   ]
  },
  {
   "attachments": {},
   "cell_type": "markdown",
   "metadata": {},
   "source": [
    "**Вывод**\n",
    "\n",
    "У нас хороший датасет. Нет ни выбросов, нет множества пропущеных или невалидных данных.\n",
    "\n",
    "Сильной корреляции помежду признаками не видно, есть дисбаланс классов.\n",
    "\n",
    "Примерно 9% данных в колонке `Tenure` пустые. Объекты с этими пропусками записаны в отдельный датафрейм, а из основного выброшены. Возможно мы можем безболезненно избавиться от этого признака и вернуть строки в обучающую выборку.\n",
    "\n",
    "`RowNumber`, `CustomerId`, `Surname` выброшены т.к. не несут для нас смысла."
   ]
  },
  {
   "attachments": {},
   "cell_type": "markdown",
   "metadata": {},
   "source": [
    "## Исследование задачи"
   ]
  },
  {
   "attachments": {},
   "cell_type": "markdown",
   "metadata": {},
   "source": [
    "В принципе, на матрице рассеяния видно как распределены числовые значения, но здесь мы акцекнтируем внимание на дисбалансе классов. Баланс классов номинальных переменных покажем спомощью пайчартов:"
   ]
  },
  {
   "cell_type": "code",
   "execution_count": 13,
   "metadata": {},
   "outputs": [
    {
     "data": {
      "image/png": "[encoded data removed]",
      "text/plain": [
       "<Figure size 1152x576 with 7 Axes>"
      ]
     },
     "metadata": {},
     "output_type": "display_data"
    }
   ],
   "source": [
    "columns = ['Geography', 'Gender', 'NumOfProducts', 'HasCrCard', 'IsActiveMember', 'Exited', 'Tenure']\n",
    "\n",
    "plt.figure(figsize=(16, 8)).suptitle('Баланс классов')\n",
    "\n",
    "for index in range(len(columns)):\n",
    "    plt.subplot(2, 4, index+1)\n",
    "    df[columns[index]].value_counts().plot(kind='pie')"
   ]
  },
  {
   "attachments": {},
   "cell_type": "markdown",
   "metadata": {},
   "source": [
    "Заглянем также в отброшенную часть датасета. Пропорции дисбаланса повторяют основной массив данных. Значит удаление этих строк не повлияло на баланс классов."
   ]
  },
  {
   "cell_type": "code",
   "execution_count": 14,
   "metadata": {},
   "outputs": [
    {
     "data": {
      "image/png": "[encoded data removed]",
      "text/plain": [
       "<Figure size 1152x576 with 6 Axes>"
      ]
     },
     "metadata": {},
     "output_type": "display_data"
    }
   ],
   "source": [
    "columns = ['Geography', 'Gender', 'NumOfProducts', 'HasCrCard', 'IsActiveMember', 'Exited']\n",
    "\n",
    "plt.figure(figsize=(16, 8)).suptitle('Баланс классов в выброшенном наборе данных')\n",
    "\n",
    "for index in range(len(columns)):\n",
    "    plt.subplot(2, 4, index+1)\n",
    "    df_dropped[columns[index]].value_counts().plot(kind='pie')"
   ]
  },
  {
   "attachments": {},
   "cell_type": "markdown",
   "metadata": {},
   "source": [
    "Чтобы оценить как распределяются количественные значения воспользуемся гистограммой."
   ]
  },
  {
   "cell_type": "code",
   "execution_count": 15,
   "metadata": {
    "scrolled": false
   },
   "outputs": [
    {
     "data": {
      "image/png": "[encoded data removed]",
      "text/plain": [
       "<Figure size 1152x576 with 4 Axes>"
      ]
     },
     "metadata": {
      "needs_background": "light"
     },
     "output_type": "display_data"
    }
   ],
   "source": [
    "columns = ['CreditScore', 'Age', 'Balance', 'EstimatedSalary']\n",
    "\n",
    "plt.figure(figsize=(16, 8)).suptitle('Распределение количественных значений')\n",
    "\n",
    "for index in range(len(columns)):\n",
    "    plt.subplot(2, 2, index+1)\n",
    "    plt.title(columns[index])\n",
    "    df[columns[index]].plot(kind='hist')"
   ]
  },
  {
   "attachments": {},
   "cell_type": "markdown",
   "metadata": {},
   "source": [
    "У нас в наборе данных есть пара признаков, выраженных в текстовом формате (страна проживания и пол). Для перекодирования в числовой формат воспользуемся OHE."
   ]
  },
  {
   "cell_type": "code",
   "execution_count": 16,
   "metadata": {},
   "outputs": [
    {
     "data": {
      "text/plain": [
       "Index(['CreditScore', 'Age', 'Tenure', 'Balance', 'NumOfProducts', 'HasCrCard',\n",
       "       'IsActiveMember', 'EstimatedSalary', 'Exited', 'Geography_Germany',\n",
       "       'Geography_Spain', 'Gender_Male'],\n",
       "      dtype='object')"
      ]
     },
     "execution_count": 16,
     "metadata": {},
     "output_type": "execute_result"
    }
   ],
   "source": [
    "df_ohe = pd.get_dummies(df, drop_first=True)\n",
    "df_ohe.columns"
   ]
  },
  {
   "attachments": {},
   "cell_type": "markdown",
   "metadata": {},
   "source": [
    "Выделим целевой признак и разобъём данные на обучающую и тестовую выборку. Тестовая выборка будет 25% от оставшегося датафрейма. Если добавить в обучающую выборку отброшенные объекты, то объем тестовой выборки составит 22,7% от всего датасета."
   ]
  },
  {
   "cell_type": "code",
   "execution_count": 17,
   "metadata": {},
   "outputs": [
    {
     "name": "stdout",
     "output_type": "stream",
     "text": [
      "(6818, 11)\n",
      "(6818,)\n",
      "(2273, 11)\n",
      "(2273,)\n"
     ]
    }
   ],
   "source": [
    "features_train, features_test, target_train, target_test = train_test_split(\n",
    "    df_ohe.drop(columns='Exited'),\n",
    "    df_ohe['Exited'],\n",
    "    test_size=0.25,\n",
    "    stratify=df_ohe['Exited'], # равномерно распределяем целевой признак\n",
    "    random_state=RANDOM_STATE\n",
    ")\n",
    "\n",
    "print(features_train.shape, target_train.shape, features_test.shape, target_test.shape, sep='\\n')"
   ]
  },
  {
   "attachments": {},
   "cell_type": "markdown",
   "metadata": {},
   "source": [
    "Масштабируем количественные признаки."
   ]
  },
  {
   "cell_type": "code",
   "execution_count": 18,
   "metadata": {},
   "outputs": [
    {
     "data": {
      "text/html": [
       "<div>\n",
       "<style scoped>\n",
       "    .dataframe tbody tr th:only-of-type {\n",
       "        vertical-align: middle;\n",
       "    }\n",
       "\n",
       "    .dataframe tbody tr th {\n",
       "        vertical-align: top;\n",
       "    }\n",
       "\n",
       "    .dataframe thead th {\n",
       "        text-align: right;\n",
       "    }\n",
       "</style>\n",
       "<table border=\"1\" class=\"dataframe\">\n",
       "  <thead>\n",
       "    <tr style=\"text-align: right;\">\n",
       "      <th></th>\n",
       "      <th>CreditScore</th>\n",
       "      <th>Age</th>\n",
       "      <th>Tenure</th>\n",
       "      <th>Balance</th>\n",
       "      <th>NumOfProducts</th>\n",
       "      <th>HasCrCard</th>\n",
       "      <th>IsActiveMember</th>\n",
       "      <th>EstimatedSalary</th>\n",
       "      <th>Geography_Germany</th>\n",
       "      <th>Geography_Spain</th>\n",
       "      <th>Gender_Male</th>\n",
       "    </tr>\n",
       "  </thead>\n",
       "  <tbody>\n",
       "    <tr>\n",
       "      <th>9102</th>\n",
       "      <td>-2.125098</td>\n",
       "      <td>2.077821</td>\n",
       "      <td>2.0</td>\n",
       "      <td>0.978583</td>\n",
       "      <td>-0.915478</td>\n",
       "      <td>0</td>\n",
       "      <td>1</td>\n",
       "      <td>-1.219494</td>\n",
       "      <td>1</td>\n",
       "      <td>0</td>\n",
       "      <td>0</td>\n",
       "    </tr>\n",
       "    <tr>\n",
       "      <th>3721</th>\n",
       "      <td>0.834261</td>\n",
       "      <td>0.197742</td>\n",
       "      <td>9.0</td>\n",
       "      <td>1.212513</td>\n",
       "      <td>-0.915478</td>\n",
       "      <td>1</td>\n",
       "      <td>1</td>\n",
       "      <td>-0.198464</td>\n",
       "      <td>0</td>\n",
       "      <td>0</td>\n",
       "      <td>0</td>\n",
       "    </tr>\n",
       "    <tr>\n",
       "      <th>9165</th>\n",
       "      <td>0.130637</td>\n",
       "      <td>0.667762</td>\n",
       "      <td>2.0</td>\n",
       "      <td>1.043872</td>\n",
       "      <td>-0.915478</td>\n",
       "      <td>1</td>\n",
       "      <td>1</td>\n",
       "      <td>-0.727874</td>\n",
       "      <td>1</td>\n",
       "      <td>0</td>\n",
       "      <td>0</td>\n",
       "    </tr>\n",
       "    <tr>\n",
       "      <th>6343</th>\n",
       "      <td>-0.241870</td>\n",
       "      <td>1.513798</td>\n",
       "      <td>6.0</td>\n",
       "      <td>-1.228794</td>\n",
       "      <td>-0.915478</td>\n",
       "      <td>0</td>\n",
       "      <td>0</td>\n",
       "      <td>-0.143655</td>\n",
       "      <td>0</td>\n",
       "      <td>1</td>\n",
       "      <td>0</td>\n",
       "    </tr>\n",
       "    <tr>\n",
       "      <th>7317</th>\n",
       "      <td>0.792871</td>\n",
       "      <td>1.889814</td>\n",
       "      <td>5.0</td>\n",
       "      <td>1.217925</td>\n",
       "      <td>-0.915478</td>\n",
       "      <td>1</td>\n",
       "      <td>0</td>\n",
       "      <td>-0.492484</td>\n",
       "      <td>1</td>\n",
       "      <td>0</td>\n",
       "      <td>1</td>\n",
       "    </tr>\n",
       "  </tbody>\n",
       "</table>\n",
       "</div>"
      ],
      "text/plain": [
       "      CreditScore       Age  Tenure   Balance  NumOfProducts  HasCrCard  \\\n",
       "9102    -2.125098  2.077821     2.0  0.978583      -0.915478          0   \n",
       "3721     0.834261  0.197742     9.0  1.212513      -0.915478          1   \n",
       "9165     0.130637  0.667762     2.0  1.043872      -0.915478          1   \n",
       "6343    -0.241870  1.513798     6.0 -1.228794      -0.915478          0   \n",
       "7317     0.792871  1.889814     5.0  1.217925      -0.915478          1   \n",
       "\n",
       "      IsActiveMember  EstimatedSalary  Geography_Germany  Geography_Spain  \\\n",
       "9102               1        -1.219494                  1                0   \n",
       "3721               1        -0.198464                  0                0   \n",
       "9165               1        -0.727874                  1                0   \n",
       "6343               0        -0.143655                  0                1   \n",
       "7317               0        -0.492484                  1                0   \n",
       "\n",
       "      Gender_Male  \n",
       "9102            0  \n",
       "3721            0  \n",
       "9165            0  \n",
       "6343            0  \n",
       "7317            1  "
      ]
     },
     "execution_count": 18,
     "metadata": {},
     "output_type": "execute_result"
    }
   ],
   "source": [
    "numeric = ['NumOfProducts', 'CreditScore', 'Age', 'Balance', 'EstimatedSalary']\n",
    "\n",
    "scaler = StandardScaler().fit(features_train[numeric])\n",
    "\n",
    "features_train[numeric] = scaler.transform(features_train[numeric])\n",
    "features_test[numeric] = scaler.transform(features_test[numeric])\n",
    "\n",
    "features_train.head()"
   ]
  },
  {
   "attachments": {},
   "cell_type": "markdown",
   "metadata": {},
   "source": [
    "Строить будем случайный лес. Искать лучшие гиперпараметры нам поможет `GridSearchCV`."
   ]
  },
  {
   "cell_type": "code",
   "execution_count": 19,
   "metadata": {},
   "outputs": [],
   "source": [
    "parametrs = { 'max_depth': range (1,13, 2),\n",
    "              'min_samples_leaf': range (1,8),\n",
    "              'min_samples_split': range (2,10,2) }"
   ]
  },
  {
   "cell_type": "code",
   "execution_count": 20,
   "metadata": {},
   "outputs": [],
   "source": [
    "kf = KFold(n_splits=5, random_state=RANDOM_STATE, shuffle=True)"
   ]
  },
  {
   "attachments": {},
   "cell_type": "markdown",
   "metadata": {},
   "source": [
    "Результаты поиска лучшего способа сбалансировать классы сохраним в словаре."
   ]
  },
  {
   "cell_type": "code",
   "execution_count": 21,
   "metadata": {},
   "outputs": [],
   "source": [
    "grid = {}"
   ]
  },
  {
   "cell_type": "code",
   "execution_count": 22,
   "metadata": {},
   "outputs": [],
   "source": [
    "clf = RandomForestClassifier(n_estimators=50, random_state=RANDOM_STATE)"
   ]
  },
  {
   "cell_type": "code",
   "execution_count": 23,
   "metadata": {},
   "outputs": [
    {
     "name": "stdout",
     "output_type": "stream",
     "text": [
      "CPU times: user 3min 2s, sys: 843 ms, total: 3min 3s\n",
      "Wall time: 3min 3s\n"
     ]
    }
   ],
   "source": [
    "%%time\n",
    "\n",
    "grid['unbalanced'] = GridSearchCV(clf, parametrs, cv=kf, scoring=['f1', 'roc_auc'], refit='f1').fit(features_train, target_train)"
   ]
  },
  {
   "cell_type": "code",
   "execution_count": 24,
   "metadata": {
    "scrolled": true
   },
   "outputs": [
    {
     "name": "stdout",
     "output_type": "stream",
     "text": [
      "F1-мера: 0.5556337076869596\n",
      "AUC-ROC: 0.8495114801200122\n"
     ]
    }
   ],
   "source": [
    "print('F1-мера:', grid['unbalanced'].cv_results_['mean_test_f1'][grid['unbalanced'].best_index_])\n",
    "print('AUC-ROC:', grid['unbalanced'].cv_results_['mean_test_roc_auc'][grid['unbalanced'].best_index_])"
   ]
  },
  {
   "attachments": {},
   "cell_type": "markdown",
   "metadata": {},
   "source": [
    "Проверив значимость признаков обнаружим, что признак `Tenure`, сколько лет человек является клиентом банка, не очень значимый. По крайней мере, среди тех, что попали в это дерево."
   ]
  },
  {
   "cell_type": "code",
   "execution_count": 25,
   "metadata": {},
   "outputs": [
    {
     "data": {
      "text/html": [
       "<div>\n",
       "<style scoped>\n",
       "    .dataframe tbody tr th:only-of-type {\n",
       "        vertical-align: middle;\n",
       "    }\n",
       "\n",
       "    .dataframe tbody tr th {\n",
       "        vertical-align: top;\n",
       "    }\n",
       "\n",
       "    .dataframe thead th {\n",
       "        text-align: right;\n",
       "    }\n",
       "</style>\n",
       "<table border=\"1\" class=\"dataframe\">\n",
       "  <thead>\n",
       "    <tr style=\"text-align: right;\">\n",
       "      <th></th>\n",
       "      <th>column</th>\n",
       "      <th>importance</th>\n",
       "    </tr>\n",
       "  </thead>\n",
       "  <tbody>\n",
       "    <tr>\n",
       "      <th>1</th>\n",
       "      <td>Age</td>\n",
       "      <td>0.303690</td>\n",
       "    </tr>\n",
       "    <tr>\n",
       "      <th>4</th>\n",
       "      <td>NumOfProducts</td>\n",
       "      <td>0.211121</td>\n",
       "    </tr>\n",
       "    <tr>\n",
       "      <th>3</th>\n",
       "      <td>Balance</td>\n",
       "      <td>0.119573</td>\n",
       "    </tr>\n",
       "    <tr>\n",
       "      <th>7</th>\n",
       "      <td>EstimatedSalary</td>\n",
       "      <td>0.094358</td>\n",
       "    </tr>\n",
       "    <tr>\n",
       "      <th>0</th>\n",
       "      <td>CreditScore</td>\n",
       "      <td>0.090678</td>\n",
       "    </tr>\n",
       "    <tr>\n",
       "      <th>6</th>\n",
       "      <td>IsActiveMember</td>\n",
       "      <td>0.059143</td>\n",
       "    </tr>\n",
       "    <tr>\n",
       "      <th>2</th>\n",
       "      <td>Tenure</td>\n",
       "      <td>0.046544</td>\n",
       "    </tr>\n",
       "    <tr>\n",
       "      <th>8</th>\n",
       "      <td>Geography_Germany</td>\n",
       "      <td>0.038757</td>\n",
       "    </tr>\n",
       "    <tr>\n",
       "      <th>10</th>\n",
       "      <td>Gender_Male</td>\n",
       "      <td>0.017565</td>\n",
       "    </tr>\n",
       "    <tr>\n",
       "      <th>5</th>\n",
       "      <td>HasCrCard</td>\n",
       "      <td>0.009856</td>\n",
       "    </tr>\n",
       "    <tr>\n",
       "      <th>9</th>\n",
       "      <td>Geography_Spain</td>\n",
       "      <td>0.008717</td>\n",
       "    </tr>\n",
       "  </tbody>\n",
       "</table>\n",
       "</div>"
      ],
      "text/plain": [
       "               column  importance\n",
       "1                 Age    0.303690\n",
       "4       NumOfProducts    0.211121\n",
       "3             Balance    0.119573\n",
       "7     EstimatedSalary    0.094358\n",
       "0         CreditScore    0.090678\n",
       "6      IsActiveMember    0.059143\n",
       "2              Tenure    0.046544\n",
       "8   Geography_Germany    0.038757\n",
       "10        Gender_Male    0.017565\n",
       "5           HasCrCard    0.009856\n",
       "9     Geography_Spain    0.008717"
      ]
     },
     "execution_count": 25,
     "metadata": {},
     "output_type": "execute_result"
    }
   ],
   "source": [
    "pd.DataFrame({\n",
    "    'column': features_train.columns,\n",
    "    'importance': grid['unbalanced'].best_estimator_.feature_importances_\n",
    "}).sort_values(by='importance', ascending=False)"
   ]
  },
  {
   "attachments": {},
   "cell_type": "markdown",
   "metadata": {},
   "source": [
    "**Вывод**\n",
    "\n",
    "На пайчартах хорошо виден дисбаланс классов `Geographi`, `NumOfProducts`, `HasCrCard` и главное `Exited`.\n",
    "\n",
    "Отношение классов так же повторяется в отложенных данных. Значит возвращение их в основной датафрейм не должен повлиять на баланс классов.\n",
    "\n",
    "Выделена тестовая выборка, подготовлены гиперпараметры для перебора в `GridSearchCV`.\n",
    "\n",
    "Метрика F1 на несбалансированных данных почти `0.56`, что ниже целевого `0.59`.\n",
    "\n",
    "AUC-ROC лучшей модели `0.85`\n",
    "\n",
    "Признак `Tenure` пока кажется не слишком значимым."
   ]
  },
  {
   "attachments": {},
   "cell_type": "markdown",
   "metadata": {},
   "source": [
    "## Борьба с дисбалансом"
   ]
  },
  {
   "attachments": {},
   "cell_type": "markdown",
   "metadata": {},
   "source": [
    "У нас дисбаланс в целевом признаке `Exited`. Существует несколько подходов для борьбы с дисбалансом классов: upsampling, downsampling, увеличить вес редкого класса."
   ]
  },
  {
   "cell_type": "code",
   "execution_count": 26,
   "metadata": {},
   "outputs": [
    {
     "data": {
      "text/plain": [
       "0    5428\n",
       "1    1390\n",
       "Name: Exited, dtype: int64"
      ]
     },
     "execution_count": 26,
     "metadata": {},
     "output_type": "execute_result"
    }
   ],
   "source": [
    "target_train.value_counts()"
   ]
  },
  {
   "attachments": {},
   "cell_type": "markdown",
   "metadata": {},
   "source": [
    "**Увеличение выборки**"
   ]
  },
  {
   "attachments": {},
   "cell_type": "markdown",
   "metadata": {},
   "source": [
    "Для подгонки объёма одной выборки под объём другой выборки воспользуемся функцией `resample`. Для увеличения выборки будем подгонять сэмплы с непопулярным классом `1` в целевом признаке под количество объектов популярного класса `0`."
   ]
  },
  {
   "cell_type": "code",
   "execution_count": 27,
   "metadata": {},
   "outputs": [],
   "source": [
    "def resampled_cv(target_train, up=1):\n",
    "    \n",
    "    for train_indexes, test_indexes in kf.split(target_train):\n",
    "        \n",
    "        train_fold = pd.DataFrame()\n",
    "        \n",
    "        train_fold['target'] = target_train.iloc[train_indexes]\n",
    "        \n",
    "        train_fold['kfold'] = train_indexes\n",
    "        \n",
    "        resampled_1 = resample(\n",
    "            train_fold[train_fold['target'] == up],\n",
    "            replace=True,\n",
    "            n_samples=sum(train_fold['target'] != up),\n",
    "            random_state=RANDOM_STATE\n",
    "        )\n",
    "        \n",
    "        train_resampled = shuffle(\n",
    "            pd.concat([resampled_1, train_fold[train_fold['target'] != up]]),\n",
    "            random_state=RANDOM_STATE\n",
    "        )\n",
    "        \n",
    "        yield (np.array(train_resampled['kfold']), test_indexes)"
   ]
  },
  {
   "cell_type": "code",
   "execution_count": 28,
   "metadata": {},
   "outputs": [
    {
     "name": "stdout",
     "output_type": "stream",
     "text": [
      "CPU times: user 3min 59s, sys: 928 ms, total: 4min\n",
      "Wall time: 4min\n"
     ]
    }
   ],
   "source": [
    "%%time\n",
    "\n",
    "grid['upsampled'] = GridSearchCV(clf, parametrs, cv=resampled_cv(target_train), scoring=['f1', 'roc_auc'], refit='f1').fit(features_train, target_train)"
   ]
  },
  {
   "cell_type": "code",
   "execution_count": 29,
   "metadata": {},
   "outputs": [
    {
     "data": {
      "text/html": [
       "<div>\n",
       "<style scoped>\n",
       "    .dataframe tbody tr th:only-of-type {\n",
       "        vertical-align: middle;\n",
       "    }\n",
       "\n",
       "    .dataframe tbody tr th {\n",
       "        vertical-align: top;\n",
       "    }\n",
       "\n",
       "    .dataframe thead th {\n",
       "        text-align: right;\n",
       "    }\n",
       "</style>\n",
       "<table border=\"1\" class=\"dataframe\">\n",
       "  <thead>\n",
       "    <tr style=\"text-align: right;\">\n",
       "      <th></th>\n",
       "      <th>column</th>\n",
       "      <th>importance</th>\n",
       "    </tr>\n",
       "  </thead>\n",
       "  <tbody>\n",
       "    <tr>\n",
       "      <th>1</th>\n",
       "      <td>Age</td>\n",
       "      <td>0.331592</td>\n",
       "    </tr>\n",
       "    <tr>\n",
       "      <th>4</th>\n",
       "      <td>NumOfProducts</td>\n",
       "      <td>0.224824</td>\n",
       "    </tr>\n",
       "    <tr>\n",
       "      <th>3</th>\n",
       "      <td>Balance</td>\n",
       "      <td>0.105093</td>\n",
       "    </tr>\n",
       "    <tr>\n",
       "      <th>0</th>\n",
       "      <td>CreditScore</td>\n",
       "      <td>0.075120</td>\n",
       "    </tr>\n",
       "    <tr>\n",
       "      <th>6</th>\n",
       "      <td>IsActiveMember</td>\n",
       "      <td>0.070745</td>\n",
       "    </tr>\n",
       "    <tr>\n",
       "      <th>7</th>\n",
       "      <td>EstimatedSalary</td>\n",
       "      <td>0.070386</td>\n",
       "    </tr>\n",
       "    <tr>\n",
       "      <th>8</th>\n",
       "      <td>Geography_Germany</td>\n",
       "      <td>0.043868</td>\n",
       "    </tr>\n",
       "    <tr>\n",
       "      <th>2</th>\n",
       "      <td>Tenure</td>\n",
       "      <td>0.041389</td>\n",
       "    </tr>\n",
       "    <tr>\n",
       "      <th>10</th>\n",
       "      <td>Gender_Male</td>\n",
       "      <td>0.021745</td>\n",
       "    </tr>\n",
       "    <tr>\n",
       "      <th>5</th>\n",
       "      <td>HasCrCard</td>\n",
       "      <td>0.008576</td>\n",
       "    </tr>\n",
       "    <tr>\n",
       "      <th>9</th>\n",
       "      <td>Geography_Spain</td>\n",
       "      <td>0.006663</td>\n",
       "    </tr>\n",
       "  </tbody>\n",
       "</table>\n",
       "</div>"
      ],
      "text/plain": [
       "               column  importance\n",
       "1                 Age    0.331592\n",
       "4       NumOfProducts    0.224824\n",
       "3             Balance    0.105093\n",
       "0         CreditScore    0.075120\n",
       "6      IsActiveMember    0.070745\n",
       "7     EstimatedSalary    0.070386\n",
       "8   Geography_Germany    0.043868\n",
       "2              Tenure    0.041389\n",
       "10        Gender_Male    0.021745\n",
       "5           HasCrCard    0.008576\n",
       "9     Geography_Spain    0.006663"
      ]
     },
     "execution_count": 29,
     "metadata": {},
     "output_type": "execute_result"
    }
   ],
   "source": [
    "pd.DataFrame({\n",
    "    'column': features_train.columns,\n",
    "    'importance': grid['upsampled'].best_estimator_.feature_importances_\n",
    "}).sort_values(by='importance', ascending=False)"
   ]
  },
  {
   "attachments": {},
   "cell_type": "markdown",
   "metadata": {},
   "source": [
    "**Уменьшение выборки**"
   ]
  },
  {
   "attachments": {},
   "cell_type": "markdown",
   "metadata": {},
   "source": [
    "Уменьшение выборки аналогично увеличению, только изменяем значение в фильтре на противоположное."
   ]
  },
  {
   "cell_type": "code",
   "execution_count": 30,
   "metadata": {},
   "outputs": [
    {
     "name": "stdout",
     "output_type": "stream",
     "text": [
      "CPU times: user 1min 59s, sys: 684 ms, total: 2min\n",
      "Wall time: 2min\n"
     ]
    }
   ],
   "source": [
    "%%time\n",
    "\n",
    "grid['downsampled'] = GridSearchCV(clf, parametrs, cv=resampled_cv(target_train, up=0), scoring=['f1', 'roc_auc'], refit='f1').fit(features_train, target_train)"
   ]
  },
  {
   "cell_type": "code",
   "execution_count": 31,
   "metadata": {},
   "outputs": [
    {
     "data": {
      "text/html": [
       "<div>\n",
       "<style scoped>\n",
       "    .dataframe tbody tr th:only-of-type {\n",
       "        vertical-align: middle;\n",
       "    }\n",
       "\n",
       "    .dataframe tbody tr th {\n",
       "        vertical-align: top;\n",
       "    }\n",
       "\n",
       "    .dataframe thead th {\n",
       "        text-align: right;\n",
       "    }\n",
       "</style>\n",
       "<table border=\"1\" class=\"dataframe\">\n",
       "  <thead>\n",
       "    <tr style=\"text-align: right;\">\n",
       "      <th></th>\n",
       "      <th>column</th>\n",
       "      <th>importance</th>\n",
       "    </tr>\n",
       "  </thead>\n",
       "  <tbody>\n",
       "    <tr>\n",
       "      <th>1</th>\n",
       "      <td>Age</td>\n",
       "      <td>0.336942</td>\n",
       "    </tr>\n",
       "    <tr>\n",
       "      <th>4</th>\n",
       "      <td>NumOfProducts</td>\n",
       "      <td>0.255863</td>\n",
       "    </tr>\n",
       "    <tr>\n",
       "      <th>3</th>\n",
       "      <td>Balance</td>\n",
       "      <td>0.101135</td>\n",
       "    </tr>\n",
       "    <tr>\n",
       "      <th>6</th>\n",
       "      <td>IsActiveMember</td>\n",
       "      <td>0.070887</td>\n",
       "    </tr>\n",
       "    <tr>\n",
       "      <th>0</th>\n",
       "      <td>CreditScore</td>\n",
       "      <td>0.065946</td>\n",
       "    </tr>\n",
       "    <tr>\n",
       "      <th>7</th>\n",
       "      <td>EstimatedSalary</td>\n",
       "      <td>0.061478</td>\n",
       "    </tr>\n",
       "    <tr>\n",
       "      <th>8</th>\n",
       "      <td>Geography_Germany</td>\n",
       "      <td>0.044749</td>\n",
       "    </tr>\n",
       "    <tr>\n",
       "      <th>2</th>\n",
       "      <td>Tenure</td>\n",
       "      <td>0.031513</td>\n",
       "    </tr>\n",
       "    <tr>\n",
       "      <th>10</th>\n",
       "      <td>Gender_Male</td>\n",
       "      <td>0.018010</td>\n",
       "    </tr>\n",
       "    <tr>\n",
       "      <th>5</th>\n",
       "      <td>HasCrCard</td>\n",
       "      <td>0.006961</td>\n",
       "    </tr>\n",
       "    <tr>\n",
       "      <th>9</th>\n",
       "      <td>Geography_Spain</td>\n",
       "      <td>0.006516</td>\n",
       "    </tr>\n",
       "  </tbody>\n",
       "</table>\n",
       "</div>"
      ],
      "text/plain": [
       "               column  importance\n",
       "1                 Age    0.336942\n",
       "4       NumOfProducts    0.255863\n",
       "3             Balance    0.101135\n",
       "6      IsActiveMember    0.070887\n",
       "0         CreditScore    0.065946\n",
       "7     EstimatedSalary    0.061478\n",
       "8   Geography_Germany    0.044749\n",
       "2              Tenure    0.031513\n",
       "10        Gender_Male    0.018010\n",
       "5           HasCrCard    0.006961\n",
       "9     Geography_Spain    0.006516"
      ]
     },
     "execution_count": 31,
     "metadata": {},
     "output_type": "execute_result"
    }
   ],
   "source": [
    "pd.DataFrame({\n",
    "    'column': features_train.columns,\n",
    "    'importance': grid['downsampled'].best_estimator_.feature_importances_\n",
    "}).sort_values(by='importance', ascending=False)"
   ]
  },
  {
   "attachments": {},
   "cell_type": "markdown",
   "metadata": {},
   "source": [
    "**Взвешивание классов**\n",
    "\n",
    "Добавим к обучающему алгоритму гиперпараметр `class_weight='balanced'`. Остальные гиперпараметры для `GridSearchCV` оставим как были."
   ]
  },
  {
   "cell_type": "code",
   "execution_count": 32,
   "metadata": {},
   "outputs": [
    {
     "name": "stdout",
     "output_type": "stream",
     "text": [
      "CPU times: user 3min 2s, sys: 808 ms, total: 3min 3s\n",
      "Wall time: 3min 3s\n"
     ]
    }
   ],
   "source": [
    "%%time\n",
    "\n",
    "clf = RandomForestClassifier(n_estimators=50, class_weight='balanced', random_state=RANDOM_STATE)\n",
    "\n",
    "grid['balanced'] = GridSearchCV(clf, parametrs, cv=kf, scoring=['f1', 'roc_auc'], refit='f1').fit(features_train, target_train)"
   ]
  },
  {
   "cell_type": "code",
   "execution_count": 33,
   "metadata": {
    "scrolled": true
   },
   "outputs": [
    {
     "data": {
      "text/html": [
       "<div>\n",
       "<style scoped>\n",
       "    .dataframe tbody tr th:only-of-type {\n",
       "        vertical-align: middle;\n",
       "    }\n",
       "\n",
       "    .dataframe tbody tr th {\n",
       "        vertical-align: top;\n",
       "    }\n",
       "\n",
       "    .dataframe thead th {\n",
       "        text-align: right;\n",
       "    }\n",
       "</style>\n",
       "<table border=\"1\" class=\"dataframe\">\n",
       "  <thead>\n",
       "    <tr style=\"text-align: right;\">\n",
       "      <th></th>\n",
       "      <th>column</th>\n",
       "      <th>importance</th>\n",
       "    </tr>\n",
       "  </thead>\n",
       "  <tbody>\n",
       "    <tr>\n",
       "      <th>1</th>\n",
       "      <td>Age</td>\n",
       "      <td>0.332228</td>\n",
       "    </tr>\n",
       "    <tr>\n",
       "      <th>4</th>\n",
       "      <td>NumOfProducts</td>\n",
       "      <td>0.189210</td>\n",
       "    </tr>\n",
       "    <tr>\n",
       "      <th>3</th>\n",
       "      <td>Balance</td>\n",
       "      <td>0.120781</td>\n",
       "    </tr>\n",
       "    <tr>\n",
       "      <th>7</th>\n",
       "      <td>EstimatedSalary</td>\n",
       "      <td>0.082494</td>\n",
       "    </tr>\n",
       "    <tr>\n",
       "      <th>0</th>\n",
       "      <td>CreditScore</td>\n",
       "      <td>0.079316</td>\n",
       "    </tr>\n",
       "    <tr>\n",
       "      <th>6</th>\n",
       "      <td>IsActiveMember</td>\n",
       "      <td>0.057278</td>\n",
       "    </tr>\n",
       "    <tr>\n",
       "      <th>2</th>\n",
       "      <td>Tenure</td>\n",
       "      <td>0.047505</td>\n",
       "    </tr>\n",
       "    <tr>\n",
       "      <th>8</th>\n",
       "      <td>Geography_Germany</td>\n",
       "      <td>0.044699</td>\n",
       "    </tr>\n",
       "    <tr>\n",
       "      <th>10</th>\n",
       "      <td>Gender_Male</td>\n",
       "      <td>0.023909</td>\n",
       "    </tr>\n",
       "    <tr>\n",
       "      <th>5</th>\n",
       "      <td>HasCrCard</td>\n",
       "      <td>0.011517</td>\n",
       "    </tr>\n",
       "    <tr>\n",
       "      <th>9</th>\n",
       "      <td>Geography_Spain</td>\n",
       "      <td>0.011064</td>\n",
       "    </tr>\n",
       "  </tbody>\n",
       "</table>\n",
       "</div>"
      ],
      "text/plain": [
       "               column  importance\n",
       "1                 Age    0.332228\n",
       "4       NumOfProducts    0.189210\n",
       "3             Balance    0.120781\n",
       "7     EstimatedSalary    0.082494\n",
       "0         CreditScore    0.079316\n",
       "6      IsActiveMember    0.057278\n",
       "2              Tenure    0.047505\n",
       "8   Geography_Germany    0.044699\n",
       "10        Gender_Male    0.023909\n",
       "5           HasCrCard    0.011517\n",
       "9     Geography_Spain    0.011064"
      ]
     },
     "execution_count": 33,
     "metadata": {},
     "output_type": "execute_result"
    }
   ],
   "source": [
    "pd.DataFrame({\n",
    "    'column': features_train.columns,\n",
    "    'importance': grid['balanced'].best_estimator_.feature_importances_\n",
    "}).sort_values(by='importance', ascending=False)"
   ]
  },
  {
   "attachments": {},
   "cell_type": "markdown",
   "metadata": {},
   "source": [
    "Сведём результаты в таблицу."
   ]
  },
  {
   "cell_type": "code",
   "execution_count": 34,
   "metadata": {},
   "outputs": [
    {
     "data": {
      "text/html": [
       "<div>\n",
       "<style scoped>\n",
       "    .dataframe tbody tr th:only-of-type {\n",
       "        vertical-align: middle;\n",
       "    }\n",
       "\n",
       "    .dataframe tbody tr th {\n",
       "        vertical-align: top;\n",
       "    }\n",
       "\n",
       "    .dataframe thead th {\n",
       "        text-align: right;\n",
       "    }\n",
       "</style>\n",
       "<table border=\"1\" class=\"dataframe\">\n",
       "  <thead>\n",
       "    <tr style=\"text-align: right;\">\n",
       "      <th></th>\n",
       "      <th>method</th>\n",
       "      <th>F1</th>\n",
       "      <th>AUC-ROC:</th>\n",
       "      <th>max_depth</th>\n",
       "      <th>min_samples_leaf</th>\n",
       "      <th>min_samples_split</th>\n",
       "    </tr>\n",
       "  </thead>\n",
       "  <tbody>\n",
       "    <tr>\n",
       "      <th>3</th>\n",
       "      <td>balanced</td>\n",
       "      <td>0.614151</td>\n",
       "      <td>0.852456</td>\n",
       "      <td>11</td>\n",
       "      <td>6</td>\n",
       "      <td>2</td>\n",
       "    </tr>\n",
       "    <tr>\n",
       "      <th>1</th>\n",
       "      <td>upsampled</td>\n",
       "      <td>0.613370</td>\n",
       "      <td>0.849366</td>\n",
       "      <td>11</td>\n",
       "      <td>7</td>\n",
       "      <td>2</td>\n",
       "    </tr>\n",
       "    <tr>\n",
       "      <th>2</th>\n",
       "      <td>downsampled</td>\n",
       "      <td>0.587679</td>\n",
       "      <td>0.846372</td>\n",
       "      <td>9</td>\n",
       "      <td>2</td>\n",
       "      <td>8</td>\n",
       "    </tr>\n",
       "    <tr>\n",
       "      <th>0</th>\n",
       "      <td>unbalanced</td>\n",
       "      <td>0.555634</td>\n",
       "      <td>0.849511</td>\n",
       "      <td>11</td>\n",
       "      <td>1</td>\n",
       "      <td>8</td>\n",
       "    </tr>\n",
       "  </tbody>\n",
       "</table>\n",
       "</div>"
      ],
      "text/plain": [
       "        method        F1  AUC-ROC:  max_depth  min_samples_leaf  \\\n",
       "3     balanced  0.614151  0.852456         11                 6   \n",
       "1    upsampled  0.613370  0.849366         11                 7   \n",
       "2  downsampled  0.587679  0.846372          9                 2   \n",
       "0   unbalanced  0.555634  0.849511         11                 1   \n",
       "\n",
       "   min_samples_split  \n",
       "3                  2  \n",
       "1                  2  \n",
       "2                  8  \n",
       "0                  8  "
      ]
     },
     "execution_count": 34,
     "metadata": {},
     "output_type": "execute_result"
    }
   ],
   "source": [
    "pivot = []\n",
    "\n",
    "for method in grid.keys():\n",
    "    pivot.append(\n",
    "        {\n",
    "            'method': method,\n",
    "            'F1': grid[method].cv_results_['mean_test_f1'][grid[method].best_index_],\n",
    "            'AUC-ROC:': grid[method].cv_results_['mean_test_roc_auc'][grid[method].best_index_],\n",
    "            'max_depth': grid[method].best_params_['max_depth'],\n",
    "            'min_samples_leaf': grid[method].best_params_['min_samples_leaf'],\n",
    "            'min_samples_split': grid[method].best_params_['min_samples_split']\n",
    "        }\n",
    "    )\n",
    "\n",
    "pd.DataFrame(pivot).sort_values(by='F1', ascending=False)"
   ]
  },
  {
   "attachments": {},
   "cell_type": "markdown",
   "metadata": {},
   "source": [
    "**Вывод**\n",
    "\n",
    "Наилучший результат мы получили применив взвешивание классов. `F1 == 0.614`\n",
    "\n",
    "Признак `Tenure` всё ещё не кажется значимым. На финальном обучении мы выбросим этот признак, и добавим строки из отложенного датафрейма `df_dropped` в обучающую выборку."
   ]
  },
  {
   "attachments": {},
   "cell_type": "markdown",
   "metadata": {},
   "source": [
    "## Тестирование модели"
   ]
  },
  {
   "attachments": {},
   "cell_type": "markdown",
   "metadata": {},
   "source": [
    "Еще раз подготовим обучающую выборку и обучим лучшую модель."
   ]
  },
  {
   "attachments": {},
   "cell_type": "markdown",
   "metadata": {},
   "source": [
    "Выбросим не значимый признак с пропусками."
   ]
  },
  {
   "cell_type": "code",
   "execution_count": 35,
   "metadata": {},
   "outputs": [],
   "source": [
    "features_test = features_test.drop(columns='Tenure')\n",
    "features_train = features_train.drop(columns='Tenure')\n",
    "df_dropped = df_dropped.drop(columns='Tenure')"
   ]
  },
  {
   "attachments": {},
   "cell_type": "markdown",
   "metadata": {},
   "source": [
    "Масштабируем количественные признаки в df_dropped."
   ]
  },
  {
   "cell_type": "code",
   "execution_count": 36,
   "metadata": {},
   "outputs": [
    {
     "data": {
      "text/html": [
       "<div>\n",
       "<style scoped>\n",
       "    .dataframe tbody tr th:only-of-type {\n",
       "        vertical-align: middle;\n",
       "    }\n",
       "\n",
       "    .dataframe tbody tr th {\n",
       "        vertical-align: top;\n",
       "    }\n",
       "\n",
       "    .dataframe thead th {\n",
       "        text-align: right;\n",
       "    }\n",
       "</style>\n",
       "<table border=\"1\" class=\"dataframe\">\n",
       "  <thead>\n",
       "    <tr style=\"text-align: right;\">\n",
       "      <th></th>\n",
       "      <th>CreditScore</th>\n",
       "      <th>Geography</th>\n",
       "      <th>Gender</th>\n",
       "      <th>Age</th>\n",
       "      <th>Balance</th>\n",
       "      <th>NumOfProducts</th>\n",
       "      <th>HasCrCard</th>\n",
       "      <th>IsActiveMember</th>\n",
       "      <th>EstimatedSalary</th>\n",
       "      <th>Exited</th>\n",
       "    </tr>\n",
       "  </thead>\n",
       "  <tbody>\n",
       "    <tr>\n",
       "      <th>30</th>\n",
       "      <td>-0.614376</td>\n",
       "      <td>Spain</td>\n",
       "      <td>Female</td>\n",
       "      <td>0.009734</td>\n",
       "      <td>-1.228794</td>\n",
       "      <td>2.525387</td>\n",
       "      <td>1</td>\n",
       "      <td>0</td>\n",
       "      <td>0.697907</td>\n",
       "      <td>1</td>\n",
       "    </tr>\n",
       "    <tr>\n",
       "      <th>48</th>\n",
       "      <td>-1.038620</td>\n",
       "      <td>Germany</td>\n",
       "      <td>Male</td>\n",
       "      <td>-0.084270</td>\n",
       "      <td>0.429142</td>\n",
       "      <td>-0.915478</td>\n",
       "      <td>0</td>\n",
       "      <td>1</td>\n",
       "      <td>-0.162139</td>\n",
       "      <td>0</td>\n",
       "    </tr>\n",
       "    <tr>\n",
       "      <th>51</th>\n",
       "      <td>-0.676461</td>\n",
       "      <td>Germany</td>\n",
       "      <td>Male</td>\n",
       "      <td>-0.272278</td>\n",
       "      <td>1.113211</td>\n",
       "      <td>0.804954</td>\n",
       "      <td>0</td>\n",
       "      <td>0</td>\n",
       "      <td>-0.239376</td>\n",
       "      <td>0</td>\n",
       "    </tr>\n",
       "    <tr>\n",
       "      <th>53</th>\n",
       "      <td>0.047858</td>\n",
       "      <td>Germany</td>\n",
       "      <td>Male</td>\n",
       "      <td>0.197742</td>\n",
       "      <td>0.784659</td>\n",
       "      <td>-0.915478</td>\n",
       "      <td>0</td>\n",
       "      <td>0</td>\n",
       "      <td>1.106701</td>\n",
       "      <td>1</td>\n",
       "    </tr>\n",
       "    <tr>\n",
       "      <th>60</th>\n",
       "      <td>0.948082</td>\n",
       "      <td>Germany</td>\n",
       "      <td>Male</td>\n",
       "      <td>-0.366282</td>\n",
       "      <td>0.965781</td>\n",
       "      <td>-0.915478</td>\n",
       "      <td>0</td>\n",
       "      <td>0</td>\n",
       "      <td>-0.272587</td>\n",
       "      <td>0</td>\n",
       "    </tr>\n",
       "  </tbody>\n",
       "</table>\n",
       "</div>"
      ],
      "text/plain": [
       "    CreditScore Geography  Gender       Age   Balance  NumOfProducts  \\\n",
       "30    -0.614376     Spain  Female  0.009734 -1.228794       2.525387   \n",
       "48    -1.038620   Germany    Male -0.084270  0.429142      -0.915478   \n",
       "51    -0.676461   Germany    Male -0.272278  1.113211       0.804954   \n",
       "53     0.047858   Germany    Male  0.197742  0.784659      -0.915478   \n",
       "60     0.948082   Germany    Male -0.366282  0.965781      -0.915478   \n",
       "\n",
       "    HasCrCard  IsActiveMember  EstimatedSalary  Exited  \n",
       "30          1               0         0.697907       1  \n",
       "48          0               1        -0.162139       0  \n",
       "51          0               0        -0.239376       0  \n",
       "53          0               0         1.106701       1  \n",
       "60          0               0        -0.272587       0  "
      ]
     },
     "execution_count": 36,
     "metadata": {},
     "output_type": "execute_result"
    }
   ],
   "source": [
    "df_dropped[numeric] = scaler.transform(df_dropped[numeric])\n",
    "\n",
    "df_dropped.head()"
   ]
  },
  {
   "attachments": {},
   "cell_type": "markdown",
   "metadata": {},
   "source": [
    "Добавим в подготовленные обучающие выборки объекты из отложенного датафрейма `df_dropped`."
   ]
  },
  {
   "cell_type": "code",
   "execution_count": 37,
   "metadata": {},
   "outputs": [
    {
     "name": "stdout",
     "output_type": "stream",
     "text": [
      "(7727, 10)\n",
      "(7727,)\n"
     ]
    }
   ],
   "source": [
    "features_train = pd.concat([\n",
    "    features_train,\n",
    "    # ohe без целевого признака\n",
    "    pd.get_dummies(df_dropped.drop(columns='Exited'), drop_first=True)\n",
    "])\n",
    "\n",
    "target_train = pd.concat([target_train, df_dropped['Exited']])\n",
    "\n",
    "print(features_train.shape, target_train.shape, sep='\\n')"
   ]
  },
  {
   "attachments": {},
   "cell_type": "markdown",
   "metadata": {},
   "source": [
    "Обучим модель на новых данных, задав в качестве гиперпараметра `class_weight='balanced'`"
   ]
  },
  {
   "cell_type": "code",
   "execution_count": 38,
   "metadata": {},
   "outputs": [
    {
     "name": "stdout",
     "output_type": "stream",
     "text": [
      "CPU times: user 3min 23s, sys: 704 ms, total: 3min 23s\n",
      "Wall time: 3min 24s\n"
     ]
    }
   ],
   "source": [
    "%%time\n",
    "\n",
    "clf = RandomForestClassifier(n_estimators=50, class_weight='balanced', random_state=RANDOM_STATE)\n",
    "\n",
    "grid['final'] = GridSearchCV(clf, parametrs, cv=kf, scoring=['f1', 'roc_auc'], refit='f1').fit(features_train, target_train)"
   ]
  },
  {
   "cell_type": "code",
   "execution_count": 39,
   "metadata": {
    "scrolled": true
   },
   "outputs": [
    {
     "name": "stdout",
     "output_type": "stream",
     "text": [
      "F1-мера: 0.6155072517620895\n",
      "AUC-ROC: 0.8532831749557909\n"
     ]
    }
   ],
   "source": [
    "print('F1-мера:', grid['final'].cv_results_['mean_test_f1'][grid['final'].best_index_])\n",
    "print('AUC-ROC:', grid['final'].cv_results_['mean_test_roc_auc'][grid['final'].best_index_])"
   ]
  },
  {
   "attachments": {},
   "cell_type": "markdown",
   "metadata": {},
   "source": [
    "**Тестирование**"
   ]
  },
  {
   "attachments": {},
   "cell_type": "markdown",
   "metadata": {},
   "source": [
    "Посчитаем F1-меру."
   ]
  },
  {
   "cell_type": "code",
   "execution_count": 40,
   "metadata": {},
   "outputs": [
    {
     "data": {
      "text/plain": [
       "0.6466942148760331"
      ]
     },
     "execution_count": 40,
     "metadata": {},
     "output_type": "execute_result"
    }
   ],
   "source": [
    "f1_score(target_test, grid['final'].predict(features_test))"
   ]
  },
  {
   "attachments": {},
   "cell_type": "markdown",
   "metadata": {},
   "source": [
    "Подсчитаем AUC-ROC, отрисуем график."
   ]
  },
  {
   "cell_type": "code",
   "execution_count": 41,
   "metadata": {},
   "outputs": [],
   "source": [
    "probabilities_one_test = grid['final'].predict_proba(features_test)[:, 1]\n",
    "fpr, tpr, thresholds = roc_curve(target_test, probabilities_one_test)"
   ]
  },
  {
   "cell_type": "code",
   "execution_count": 42,
   "metadata": {
    "scrolled": false
   },
   "outputs": [
    {
     "data": {
      "image/png": "[encoded data removed]",
      "text/plain": [
       "<Figure size 576x576 with 1 Axes>"
      ]
     },
     "metadata": {
      "needs_background": "light"
     },
     "output_type": "display_data"
    },
    {
     "name": "stdout",
     "output_type": "stream",
     "text": [
      "Значение AUC-ROC: 0.8796058024055966\n"
     ]
    }
   ],
   "source": [
    "plt.figure(figsize=(8, 8))\n",
    "\n",
    "plt.plot(fpr, tpr)\n",
    "# ROC-кривая случайной модели (выглядит как прямая)\n",
    "plt.plot([0, 1], [0, 1], linestyle='--')\n",
    "\n",
    "plt.xlim([0, 1])\n",
    "plt.ylim([0, 1])\n",
    "\n",
    "plt.xlabel('False Positive Rate')\n",
    "plt.ylabel('True Positive Rate')\n",
    "\n",
    "plt.title('ROC-кривая')\n",
    "\n",
    "plt.show()\n",
    "\n",
    "print('Значение AUC-ROC:', roc_auc_score(target_test, probabilities_one_test))"
   ]
  },
  {
   "attachments": {},
   "cell_type": "markdown",
   "metadata": {},
   "source": [
    "**Вывод**\n",
    "\n",
    "Был дан хорошо подготовленный датасет. Из проблем был только дисбаланс классов и пропущенные значения в столбце `Tenure`.\n",
    "\n",
    "Признаки `Tenure`, `RowNumber`, `CustomerId`, `Surname` были выброшены, т.к. не влияли на модель.\n",
    "\n",
    "Признаки `Geography` и `Gender`, выраженные в текстовом формате, были перекодированы в числовой формат методом OHE.\n",
    "\n",
    "На пайчартах хорошо виден дисбаланс классов `Geography`, `NumOfProducts`, `HasCrCard` и `Exited`.\n",
    "\n",
    "Для обучения модели выбран популярный алгоритм случайный лес.\n",
    "Для подбора гиперпараметров и реализации кросс-валидации использован GridSearchCV.\n",
    "\n",
    "Метрика F1 на несбалансированных данных почти `0.556`, что ниже целевого `0.59`.\n",
    "\n",
    "Из трёх изучаемых способов балансировки классов наилучший результат (на имеющихся данных) мы получили при взвешивании классов. После финального обучения `F1 == 0.613` на кросс-валидации.\n",
    "\n",
    "На тестовой выборке значение  `F1 == 0.64`.\n",
    "\n",
    "Значение AUC-ROC: 0.88"
   ]
  }
 ],
 "metadata": {
  "ExecuteTimeLog": [
   {
    "duration": 404,
    "start_time": "2022-12-06T19:44:44.695Z"
   },
   {
    "duration": 105,
    "start_time": "2022-12-06T19:46:58.436Z"
   },
   {
    "duration": 14,
    "start_time": "2022-12-06T19:48:04.188Z"
   },
   {
    "duration": 72,
    "start_time": "2022-12-06T19:49:16.241Z"
   },
   {
    "duration": 8,
    "start_time": "2022-12-06T19:49:24.707Z"
   },
   {
    "duration": 19,
    "start_time": "2022-12-06T19:49:54.451Z"
   },
   {
    "duration": 41,
    "start_time": "2022-12-06T19:50:13.527Z"
   },
   {
    "duration": 8469,
    "start_time": "2022-12-06T19:52:34.951Z"
   },
   {
    "duration": 8330,
    "start_time": "2022-12-06T19:53:17.125Z"
   },
   {
    "duration": 8561,
    "start_time": "2022-12-06T19:54:18.125Z"
   },
   {
    "duration": 45,
    "start_time": "2022-12-07T14:54:16.896Z"
   },
   {
    "duration": 420,
    "start_time": "2022-12-07T14:54:28.807Z"
   },
   {
    "duration": 103,
    "start_time": "2022-12-07T14:54:29.229Z"
   },
   {
    "duration": 12,
    "start_time": "2022-12-07T14:54:29.333Z"
   },
   {
    "duration": 39,
    "start_time": "2022-12-07T14:54:29.346Z"
   },
   {
    "duration": 3,
    "start_time": "2022-12-07T14:54:29.387Z"
   },
   {
    "duration": 5900,
    "start_time": "2022-12-07T14:54:29.391Z"
   },
   {
    "duration": 7,
    "start_time": "2022-12-07T15:54:12.536Z"
   },
   {
    "duration": 7,
    "start_time": "2022-12-07T15:54:54.697Z"
   },
   {
    "duration": 10,
    "start_time": "2022-12-07T16:00:09.681Z"
   },
   {
    "duration": 371,
    "start_time": "2022-12-16T08:34:27.517Z"
   },
   {
    "duration": 100,
    "start_time": "2022-12-16T08:34:27.890Z"
   },
   {
    "duration": 11,
    "start_time": "2022-12-16T08:34:27.991Z"
   },
   {
    "duration": 22,
    "start_time": "2022-12-16T08:34:28.004Z"
   },
   {
    "duration": 50,
    "start_time": "2022-12-16T08:34:28.028Z"
   },
   {
    "duration": 7992,
    "start_time": "2022-12-16T08:34:28.079Z"
   },
   {
    "duration": 7,
    "start_time": "2022-12-16T08:34:36.073Z"
   },
   {
    "duration": 9,
    "start_time": "2022-12-16T08:34:36.081Z"
   },
   {
    "duration": 11,
    "start_time": "2022-12-16T08:34:36.091Z"
   },
   {
    "duration": 66,
    "start_time": "2022-12-16T08:50:52.512Z"
   },
   {
    "duration": 6,
    "start_time": "2022-12-16T08:51:08.776Z"
   },
   {
    "duration": 5,
    "start_time": "2022-12-16T08:51:55.545Z"
   },
   {
    "duration": 18,
    "start_time": "2022-12-16T08:52:29.873Z"
   },
   {
    "duration": 5,
    "start_time": "2022-12-16T08:53:04.074Z"
   },
   {
    "duration": 8,
    "start_time": "2022-12-16T08:55:25.290Z"
   },
   {
    "duration": 407,
    "start_time": "2022-12-17T08:17:28.621Z"
   },
   {
    "duration": 112,
    "start_time": "2022-12-17T08:17:29.030Z"
   },
   {
    "duration": 12,
    "start_time": "2022-12-17T08:17:29.144Z"
   },
   {
    "duration": 14,
    "start_time": "2022-12-17T08:17:29.158Z"
   },
   {
    "duration": 37,
    "start_time": "2022-12-17T08:17:29.173Z"
   },
   {
    "duration": 8353,
    "start_time": "2022-12-17T08:17:29.212Z"
   },
   {
    "duration": 6,
    "start_time": "2022-12-17T08:17:37.567Z"
   },
   {
    "duration": 11,
    "start_time": "2022-12-17T08:17:37.575Z"
   },
   {
    "duration": 5,
    "start_time": "2022-12-17T08:17:37.587Z"
   },
   {
    "duration": 5,
    "start_time": "2022-12-17T08:17:37.596Z"
   },
   {
    "duration": 7,
    "start_time": "2022-12-17T08:17:37.603Z"
   },
   {
    "duration": 4,
    "start_time": "2022-12-17T08:27:15.193Z"
   },
   {
    "duration": 3,
    "start_time": "2022-12-17T08:34:22.840Z"
   },
   {
    "duration": 579,
    "start_time": "2022-12-17T08:52:20.204Z"
   },
   {
    "duration": 52,
    "start_time": "2022-12-17T08:52:20.785Z"
   },
   {
    "duration": 11,
    "start_time": "2022-12-17T08:52:20.839Z"
   },
   {
    "duration": 10,
    "start_time": "2022-12-17T08:52:20.852Z"
   },
   {
    "duration": 38,
    "start_time": "2022-12-17T08:52:20.863Z"
   },
   {
    "duration": 7967,
    "start_time": "2022-12-17T08:52:20.903Z"
   },
   {
    "duration": 7,
    "start_time": "2022-12-17T08:52:28.871Z"
   },
   {
    "duration": 16,
    "start_time": "2022-12-17T08:52:28.879Z"
   },
   {
    "duration": 10,
    "start_time": "2022-12-17T08:52:28.896Z"
   },
   {
    "duration": 11,
    "start_time": "2022-12-17T08:52:28.909Z"
   },
   {
    "duration": 10,
    "start_time": "2022-12-17T08:52:28.922Z"
   },
   {
    "duration": 4,
    "start_time": "2022-12-17T08:52:28.933Z"
   },
   {
    "duration": 19,
    "start_time": "2022-12-17T08:52:28.938Z"
   },
   {
    "duration": 160,
    "start_time": "2022-12-17T09:11:24.391Z"
   },
   {
    "duration": 269,
    "start_time": "2022-12-17T09:12:19.421Z"
   },
   {
    "duration": 627,
    "start_time": "2022-12-17T09:18:52.667Z"
   },
   {
    "duration": 761,
    "start_time": "2022-12-17T09:19:30.494Z"
   },
   {
    "duration": 510,
    "start_time": "2022-12-17T09:20:14.825Z"
   },
   {
    "duration": 466,
    "start_time": "2022-12-17T09:20:29.009Z"
   },
   {
    "duration": 251,
    "start_time": "2022-12-17T09:23:35.526Z"
   },
   {
    "duration": 99,
    "start_time": "2022-12-17T09:23:55.545Z"
   },
   {
    "duration": 445,
    "start_time": "2022-12-17T09:24:13.039Z"
   },
   {
    "duration": 453,
    "start_time": "2022-12-17T09:26:22.243Z"
   },
   {
    "duration": 8,
    "start_time": "2022-12-17T09:29:43.253Z"
   },
   {
    "duration": 5,
    "start_time": "2022-12-17T09:29:48.579Z"
   },
   {
    "duration": 642,
    "start_time": "2022-12-17T09:29:50.429Z"
   },
   {
    "duration": 4,
    "start_time": "2022-12-17T09:36:07.314Z"
   },
   {
    "duration": 583,
    "start_time": "2022-12-17T09:36:08.413Z"
   },
   {
    "duration": 52,
    "start_time": "2022-12-17T09:40:48.542Z"
   },
   {
    "duration": 573,
    "start_time": "2022-12-17T09:40:50.413Z"
   },
   {
    "duration": 5,
    "start_time": "2022-12-17T09:41:09.245Z"
   },
   {
    "duration": 452,
    "start_time": "2022-12-17T09:41:17.972Z"
   },
   {
    "duration": 4,
    "start_time": "2022-12-17T09:45:47.186Z"
   },
   {
    "duration": 481,
    "start_time": "2022-12-17T09:45:48.298Z"
   },
   {
    "duration": 651,
    "start_time": "2022-12-17T09:54:55.723Z"
   },
   {
    "duration": 53,
    "start_time": "2022-12-17T09:54:56.376Z"
   },
   {
    "duration": 12,
    "start_time": "2022-12-17T09:54:56.431Z"
   },
   {
    "duration": 10,
    "start_time": "2022-12-17T09:54:56.445Z"
   },
   {
    "duration": 56,
    "start_time": "2022-12-17T09:54:56.457Z"
   },
   {
    "duration": 8038,
    "start_time": "2022-12-17T09:54:56.515Z"
   },
   {
    "duration": 8,
    "start_time": "2022-12-17T09:55:04.555Z"
   },
   {
    "duration": 9,
    "start_time": "2022-12-17T09:55:04.565Z"
   },
   {
    "duration": 6,
    "start_time": "2022-12-17T09:55:04.575Z"
   },
   {
    "duration": 13,
    "start_time": "2022-12-17T09:55:04.583Z"
   },
   {
    "duration": 8,
    "start_time": "2022-12-17T09:55:04.598Z"
   },
   {
    "duration": 4,
    "start_time": "2022-12-17T09:55:04.607Z"
   },
   {
    "duration": 489,
    "start_time": "2022-12-17T09:55:04.613Z"
   },
   {
    "duration": 3,
    "start_time": "2022-12-17T09:55:05.104Z"
   },
   {
    "duration": 4,
    "start_time": "2022-12-17T09:55:14.782Z"
   },
   {
    "duration": 564,
    "start_time": "2022-12-17T09:55:16.644Z"
   },
   {
    "duration": 46,
    "start_time": "2022-12-17T10:06:53.959Z"
   },
   {
    "duration": 597,
    "start_time": "2022-12-17T10:07:20.182Z"
   },
   {
    "duration": 51,
    "start_time": "2022-12-17T10:07:20.780Z"
   },
   {
    "duration": 11,
    "start_time": "2022-12-17T10:07:20.833Z"
   },
   {
    "duration": 9,
    "start_time": "2022-12-17T10:07:20.846Z"
   },
   {
    "duration": 44,
    "start_time": "2022-12-17T10:07:20.857Z"
   },
   {
    "duration": 7718,
    "start_time": "2022-12-17T10:07:20.903Z"
   },
   {
    "duration": 6,
    "start_time": "2022-12-17T10:07:28.623Z"
   },
   {
    "duration": 8,
    "start_time": "2022-12-17T10:07:28.630Z"
   },
   {
    "duration": 5,
    "start_time": "2022-12-17T10:07:28.640Z"
   },
   {
    "duration": 6,
    "start_time": "2022-12-17T10:07:28.647Z"
   },
   {
    "duration": 9,
    "start_time": "2022-12-17T10:07:28.654Z"
   },
   {
    "duration": 5,
    "start_time": "2022-12-17T10:07:28.664Z"
   },
   {
    "duration": 464,
    "start_time": "2022-12-17T10:07:28.670Z"
   },
   {
    "duration": 568,
    "start_time": "2022-12-17T10:07:29.135Z"
   },
   {
    "duration": 2,
    "start_time": "2022-12-17T10:07:29.705Z"
   },
   {
    "duration": 476,
    "start_time": "2022-12-17T10:09:01.250Z"
   },
   {
    "duration": 458,
    "start_time": "2022-12-17T10:11:43.403Z"
   },
   {
    "duration": 478,
    "start_time": "2022-12-17T10:12:00.734Z"
   },
   {
    "duration": 587,
    "start_time": "2022-12-17T11:16:14.116Z"
   },
   {
    "duration": 52,
    "start_time": "2022-12-17T11:16:14.704Z"
   },
   {
    "duration": 13,
    "start_time": "2022-12-17T11:16:14.757Z"
   },
   {
    "duration": 10,
    "start_time": "2022-12-17T11:16:14.772Z"
   },
   {
    "duration": 43,
    "start_time": "2022-12-17T11:16:14.783Z"
   },
   {
    "duration": 7958,
    "start_time": "2022-12-17T11:16:14.828Z"
   },
   {
    "duration": 6,
    "start_time": "2022-12-17T11:16:22.788Z"
   },
   {
    "duration": 18,
    "start_time": "2022-12-17T11:16:22.795Z"
   },
   {
    "duration": 7,
    "start_time": "2022-12-17T11:16:22.815Z"
   },
   {
    "duration": 8,
    "start_time": "2022-12-17T11:16:22.824Z"
   },
   {
    "duration": 10,
    "start_time": "2022-12-17T11:16:22.834Z"
   },
   {
    "duration": 477,
    "start_time": "2022-12-17T11:16:22.845Z"
   },
   {
    "duration": 626,
    "start_time": "2022-12-17T11:16:23.324Z"
   },
   {
    "duration": 11,
    "start_time": "2022-12-17T11:16:23.952Z"
   },
   {
    "duration": 72,
    "start_time": "2022-12-17T11:17:54.657Z"
   },
   {
    "duration": 72,
    "start_time": "2022-12-17T11:18:10.429Z"
   },
   {
    "duration": 13,
    "start_time": "2022-12-17T11:18:21.268Z"
   },
   {
    "duration": 16,
    "start_time": "2022-12-17T11:18:35.365Z"
   },
   {
    "duration": 11,
    "start_time": "2022-12-17T11:18:47.377Z"
   },
   {
    "duration": 12,
    "start_time": "2022-12-17T11:19:03.507Z"
   },
   {
    "duration": 11,
    "start_time": "2022-12-17T11:19:33.159Z"
   },
   {
    "duration": 11,
    "start_time": "2022-12-17T11:19:41.195Z"
   },
   {
    "duration": 8,
    "start_time": "2022-12-17T11:41:11.052Z"
   },
   {
    "duration": 623,
    "start_time": "2022-12-17T11:41:19.706Z"
   },
   {
    "duration": 10,
    "start_time": "2022-12-17T11:41:25.732Z"
   },
   {
    "duration": 11,
    "start_time": "2022-12-17T11:43:49.675Z"
   },
   {
    "duration": 11,
    "start_time": "2022-12-17T11:44:18.662Z"
   },
   {
    "duration": 10,
    "start_time": "2022-12-17T11:44:27.505Z"
   },
   {
    "duration": 1256,
    "start_time": "2022-12-17T12:16:35.305Z"
   },
   {
    "duration": 51,
    "start_time": "2022-12-17T12:16:36.563Z"
   },
   {
    "duration": 11,
    "start_time": "2022-12-17T12:16:36.616Z"
   },
   {
    "duration": 10,
    "start_time": "2022-12-17T12:16:36.629Z"
   },
   {
    "duration": 57,
    "start_time": "2022-12-17T12:16:36.640Z"
   },
   {
    "duration": 7930,
    "start_time": "2022-12-17T12:16:36.699Z"
   },
   {
    "duration": 8,
    "start_time": "2022-12-17T12:16:44.631Z"
   },
   {
    "duration": 10,
    "start_time": "2022-12-17T12:16:44.641Z"
   },
   {
    "duration": 5,
    "start_time": "2022-12-17T12:16:44.653Z"
   },
   {
    "duration": 6,
    "start_time": "2022-12-17T12:16:44.661Z"
   },
   {
    "duration": 29,
    "start_time": "2022-12-17T12:16:44.668Z"
   },
   {
    "duration": 479,
    "start_time": "2022-12-17T12:16:44.699Z"
   },
   {
    "duration": 493,
    "start_time": "2022-12-17T12:16:45.179Z"
   },
   {
    "duration": 11,
    "start_time": "2022-12-17T12:16:45.674Z"
   },
   {
    "duration": 10,
    "start_time": "2022-12-17T12:16:45.697Z"
   },
   {
    "duration": 192,
    "start_time": "2022-12-17T12:18:58.550Z"
   },
   {
    "duration": 3,
    "start_time": "2022-12-17T12:32:42.347Z"
   },
   {
    "duration": 3,
    "start_time": "2022-12-17T12:33:02.041Z"
   },
   {
    "duration": 1385,
    "start_time": "2022-12-17T12:40:48.595Z"
   },
   {
    "duration": 52,
    "start_time": "2022-12-17T12:40:49.982Z"
   },
   {
    "duration": 14,
    "start_time": "2022-12-17T12:40:50.035Z"
   },
   {
    "duration": 16,
    "start_time": "2022-12-17T12:40:50.051Z"
   },
   {
    "duration": 55,
    "start_time": "2022-12-17T12:40:50.069Z"
   },
   {
    "duration": 8027,
    "start_time": "2022-12-17T12:40:50.127Z"
   },
   {
    "duration": 7,
    "start_time": "2022-12-17T12:40:58.155Z"
   },
   {
    "duration": 9,
    "start_time": "2022-12-17T12:40:58.164Z"
   },
   {
    "duration": 9,
    "start_time": "2022-12-17T12:40:58.175Z"
   },
   {
    "duration": 7,
    "start_time": "2022-12-17T12:40:58.186Z"
   },
   {
    "duration": 8,
    "start_time": "2022-12-17T12:40:58.194Z"
   },
   {
    "duration": 493,
    "start_time": "2022-12-17T12:40:58.203Z"
   },
   {
    "duration": 495,
    "start_time": "2022-12-17T12:40:58.698Z"
   },
   {
    "duration": 13,
    "start_time": "2022-12-17T12:40:59.194Z"
   },
   {
    "duration": 14,
    "start_time": "2022-12-17T12:40:59.208Z"
   },
   {
    "duration": 4,
    "start_time": "2022-12-17T12:40:59.224Z"
   },
   {
    "duration": 6,
    "start_time": "2022-12-17T12:40:59.229Z"
   },
   {
    "duration": 494990,
    "start_time": "2022-12-17T12:40:59.236Z"
   },
   {
    "duration": 4,
    "start_time": "2022-12-17T12:52:32.996Z"
   },
   {
    "duration": 4,
    "start_time": "2022-12-17T12:52:54.399Z"
   },
   {
    "duration": 100,
    "start_time": "2022-12-17T12:58:48.649Z"
   },
   {
    "duration": 8,
    "start_time": "2022-12-17T12:59:18.761Z"
   },
   {
    "duration": 12,
    "start_time": "2022-12-17T13:01:24.471Z"
   },
   {
    "duration": 14,
    "start_time": "2022-12-17T13:02:36.367Z"
   },
   {
    "duration": 14,
    "start_time": "2022-12-17T13:03:43.621Z"
   },
   {
    "duration": 361,
    "start_time": "2022-12-17T13:26:47.698Z"
   },
   {
    "duration": 478,
    "start_time": "2022-12-17T13:29:33.754Z"
   },
   {
    "duration": 1349,
    "start_time": "2022-12-17T13:47:37.010Z"
   },
   {
    "duration": 54,
    "start_time": "2022-12-17T13:47:38.361Z"
   },
   {
    "duration": 14,
    "start_time": "2022-12-17T13:47:38.417Z"
   },
   {
    "duration": 12,
    "start_time": "2022-12-17T13:47:38.434Z"
   },
   {
    "duration": 72,
    "start_time": "2022-12-17T13:47:38.448Z"
   },
   {
    "duration": 8792,
    "start_time": "2022-12-17T13:47:38.522Z"
   },
   {
    "duration": 8,
    "start_time": "2022-12-17T13:47:47.316Z"
   },
   {
    "duration": 11,
    "start_time": "2022-12-17T13:47:47.326Z"
   },
   {
    "duration": 7,
    "start_time": "2022-12-17T13:47:47.339Z"
   },
   {
    "duration": 9,
    "start_time": "2022-12-17T13:47:47.348Z"
   },
   {
    "duration": 10,
    "start_time": "2022-12-17T13:47:47.359Z"
   },
   {
    "duration": 531,
    "start_time": "2022-12-17T13:47:47.371Z"
   },
   {
    "duration": 448,
    "start_time": "2022-12-17T13:47:47.905Z"
   },
   {
    "duration": 680,
    "start_time": "2022-12-17T13:47:48.355Z"
   },
   {
    "duration": 13,
    "start_time": "2022-12-17T13:47:49.037Z"
   },
   {
    "duration": 12,
    "start_time": "2022-12-17T13:47:49.053Z"
   },
   {
    "duration": 30,
    "start_time": "2022-12-17T13:47:49.067Z"
   },
   {
    "duration": 11,
    "start_time": "2022-12-17T13:47:49.099Z"
   },
   {
    "duration": 487933,
    "start_time": "2022-12-17T13:47:49.112Z"
   },
   {
    "duration": 4,
    "start_time": "2022-12-17T13:55:57.047Z"
   },
   {
    "duration": 18,
    "start_time": "2022-12-17T13:55:57.053Z"
   },
   {
    "duration": 25,
    "start_time": "2022-12-17T13:55:57.073Z"
   },
   {
    "duration": 6,
    "start_time": "2022-12-17T14:11:50.273Z"
   },
   {
    "duration": 5,
    "start_time": "2022-12-17T14:12:37.617Z"
   },
   {
    "duration": 3,
    "start_time": "2022-12-17T14:13:13.725Z"
   },
   {
    "duration": 173,
    "start_time": "2022-12-17T14:14:24.153Z"
   },
   {
    "duration": 4,
    "start_time": "2022-12-17T14:15:22.657Z"
   },
   {
    "duration": 4,
    "start_time": "2022-12-17T14:15:42.486Z"
   },
   {
    "duration": 99,
    "start_time": "2022-12-17T14:16:12.590Z"
   },
   {
    "duration": 4,
    "start_time": "2022-12-17T14:16:24.373Z"
   },
   {
    "duration": 3,
    "start_time": "2022-12-17T14:40:31.749Z"
   },
   {
    "duration": 524613,
    "start_time": "2022-12-17T14:43:35.804Z"
   },
   {
    "duration": 3,
    "start_time": "2022-12-17T14:52:56.646Z"
   },
   {
    "duration": 3,
    "start_time": "2022-12-17T14:53:08.874Z"
   },
   {
    "duration": 6,
    "start_time": "2022-12-17T15:11:39.710Z"
   },
   {
    "duration": 6,
    "start_time": "2022-12-17T15:11:55.829Z"
   },
   {
    "duration": 1299,
    "start_time": "2022-12-17T15:18:11.307Z"
   },
   {
    "duration": 52,
    "start_time": "2022-12-17T15:18:12.608Z"
   },
   {
    "duration": 12,
    "start_time": "2022-12-17T15:18:12.662Z"
   },
   {
    "duration": 13,
    "start_time": "2022-12-17T15:18:12.676Z"
   },
   {
    "duration": 38,
    "start_time": "2022-12-17T15:18:12.691Z"
   },
   {
    "duration": 8103,
    "start_time": "2022-12-17T15:18:12.731Z"
   },
   {
    "duration": 7,
    "start_time": "2022-12-17T15:18:20.835Z"
   },
   {
    "duration": 11,
    "start_time": "2022-12-17T15:18:20.844Z"
   },
   {
    "duration": 10,
    "start_time": "2022-12-17T15:18:20.856Z"
   },
   {
    "duration": 7,
    "start_time": "2022-12-17T15:18:20.868Z"
   },
   {
    "duration": 9,
    "start_time": "2022-12-17T15:18:20.876Z"
   },
   {
    "duration": 455,
    "start_time": "2022-12-17T15:18:20.886Z"
   },
   {
    "duration": 373,
    "start_time": "2022-12-17T15:18:21.343Z"
   },
   {
    "duration": 645,
    "start_time": "2022-12-17T15:18:21.717Z"
   },
   {
    "duration": 12,
    "start_time": "2022-12-17T15:18:22.364Z"
   },
   {
    "duration": 22,
    "start_time": "2022-12-17T15:18:22.378Z"
   },
   {
    "duration": 3,
    "start_time": "2022-12-17T15:18:22.401Z"
   },
   {
    "duration": 11,
    "start_time": "2022-12-17T15:18:22.405Z"
   },
   {
    "duration": 485761,
    "start_time": "2022-12-17T15:18:22.418Z"
   },
   {
    "duration": 4,
    "start_time": "2022-12-17T15:26:28.182Z"
   },
   {
    "duration": 12,
    "start_time": "2022-12-17T15:26:28.187Z"
   },
   {
    "duration": 21,
    "start_time": "2022-12-17T15:26:28.201Z"
   },
   {
    "duration": 3,
    "start_time": "2022-12-17T15:28:03.086Z"
   },
   {
    "duration": 328606,
    "start_time": "2022-12-17T15:28:04.421Z"
   },
   {
    "duration": 4,
    "start_time": "2022-12-17T15:33:57.011Z"
   },
   {
    "duration": 12,
    "start_time": "2022-12-17T15:34:04.119Z"
   },
   {
    "duration": 6,
    "start_time": "2022-12-17T15:34:09.988Z"
   },
   {
    "duration": 6,
    "start_time": "2022-12-17T15:34:10.894Z"
   },
   {
    "duration": 8,
    "start_time": "2022-12-17T15:34:34.740Z"
   },
   {
    "duration": 4,
    "start_time": "2022-12-17T15:34:47.054Z"
   },
   {
    "duration": 12,
    "start_time": "2022-12-17T15:38:56.575Z"
   },
   {
    "duration": 9,
    "start_time": "2022-12-17T15:40:15.389Z"
   },
   {
    "duration": 129,
    "start_time": "2022-12-17T15:40:50.581Z"
   },
   {
    "duration": 8,
    "start_time": "2022-12-17T15:40:57.786Z"
   },
   {
    "duration": 5,
    "start_time": "2022-12-17T15:43:49.579Z"
   },
   {
    "duration": 558,
    "start_time": "2022-12-17T15:44:12.851Z"
   },
   {
    "duration": 4,
    "start_time": "2022-12-17T15:44:22.003Z"
   },
   {
    "duration": 5,
    "start_time": "2022-12-17T15:44:46.898Z"
   },
   {
    "duration": 6,
    "start_time": "2022-12-17T15:46:20.019Z"
   },
   {
    "duration": 9,
    "start_time": "2022-12-17T15:55:06.759Z"
   },
   {
    "duration": 47,
    "start_time": "2022-12-17T16:04:22.083Z"
   },
   {
    "duration": 7,
    "start_time": "2022-12-17T16:04:27.448Z"
   },
   {
    "duration": 4,
    "start_time": "2022-12-17T16:04:39.149Z"
   },
   {
    "duration": 15,
    "start_time": "2022-12-17T16:06:55.348Z"
   },
   {
    "duration": 13,
    "start_time": "2022-12-17T16:07:27.526Z"
   },
   {
    "duration": 25,
    "start_time": "2022-12-17T16:08:22.045Z"
   },
   {
    "duration": 24,
    "start_time": "2022-12-17T16:11:17.218Z"
   },
   {
    "duration": 24,
    "start_time": "2022-12-17T16:11:25.252Z"
   },
   {
    "duration": 14,
    "start_time": "2022-12-17T16:12:02.083Z"
   },
   {
    "duration": 5,
    "start_time": "2022-12-17T16:13:18.057Z"
   },
   {
    "duration": 9,
    "start_time": "2022-12-17T16:14:24.644Z"
   },
   {
    "duration": 13,
    "start_time": "2022-12-17T16:14:46.116Z"
   },
   {
    "duration": 9,
    "start_time": "2022-12-17T16:14:59.338Z"
   },
   {
    "duration": 16,
    "start_time": "2022-12-17T16:16:11.571Z"
   },
   {
    "duration": 7,
    "start_time": "2022-12-17T16:17:33.062Z"
   },
   {
    "duration": 13,
    "start_time": "2022-12-17T16:17:43.659Z"
   },
   {
    "duration": 13,
    "start_time": "2022-12-17T16:20:45.971Z"
   },
   {
    "duration": 11,
    "start_time": "2022-12-17T16:22:34.169Z"
   },
   {
    "duration": 3,
    "start_time": "2022-12-17T16:22:43.364Z"
   },
   {
    "duration": 8,
    "start_time": "2022-12-17T16:23:30.299Z"
   },
   {
    "duration": 9,
    "start_time": "2022-12-17T16:24:12.701Z"
   },
   {
    "duration": 418201,
    "start_time": "2022-12-17T16:30:10.085Z"
   },
   {
    "duration": 10,
    "start_time": "2022-12-17T16:39:56.910Z"
   },
   {
    "duration": 1444,
    "start_time": "2022-12-17T19:12:36.615Z"
   },
   {
    "duration": 123,
    "start_time": "2022-12-17T19:12:38.061Z"
   },
   {
    "duration": 15,
    "start_time": "2022-12-17T19:12:38.185Z"
   },
   {
    "duration": 39,
    "start_time": "2022-12-17T19:12:38.202Z"
   },
   {
    "duration": 59,
    "start_time": "2022-12-17T19:12:38.243Z"
   },
   {
    "duration": 8318,
    "start_time": "2022-12-17T19:12:38.304Z"
   },
   {
    "duration": 9,
    "start_time": "2022-12-17T19:12:46.625Z"
   },
   {
    "duration": 9,
    "start_time": "2022-12-17T19:12:46.635Z"
   },
   {
    "duration": 7,
    "start_time": "2022-12-17T19:12:46.645Z"
   },
   {
    "duration": 8,
    "start_time": "2022-12-17T19:12:46.654Z"
   },
   {
    "duration": 9,
    "start_time": "2022-12-17T19:12:46.664Z"
   },
   {
    "duration": 481,
    "start_time": "2022-12-17T19:12:46.675Z"
   },
   {
    "duration": 374,
    "start_time": "2022-12-17T19:12:47.158Z"
   },
   {
    "duration": 635,
    "start_time": "2022-12-17T19:12:47.533Z"
   },
   {
    "duration": 11,
    "start_time": "2022-12-17T19:12:48.170Z"
   },
   {
    "duration": 11,
    "start_time": "2022-12-17T19:12:48.183Z"
   },
   {
    "duration": 2,
    "start_time": "2022-12-17T19:12:48.196Z"
   },
   {
    "duration": 5,
    "start_time": "2022-12-17T19:12:48.200Z"
   },
   {
    "duration": 270076,
    "start_time": "2022-12-17T19:12:48.207Z"
   },
   {
    "duration": 4,
    "start_time": "2022-12-17T19:17:18.285Z"
   },
   {
    "duration": 13,
    "start_time": "2022-12-17T19:17:18.291Z"
   },
   {
    "duration": 5,
    "start_time": "2022-12-17T19:17:18.305Z"
   },
   {
    "duration": 9,
    "start_time": "2022-12-17T19:17:18.311Z"
   },
   {
    "duration": 35,
    "start_time": "2022-12-17T19:17:18.321Z"
   },
   {
    "duration": 352735,
    "start_time": "2022-12-17T19:17:18.358Z"
   },
   {
    "duration": 9,
    "start_time": "2022-12-17T19:23:11.095Z"
   },
   {
    "duration": 9,
    "start_time": "2022-12-17T19:23:11.105Z"
   },
   {
    "duration": 178690,
    "start_time": "2022-12-17T19:23:11.118Z"
   },
   {
    "duration": 279730,
    "start_time": "2022-12-17T19:26:09.809Z"
   },
   {
    "duration": 10,
    "start_time": "2022-12-17T20:21:22.227Z"
   },
   {
    "duration": 12,
    "start_time": "2022-12-17T20:23:41.069Z"
   },
   {
    "duration": 11,
    "start_time": "2022-12-17T20:25:47.922Z"
   },
   {
    "duration": 126,
    "start_time": "2022-12-17T20:29:27.768Z"
   },
   {
    "duration": 12,
    "start_time": "2022-12-17T20:31:31.393Z"
   },
   {
    "duration": 14,
    "start_time": "2022-12-17T20:31:33.606Z"
   },
   {
    "duration": 9,
    "start_time": "2022-12-17T20:32:08.762Z"
   },
   {
    "duration": 1293,
    "start_time": "2022-12-17T20:32:38.951Z"
   },
   {
    "duration": 55,
    "start_time": "2022-12-17T20:32:40.246Z"
   },
   {
    "duration": 12,
    "start_time": "2022-12-17T20:32:40.302Z"
   },
   {
    "duration": 25,
    "start_time": "2022-12-17T20:32:40.316Z"
   },
   {
    "duration": 39,
    "start_time": "2022-12-17T20:32:40.342Z"
   },
   {
    "duration": 8651,
    "start_time": "2022-12-17T20:32:40.383Z"
   },
   {
    "duration": 9,
    "start_time": "2022-12-17T20:32:49.036Z"
   },
   {
    "duration": 12,
    "start_time": "2022-12-17T20:32:49.046Z"
   },
   {
    "duration": 20,
    "start_time": "2022-12-17T20:32:49.060Z"
   },
   {
    "duration": 7,
    "start_time": "2022-12-17T20:32:49.083Z"
   },
   {
    "duration": 16,
    "start_time": "2022-12-17T20:32:49.092Z"
   },
   {
    "duration": 515,
    "start_time": "2022-12-17T20:32:49.109Z"
   },
   {
    "duration": 417,
    "start_time": "2022-12-17T20:32:49.625Z"
   },
   {
    "duration": 684,
    "start_time": "2022-12-17T20:32:50.044Z"
   },
   {
    "duration": 12,
    "start_time": "2022-12-17T20:32:50.730Z"
   },
   {
    "duration": 27,
    "start_time": "2022-12-17T20:32:50.744Z"
   },
   {
    "duration": 4,
    "start_time": "2022-12-17T20:32:50.773Z"
   },
   {
    "duration": 6,
    "start_time": "2022-12-17T20:32:50.778Z"
   },
   {
    "duration": 271979,
    "start_time": "2022-12-17T20:32:50.785Z"
   },
   {
    "duration": 4,
    "start_time": "2022-12-17T20:37:22.766Z"
   },
   {
    "duration": 14,
    "start_time": "2022-12-17T20:37:22.771Z"
   },
   {
    "duration": 5,
    "start_time": "2022-12-17T20:37:22.786Z"
   },
   {
    "duration": 10,
    "start_time": "2022-12-17T20:37:22.792Z"
   },
   {
    "duration": 19,
    "start_time": "2022-12-17T20:37:22.804Z"
   },
   {
    "duration": 345812,
    "start_time": "2022-12-17T20:37:22.825Z"
   },
   {
    "duration": 16,
    "start_time": "2022-12-17T20:43:08.639Z"
   },
   {
    "duration": 7,
    "start_time": "2022-12-17T20:43:08.656Z"
   },
   {
    "duration": 167391,
    "start_time": "2022-12-17T20:43:08.666Z"
   },
   {
    "duration": 267303,
    "start_time": "2022-12-17T20:45:56.059Z"
   },
   {
    "duration": 15,
    "start_time": "2022-12-17T20:50:23.363Z"
   },
   {
    "duration": 14,
    "start_time": "2022-12-17T20:50:23.379Z"
   },
   {
    "duration": 22402,
    "start_time": "2022-12-17T20:50:23.395Z"
   },
   {
    "duration": 6,
    "start_time": "2022-12-17T20:58:28.985Z"
   },
   {
    "duration": 22948,
    "start_time": "2022-12-17T21:01:21.631Z"
   },
   {
    "duration": 4,
    "start_time": "2022-12-17T21:02:51.806Z"
   },
   {
    "duration": 22785,
    "start_time": "2022-12-17T21:03:13.171Z"
   },
   {
    "duration": 12,
    "start_time": "2022-12-17T21:05:16.723Z"
   },
   {
    "duration": 13,
    "start_time": "2022-12-17T21:05:43.112Z"
   },
   {
    "duration": 6,
    "start_time": "2022-12-17T21:05:45.208Z"
   },
   {
    "duration": 1421,
    "start_time": "2022-12-17T21:07:29.603Z"
   },
   {
    "duration": 67,
    "start_time": "2022-12-17T21:07:31.026Z"
   },
   {
    "duration": 13,
    "start_time": "2022-12-17T21:07:31.095Z"
   },
   {
    "duration": 49,
    "start_time": "2022-12-17T21:07:31.110Z"
   },
   {
    "duration": 60,
    "start_time": "2022-12-17T21:07:31.161Z"
   },
   {
    "duration": 8944,
    "start_time": "2022-12-17T21:07:31.222Z"
   },
   {
    "duration": 6,
    "start_time": "2022-12-17T21:07:40.168Z"
   },
   {
    "duration": 23,
    "start_time": "2022-12-17T21:07:40.176Z"
   },
   {
    "duration": 23,
    "start_time": "2022-12-17T21:07:40.200Z"
   },
   {
    "duration": 21,
    "start_time": "2022-12-17T21:07:40.226Z"
   },
   {
    "duration": 30,
    "start_time": "2022-12-17T21:07:40.248Z"
   },
   {
    "duration": 476,
    "start_time": "2022-12-17T21:07:40.279Z"
   },
   {
    "duration": 378,
    "start_time": "2022-12-17T21:07:40.756Z"
   },
   {
    "duration": 643,
    "start_time": "2022-12-17T21:07:41.136Z"
   },
   {
    "duration": 11,
    "start_time": "2022-12-17T21:07:41.780Z"
   },
   {
    "duration": 26,
    "start_time": "2022-12-17T21:07:41.793Z"
   },
   {
    "duration": 14,
    "start_time": "2022-12-17T21:07:41.821Z"
   },
   {
    "duration": 16,
    "start_time": "2022-12-17T21:07:41.836Z"
   },
   {
    "duration": 260684,
    "start_time": "2022-12-17T21:07:41.854Z"
   },
   {
    "duration": 4,
    "start_time": "2022-12-17T21:12:02.540Z"
   },
   {
    "duration": 13,
    "start_time": "2022-12-17T21:12:02.555Z"
   },
   {
    "duration": 6,
    "start_time": "2022-12-17T21:12:02.569Z"
   },
   {
    "duration": 8,
    "start_time": "2022-12-17T21:12:02.577Z"
   },
   {
    "duration": 9,
    "start_time": "2022-12-17T21:12:02.586Z"
   },
   {
    "duration": 338274,
    "start_time": "2022-12-17T21:12:02.597Z"
   },
   {
    "duration": 12,
    "start_time": "2022-12-17T21:17:40.873Z"
   },
   {
    "duration": 7,
    "start_time": "2022-12-17T21:17:40.886Z"
   },
   {
    "duration": 7,
    "start_time": "2022-12-17T21:17:40.898Z"
   },
   {
    "duration": 1536,
    "start_time": "2022-12-17T21:32:19.194Z"
   },
   {
    "duration": 105,
    "start_time": "2022-12-17T21:32:20.732Z"
   },
   {
    "duration": 11,
    "start_time": "2022-12-17T21:32:20.839Z"
   },
   {
    "duration": 11,
    "start_time": "2022-12-17T21:32:20.853Z"
   },
   {
    "duration": 47,
    "start_time": "2022-12-17T21:32:20.866Z"
   },
   {
    "duration": 8286,
    "start_time": "2022-12-17T21:32:20.915Z"
   },
   {
    "duration": 8,
    "start_time": "2022-12-17T21:32:29.203Z"
   },
   {
    "duration": 10,
    "start_time": "2022-12-17T21:32:29.213Z"
   },
   {
    "duration": 8,
    "start_time": "2022-12-17T21:32:29.225Z"
   },
   {
    "duration": 6,
    "start_time": "2022-12-17T21:32:29.236Z"
   },
   {
    "duration": 10,
    "start_time": "2022-12-17T21:32:29.244Z"
   },
   {
    "duration": 523,
    "start_time": "2022-12-17T21:32:29.256Z"
   },
   {
    "duration": 378,
    "start_time": "2022-12-17T21:32:29.780Z"
   },
   {
    "duration": 676,
    "start_time": "2022-12-17T21:32:30.159Z"
   },
   {
    "duration": 12,
    "start_time": "2022-12-17T21:32:30.836Z"
   },
   {
    "duration": 22,
    "start_time": "2022-12-17T21:32:30.850Z"
   },
   {
    "duration": 8,
    "start_time": "2022-12-17T21:32:30.874Z"
   },
   {
    "duration": 26,
    "start_time": "2022-12-17T21:32:30.883Z"
   },
   {
    "duration": 249213,
    "start_time": "2022-12-17T21:32:30.911Z"
   },
   {
    "duration": 5,
    "start_time": "2022-12-17T21:36:40.125Z"
   },
   {
    "duration": 17,
    "start_time": "2022-12-17T21:36:40.131Z"
   },
   {
    "duration": 5,
    "start_time": "2022-12-17T21:36:40.150Z"
   },
   {
    "duration": 11,
    "start_time": "2022-12-17T21:36:40.156Z"
   },
   {
    "duration": 27,
    "start_time": "2022-12-17T21:36:40.169Z"
   },
   {
    "duration": 315440,
    "start_time": "2022-12-17T21:36:40.198Z"
   },
   {
    "duration": 11,
    "start_time": "2022-12-17T21:41:55.639Z"
   },
   {
    "duration": 8,
    "start_time": "2022-12-17T21:41:55.651Z"
   },
   {
    "duration": 6,
    "start_time": "2022-12-17T21:41:55.663Z"
   },
   {
    "duration": 158513,
    "start_time": "2022-12-17T21:41:55.671Z"
   },
   {
    "duration": 15,
    "start_time": "2022-12-17T21:44:34.185Z"
   },
   {
    "duration": 249244,
    "start_time": "2022-12-17T21:44:34.202Z"
   },
   {
    "duration": 10,
    "start_time": "2022-12-17T21:48:43.448Z"
   },
   {
    "duration": 12,
    "start_time": "2022-12-17T21:48:43.460Z"
   },
   {
    "duration": 32,
    "start_time": "2022-12-17T21:48:43.473Z"
   },
   {
    "duration": 356890,
    "start_time": "2022-12-17T21:48:43.507Z"
   },
   {
    "duration": 3,
    "start_time": "2022-12-17T22:04:41.241Z"
   },
   {
    "duration": 109,
    "start_time": "2022-12-17T22:04:51.219Z"
   },
   {
    "duration": 4,
    "start_time": "2022-12-17T22:06:57.178Z"
   },
   {
    "duration": 16,
    "start_time": "2022-12-17T22:07:05.710Z"
   },
   {
    "duration": 1551,
    "start_time": "2022-12-18T06:06:15.906Z"
   },
   {
    "duration": 175,
    "start_time": "2022-12-18T06:06:17.459Z"
   },
   {
    "duration": 13,
    "start_time": "2022-12-18T06:06:17.636Z"
   },
   {
    "duration": 15,
    "start_time": "2022-12-18T06:06:17.650Z"
   },
   {
    "duration": 48,
    "start_time": "2022-12-18T06:06:17.666Z"
   },
   {
    "duration": 3778,
    "start_time": "2022-12-18T06:06:17.715Z"
   },
   {
    "duration": 6,
    "start_time": "2022-12-18T06:06:21.494Z"
   },
   {
    "duration": 15,
    "start_time": "2022-12-18T06:06:21.502Z"
   },
   {
    "duration": 7,
    "start_time": "2022-12-18T06:06:21.518Z"
   },
   {
    "duration": 9,
    "start_time": "2022-12-18T06:06:21.526Z"
   },
   {
    "duration": 10,
    "start_time": "2022-12-18T06:06:21.537Z"
   },
   {
    "duration": 479,
    "start_time": "2022-12-18T06:06:21.549Z"
   },
   {
    "duration": 355,
    "start_time": "2022-12-18T06:06:22.030Z"
   },
   {
    "duration": 647,
    "start_time": "2022-12-18T06:06:22.388Z"
   },
   {
    "duration": 12,
    "start_time": "2022-12-18T06:06:23.037Z"
   },
   {
    "duration": 10,
    "start_time": "2022-12-18T06:06:23.050Z"
   },
   {
    "duration": 2,
    "start_time": "2022-12-18T06:06:23.062Z"
   },
   {
    "duration": 5,
    "start_time": "2022-12-18T06:06:23.066Z"
   },
   {
    "duration": 1301,
    "start_time": "2022-12-18T06:09:00.870Z"
   },
   {
    "duration": 54,
    "start_time": "2022-12-18T06:09:02.173Z"
   },
   {
    "duration": 13,
    "start_time": "2022-12-18T06:09:02.229Z"
   },
   {
    "duration": 32,
    "start_time": "2022-12-18T06:09:02.245Z"
   },
   {
    "duration": 40,
    "start_time": "2022-12-18T06:09:02.279Z"
   },
   {
    "duration": 8201,
    "start_time": "2022-12-18T06:09:02.320Z"
   },
   {
    "duration": 8,
    "start_time": "2022-12-18T06:09:10.524Z"
   },
   {
    "duration": 33,
    "start_time": "2022-12-18T06:09:10.534Z"
   },
   {
    "duration": 27,
    "start_time": "2022-12-18T06:09:10.569Z"
   },
   {
    "duration": 39,
    "start_time": "2022-12-18T06:09:10.600Z"
   },
   {
    "duration": 41,
    "start_time": "2022-12-18T06:09:10.641Z"
   },
   {
    "duration": 502,
    "start_time": "2022-12-18T06:09:10.684Z"
   },
   {
    "duration": 369,
    "start_time": "2022-12-18T06:09:11.188Z"
   },
   {
    "duration": 653,
    "start_time": "2022-12-18T06:09:11.560Z"
   },
   {
    "duration": 14,
    "start_time": "2022-12-18T06:09:12.214Z"
   },
   {
    "duration": 11,
    "start_time": "2022-12-18T06:09:12.230Z"
   },
   {
    "duration": 3,
    "start_time": "2022-12-18T06:09:12.243Z"
   },
   {
    "duration": 5,
    "start_time": "2022-12-18T06:09:12.248Z"
   },
   {
    "duration": 261084,
    "start_time": "2022-12-18T06:09:12.254Z"
   },
   {
    "duration": 4,
    "start_time": "2022-12-18T06:13:33.340Z"
   },
   {
    "duration": 19,
    "start_time": "2022-12-18T06:13:33.345Z"
   },
   {
    "duration": 8,
    "start_time": "2022-12-18T06:13:33.366Z"
   },
   {
    "duration": 13,
    "start_time": "2022-12-18T06:13:33.375Z"
   },
   {
    "duration": 26,
    "start_time": "2022-12-18T06:13:33.389Z"
   },
   {
    "duration": 338724,
    "start_time": "2022-12-18T06:13:33.416Z"
   },
   {
    "duration": 12,
    "start_time": "2022-12-18T06:19:12.142Z"
   },
   {
    "duration": 17,
    "start_time": "2022-12-18T06:19:12.156Z"
   },
   {
    "duration": 18,
    "start_time": "2022-12-18T06:19:12.177Z"
   },
   {
    "duration": 169567,
    "start_time": "2022-12-18T06:19:12.198Z"
   },
   {
    "duration": 13,
    "start_time": "2022-12-18T06:22:01.766Z"
   },
   {
    "duration": 261326,
    "start_time": "2022-12-18T06:22:01.780Z"
   },
   {
    "duration": 14,
    "start_time": "2022-12-18T06:26:23.107Z"
   },
   {
    "duration": 4,
    "start_time": "2022-12-18T06:26:23.123Z"
   },
   {
    "duration": 16,
    "start_time": "2022-12-18T06:26:23.128Z"
   },
   {
    "duration": 12,
    "start_time": "2022-12-18T06:26:23.145Z"
   },
   {
    "duration": 370308,
    "start_time": "2022-12-18T06:26:23.158Z"
   },
   {
    "duration": 17,
    "start_time": "2022-12-18T06:32:33.467Z"
   },
   {
    "duration": 112,
    "start_time": "2022-12-18T06:32:33.485Z"
   },
   {
    "duration": 0,
    "start_time": "2022-12-18T06:32:33.598Z"
   },
   {
    "duration": 16,
    "start_time": "2022-12-18T06:35:59.174Z"
   },
   {
    "duration": 116,
    "start_time": "2022-12-18T06:36:00.981Z"
   },
   {
    "duration": 14,
    "start_time": "2022-12-18T06:41:02.197Z"
   },
   {
    "duration": 445,
    "start_time": "2022-12-18T06:41:38.223Z"
   },
   {
    "duration": 455,
    "start_time": "2022-12-18T06:42:05.153Z"
   },
   {
    "duration": 494,
    "start_time": "2022-12-18T06:43:44.920Z"
   },
   {
    "duration": 3,
    "start_time": "2022-12-18T06:48:16.730Z"
   },
   {
    "duration": 14,
    "start_time": "2022-12-18T06:51:01.014Z"
   },
   {
    "duration": 297,
    "start_time": "2022-12-18T06:51:01.959Z"
   },
   {
    "duration": 123,
    "start_time": "2022-12-18T06:51:21.273Z"
   },
   {
    "duration": 461,
    "start_time": "2022-12-18T06:51:42.264Z"
   },
   {
    "duration": 396,
    "start_time": "2022-12-18T06:51:47.202Z"
   },
   {
    "duration": 136,
    "start_time": "2022-12-18T06:51:49.089Z"
   },
   {
    "duration": 122,
    "start_time": "2022-12-18T06:52:32.353Z"
   },
   {
    "duration": 1402,
    "start_time": "2022-12-18T06:53:50.214Z"
   },
   {
    "duration": 52,
    "start_time": "2022-12-18T06:53:51.618Z"
   },
   {
    "duration": 13,
    "start_time": "2022-12-18T06:53:51.671Z"
   },
   {
    "duration": 20,
    "start_time": "2022-12-18T06:53:51.686Z"
   },
   {
    "duration": 39,
    "start_time": "2022-12-18T06:53:51.707Z"
   },
   {
    "duration": 8282,
    "start_time": "2022-12-18T06:53:51.747Z"
   },
   {
    "duration": 8,
    "start_time": "2022-12-18T06:54:00.030Z"
   },
   {
    "duration": 29,
    "start_time": "2022-12-18T06:54:00.040Z"
   },
   {
    "duration": 44,
    "start_time": "2022-12-18T06:54:00.071Z"
   },
   {
    "duration": 16,
    "start_time": "2022-12-18T06:54:00.118Z"
   },
   {
    "duration": 48,
    "start_time": "2022-12-18T06:54:00.136Z"
   },
   {
    "duration": 489,
    "start_time": "2022-12-18T06:54:53.408Z"
   },
   {
    "duration": 383,
    "start_time": "2022-12-18T06:54:57.033Z"
   },
   {
    "duration": 673,
    "start_time": "2022-12-18T06:55:00.714Z"
   },
   {
    "duration": 12,
    "start_time": "2022-12-18T06:57:21.429Z"
   },
   {
    "duration": 11,
    "start_time": "2022-12-18T06:57:27.203Z"
   },
   {
    "duration": 3,
    "start_time": "2022-12-18T06:58:51.552Z"
   },
   {
    "duration": 4,
    "start_time": "2022-12-18T07:00:40.420Z"
   },
   {
    "duration": 259249,
    "start_time": "2022-12-18T07:00:40.428Z"
   },
   {
    "duration": 13,
    "start_time": "2022-12-18T07:04:59.679Z"
   },
   {
    "duration": 7,
    "start_time": "2022-12-18T07:04:59.693Z"
   },
   {
    "duration": 8,
    "start_time": "2022-12-18T07:04:59.713Z"
   },
   {
    "duration": 7,
    "start_time": "2022-12-18T07:04:59.724Z"
   },
   {
    "duration": 335996,
    "start_time": "2022-12-18T07:04:59.733Z"
   },
   {
    "duration": 12,
    "start_time": "2022-12-18T07:10:35.731Z"
   },
   {
    "duration": 8,
    "start_time": "2022-12-18T07:10:35.744Z"
   },
   {
    "duration": 8,
    "start_time": "2022-12-18T07:10:35.753Z"
   },
   {
    "duration": 168389,
    "start_time": "2022-12-18T07:10:35.762Z"
   },
   {
    "duration": 13,
    "start_time": "2022-12-18T07:13:24.152Z"
   },
   {
    "duration": 262037,
    "start_time": "2022-12-18T07:13:24.167Z"
   },
   {
    "duration": 17,
    "start_time": "2022-12-18T07:17:46.206Z"
   },
   {
    "duration": 4,
    "start_time": "2022-12-18T07:17:46.226Z"
   },
   {
    "duration": 16,
    "start_time": "2022-12-18T07:17:46.231Z"
   },
   {
    "duration": 12,
    "start_time": "2022-12-18T07:17:46.248Z"
   },
   {
    "duration": 373567,
    "start_time": "2022-12-18T07:17:46.261Z"
   },
   {
    "duration": 15,
    "start_time": "2022-12-18T07:23:59.829Z"
   },
   {
    "duration": 24,
    "start_time": "2022-12-18T07:23:59.856Z"
   },
   {
    "duration": 120,
    "start_time": "2022-12-18T07:23:59.882Z"
   },
   {
    "duration": 133,
    "start_time": "2022-12-18T07:27:24.346Z"
   },
   {
    "duration": 70,
    "start_time": "2022-12-18T08:00:46.962Z"
   },
   {
    "duration": 1374,
    "start_time": "2022-12-18T09:52:45.063Z"
   },
   {
    "duration": 52,
    "start_time": "2022-12-18T09:52:46.439Z"
   },
   {
    "duration": 12,
    "start_time": "2022-12-18T09:52:46.493Z"
   },
   {
    "duration": 11,
    "start_time": "2022-12-18T09:52:46.507Z"
   },
   {
    "duration": 41,
    "start_time": "2022-12-18T09:52:46.519Z"
   },
   {
    "duration": 8455,
    "start_time": "2022-12-18T09:52:46.562Z"
   },
   {
    "duration": 6,
    "start_time": "2022-12-18T09:52:55.019Z"
   },
   {
    "duration": 28,
    "start_time": "2022-12-18T09:52:55.027Z"
   },
   {
    "duration": 9,
    "start_time": "2022-12-18T09:52:55.056Z"
   },
   {
    "duration": 8,
    "start_time": "2022-12-18T09:52:55.068Z"
   },
   {
    "duration": 16,
    "start_time": "2022-12-18T09:52:55.078Z"
   },
   {
    "duration": 555,
    "start_time": "2022-12-18T09:52:55.096Z"
   },
   {
    "duration": 407,
    "start_time": "2022-12-18T09:52:55.653Z"
   },
   {
    "duration": 710,
    "start_time": "2022-12-18T09:52:56.062Z"
   },
   {
    "duration": 11,
    "start_time": "2022-12-18T09:52:56.774Z"
   },
   {
    "duration": 27,
    "start_time": "2022-12-18T09:52:56.787Z"
   },
   {
    "duration": 3,
    "start_time": "2022-12-18T09:52:56.816Z"
   },
   {
    "duration": 262689,
    "start_time": "2022-12-18T09:52:56.821Z"
   },
   {
    "duration": 13,
    "start_time": "2022-12-18T09:57:19.511Z"
   },
   {
    "duration": 6,
    "start_time": "2022-12-18T09:57:19.525Z"
   },
   {
    "duration": 12,
    "start_time": "2022-12-18T09:57:19.533Z"
   },
   {
    "duration": 8,
    "start_time": "2022-12-18T09:57:19.547Z"
   },
   {
    "duration": 338944,
    "start_time": "2022-12-18T09:57:19.557Z"
   },
   {
    "duration": 12,
    "start_time": "2022-12-18T10:02:58.503Z"
   },
   {
    "duration": 8,
    "start_time": "2022-12-18T10:02:58.516Z"
   },
   {
    "duration": 12,
    "start_time": "2022-12-18T10:02:58.525Z"
   },
   {
    "duration": 169390,
    "start_time": "2022-12-18T10:02:58.539Z"
   },
   {
    "duration": 12,
    "start_time": "2022-12-18T10:05:47.932Z"
   },
   {
    "duration": 258688,
    "start_time": "2022-12-18T10:05:47.946Z"
   },
   {
    "duration": 13,
    "start_time": "2022-12-18T10:10:06.635Z"
   },
   {
    "duration": 8,
    "start_time": "2022-12-18T10:10:06.649Z"
   },
   {
    "duration": 19,
    "start_time": "2022-12-18T10:10:06.659Z"
   },
   {
    "duration": 14,
    "start_time": "2022-12-18T10:10:06.680Z"
   },
   {
    "duration": 364588,
    "start_time": "2022-12-18T10:10:06.696Z"
   },
   {
    "duration": 17,
    "start_time": "2022-12-18T10:16:11.285Z"
   },
   {
    "duration": 14,
    "start_time": "2022-12-18T10:16:11.313Z"
   },
   {
    "duration": 149,
    "start_time": "2022-12-18T10:16:11.328Z"
   },
   {
    "duration": 1431,
    "start_time": "2022-12-19T01:35:58.319Z"
   },
   {
    "duration": 61,
    "start_time": "2022-12-19T01:35:59.752Z"
   },
   {
    "duration": 12,
    "start_time": "2022-12-19T01:35:59.815Z"
   },
   {
    "duration": 11,
    "start_time": "2022-12-19T01:35:59.829Z"
   },
   {
    "duration": 37,
    "start_time": "2022-12-19T01:35:59.842Z"
   },
   {
    "duration": 7556,
    "start_time": "2022-12-19T01:35:59.880Z"
   },
   {
    "duration": 6,
    "start_time": "2022-12-19T01:36:07.437Z"
   },
   {
    "duration": 10,
    "start_time": "2022-12-19T01:36:07.445Z"
   },
   {
    "duration": 5,
    "start_time": "2022-12-19T01:36:07.457Z"
   },
   {
    "duration": 6,
    "start_time": "2022-12-19T01:36:07.464Z"
   },
   {
    "duration": 8,
    "start_time": "2022-12-19T01:36:07.472Z"
   },
   {
    "duration": 463,
    "start_time": "2022-12-19T01:36:07.481Z"
   },
   {
    "duration": 342,
    "start_time": "2022-12-19T01:36:07.945Z"
   },
   {
    "duration": 606,
    "start_time": "2022-12-19T01:36:08.288Z"
   },
   {
    "duration": 10,
    "start_time": "2022-12-19T01:36:08.896Z"
   },
   {
    "duration": 21,
    "start_time": "2022-12-19T01:36:08.908Z"
   },
   {
    "duration": 2,
    "start_time": "2022-12-19T01:36:08.931Z"
   },
   {
    "duration": 232532,
    "start_time": "2022-12-19T01:36:08.935Z"
   },
   {
    "duration": 10,
    "start_time": "2022-12-19T01:40:01.469Z"
   },
   {
    "duration": 4,
    "start_time": "2022-12-19T01:40:01.481Z"
   },
   {
    "duration": 20,
    "start_time": "2022-12-19T01:40:01.487Z"
   },
   {
    "duration": 18,
    "start_time": "2022-12-19T01:40:01.508Z"
   },
   {
    "duration": 300144,
    "start_time": "2022-12-19T01:40:01.528Z"
   },
   {
    "duration": 11,
    "start_time": "2022-12-19T01:45:01.673Z"
   },
   {
    "duration": 7,
    "start_time": "2022-12-19T01:45:01.686Z"
   },
   {
    "duration": 28,
    "start_time": "2022-12-19T01:45:01.694Z"
   },
   {
    "duration": 152166,
    "start_time": "2022-12-19T01:45:01.724Z"
   },
   {
    "duration": 11,
    "start_time": "2022-12-19T01:47:33.893Z"
   },
   {
    "duration": 235202,
    "start_time": "2022-12-19T01:47:33.906Z"
   },
   {
    "duration": 17,
    "start_time": "2022-12-19T01:51:29.110Z"
   },
   {
    "duration": 4,
    "start_time": "2022-12-19T01:51:29.129Z"
   },
   {
    "duration": 31,
    "start_time": "2022-12-19T01:51:29.135Z"
   },
   {
    "duration": 26,
    "start_time": "2022-12-19T01:51:29.167Z"
   },
   {
    "duration": 333667,
    "start_time": "2022-12-19T01:51:29.195Z"
   },
   {
    "duration": 14,
    "start_time": "2022-12-19T01:57:02.864Z"
   },
   {
    "duration": 12,
    "start_time": "2022-12-19T01:57:02.880Z"
   },
   {
    "duration": 142,
    "start_time": "2022-12-19T01:57:02.893Z"
   },
   {
    "duration": 6,
    "start_time": "2022-12-19T03:04:26.605Z"
   },
   {
    "duration": 6,
    "start_time": "2022-12-19T03:04:45.869Z"
   },
   {
    "duration": 5,
    "start_time": "2022-12-19T03:52:43.056Z"
   },
   {
    "duration": 18,
    "start_time": "2022-12-19T03:53:01.142Z"
   },
   {
    "duration": 1537,
    "start_time": "2022-12-19T07:03:03.671Z"
   },
   {
    "duration": 6,
    "start_time": "2022-12-19T07:03:05.210Z"
   },
   {
    "duration": 110,
    "start_time": "2022-12-19T07:03:05.217Z"
   },
   {
    "duration": 13,
    "start_time": "2022-12-19T07:03:05.329Z"
   },
   {
    "duration": 24,
    "start_time": "2022-12-19T07:03:05.344Z"
   },
   {
    "duration": 38,
    "start_time": "2022-12-19T07:03:05.370Z"
   },
   {
    "duration": 8168,
    "start_time": "2022-12-19T07:03:05.410Z"
   },
   {
    "duration": 6,
    "start_time": "2022-12-19T07:03:13.579Z"
   },
   {
    "duration": 9,
    "start_time": "2022-12-19T07:03:13.587Z"
   },
   {
    "duration": 9,
    "start_time": "2022-12-19T07:03:13.597Z"
   },
   {
    "duration": 10,
    "start_time": "2022-12-19T07:03:13.608Z"
   },
   {
    "duration": 9,
    "start_time": "2022-12-19T07:03:13.619Z"
   },
   {
    "duration": 491,
    "start_time": "2022-12-19T07:03:13.629Z"
   },
   {
    "duration": 375,
    "start_time": "2022-12-19T07:03:14.123Z"
   },
   {
    "duration": 628,
    "start_time": "2022-12-19T07:03:14.500Z"
   },
   {
    "duration": 2,
    "start_time": "2022-12-19T07:03:15.130Z"
   },
   {
    "duration": 201,
    "start_time": "2022-12-19T07:03:15.134Z"
   },
   {
    "duration": 11,
    "start_time": "2022-12-19T07:05:01.909Z"
   },
   {
    "duration": 1334,
    "start_time": "2022-12-19T07:05:17.071Z"
   },
   {
    "duration": 3,
    "start_time": "2022-12-19T07:05:18.408Z"
   },
   {
    "duration": 71,
    "start_time": "2022-12-19T07:05:18.413Z"
   },
   {
    "duration": 12,
    "start_time": "2022-12-19T07:05:18.486Z"
   },
   {
    "duration": 10,
    "start_time": "2022-12-19T07:05:18.500Z"
   },
   {
    "duration": 42,
    "start_time": "2022-12-19T07:05:18.512Z"
   },
   {
    "duration": 8266,
    "start_time": "2022-12-19T07:05:18.556Z"
   },
   {
    "duration": 6,
    "start_time": "2022-12-19T07:05:26.823Z"
   },
   {
    "duration": 8,
    "start_time": "2022-12-19T07:05:26.831Z"
   },
   {
    "duration": 10,
    "start_time": "2022-12-19T07:05:26.841Z"
   },
   {
    "duration": 6,
    "start_time": "2022-12-19T07:05:26.853Z"
   },
   {
    "duration": 9,
    "start_time": "2022-12-19T07:05:26.860Z"
   },
   {
    "duration": 451,
    "start_time": "2022-12-19T07:05:26.871Z"
   },
   {
    "duration": 361,
    "start_time": "2022-12-19T07:05:27.323Z"
   },
   {
    "duration": 624,
    "start_time": "2022-12-19T07:05:27.686Z"
   },
   {
    "duration": 2,
    "start_time": "2022-12-19T07:05:28.312Z"
   },
   {
    "duration": 11,
    "start_time": "2022-12-19T07:05:28.316Z"
   },
   {
    "duration": 1242,
    "start_time": "2022-12-19T07:08:00.648Z"
   },
   {
    "duration": 3,
    "start_time": "2022-12-19T07:08:01.892Z"
   },
   {
    "duration": 92,
    "start_time": "2022-12-19T07:08:01.896Z"
   },
   {
    "duration": 13,
    "start_time": "2022-12-19T07:08:01.990Z"
   },
   {
    "duration": 27,
    "start_time": "2022-12-19T07:08:02.005Z"
   },
   {
    "duration": 59,
    "start_time": "2022-12-19T07:08:02.034Z"
   },
   {
    "duration": 8154,
    "start_time": "2022-12-19T07:08:02.095Z"
   },
   {
    "duration": 6,
    "start_time": "2022-12-19T07:08:10.251Z"
   },
   {
    "duration": 9,
    "start_time": "2022-12-19T07:08:10.258Z"
   },
   {
    "duration": 12,
    "start_time": "2022-12-19T07:08:10.270Z"
   },
   {
    "duration": 13,
    "start_time": "2022-12-19T07:08:10.284Z"
   },
   {
    "duration": 8,
    "start_time": "2022-12-19T07:08:10.299Z"
   },
   {
    "duration": 502,
    "start_time": "2022-12-19T07:08:10.309Z"
   },
   {
    "duration": 389,
    "start_time": "2022-12-19T07:08:10.814Z"
   },
   {
    "duration": 623,
    "start_time": "2022-12-19T07:08:11.205Z"
   },
   {
    "duration": 12,
    "start_time": "2022-12-19T07:08:11.830Z"
   },
   {
    "duration": 10,
    "start_time": "2022-12-19T07:08:11.844Z"
   },
   {
    "duration": 3,
    "start_time": "2022-12-19T07:09:14.097Z"
   },
   {
    "duration": 14,
    "start_time": "2022-12-19T07:18:41.034Z"
   },
   {
    "duration": 23,
    "start_time": "2022-12-19T07:19:05.713Z"
   },
   {
    "duration": 27,
    "start_time": "2022-12-19T07:27:26.986Z"
   },
   {
    "duration": 3,
    "start_time": "2022-12-19T07:34:43.075Z"
   },
   {
    "duration": 142,
    "start_time": "2022-12-19T07:41:27.564Z"
   },
   {
    "duration": 3,
    "start_time": "2022-12-19T07:41:34.564Z"
   },
   {
    "duration": 84126,
    "start_time": "2022-12-19T07:41:36.812Z"
   },
   {
    "duration": 355319,
    "start_time": "2022-12-19T07:43:02.582Z"
   },
   {
    "duration": 45,
    "start_time": "2022-12-19T07:49:43.742Z"
   },
   {
    "duration": 12,
    "start_time": "2022-12-19T07:50:38.877Z"
   },
   {
    "duration": 5,
    "start_time": "2022-12-19T07:50:47.958Z"
   },
   {
    "duration": 53,
    "start_time": "2022-12-19T07:50:55.732Z"
   },
   {
    "duration": 9,
    "start_time": "2022-12-19T07:53:59.686Z"
   },
   {
    "duration": 44,
    "start_time": "2022-12-19T07:54:15.344Z"
   },
   {
    "duration": 5,
    "start_time": "2022-12-19T07:54:20.079Z"
   },
   {
    "duration": 5,
    "start_time": "2022-12-19T07:54:31.550Z"
   },
   {
    "duration": 4,
    "start_time": "2022-12-19T07:55:04.407Z"
   },
   {
    "duration": 5,
    "start_time": "2022-12-19T07:58:47.559Z"
   },
   {
    "duration": 10,
    "start_time": "2022-12-19T08:04:39.368Z"
   },
   {
    "duration": 6,
    "start_time": "2022-12-19T08:04:52.167Z"
   },
   {
    "duration": 9,
    "start_time": "2022-12-19T08:05:38.568Z"
   },
   {
    "duration": 5,
    "start_time": "2022-12-19T08:08:16.080Z"
   },
   {
    "duration": 7,
    "start_time": "2022-12-19T08:09:06.664Z"
   },
   {
    "duration": 5,
    "start_time": "2022-12-19T08:09:16.496Z"
   },
   {
    "duration": 4,
    "start_time": "2022-12-19T08:10:21.672Z"
   },
   {
    "duration": 4,
    "start_time": "2022-12-19T08:12:43.265Z"
   },
   {
    "duration": 1295,
    "start_time": "2022-12-19T08:19:04.406Z"
   },
   {
    "duration": 2,
    "start_time": "2022-12-19T08:19:05.703Z"
   },
   {
    "duration": 68,
    "start_time": "2022-12-19T08:19:05.706Z"
   },
   {
    "duration": 13,
    "start_time": "2022-12-19T08:19:05.776Z"
   },
   {
    "duration": 12,
    "start_time": "2022-12-19T08:19:05.790Z"
   },
   {
    "duration": 57,
    "start_time": "2022-12-19T08:19:05.804Z"
   },
   {
    "duration": 8250,
    "start_time": "2022-12-19T08:19:05.863Z"
   },
   {
    "duration": 9,
    "start_time": "2022-12-19T08:19:14.115Z"
   },
   {
    "duration": 16,
    "start_time": "2022-12-19T08:19:14.125Z"
   },
   {
    "duration": 9,
    "start_time": "2022-12-19T08:19:14.144Z"
   },
   {
    "duration": 10,
    "start_time": "2022-12-19T08:19:14.154Z"
   },
   {
    "duration": 13,
    "start_time": "2022-12-19T08:19:14.166Z"
   },
   {
    "duration": 541,
    "start_time": "2022-12-19T08:19:14.180Z"
   },
   {
    "duration": 439,
    "start_time": "2022-12-19T08:19:14.723Z"
   },
   {
    "duration": 666,
    "start_time": "2022-12-19T08:19:15.164Z"
   },
   {
    "duration": 11,
    "start_time": "2022-12-19T08:19:15.832Z"
   },
   {
    "duration": 9,
    "start_time": "2022-12-19T08:19:15.845Z"
   },
   {
    "duration": 50,
    "start_time": "2022-12-19T08:19:15.855Z"
   },
   {
    "duration": 3,
    "start_time": "2022-12-19T08:19:15.908Z"
   },
   {
    "duration": 19,
    "start_time": "2022-12-19T08:19:15.913Z"
   },
   {
    "duration": 174788,
    "start_time": "2022-12-19T08:19:15.933Z"
   },
   {
    "duration": 4,
    "start_time": "2022-12-19T08:22:10.722Z"
   },
   {
    "duration": 118,
    "start_time": "2022-12-19T08:22:10.728Z"
   },
   {
    "duration": 6,
    "start_time": "2022-12-19T08:24:15.530Z"
   },
   {
    "duration": 16,
    "start_time": "2022-12-19T08:25:40.155Z"
   },
   {
    "duration": 10,
    "start_time": "2022-12-19T08:52:57.983Z"
   },
   {
    "duration": 5,
    "start_time": "2022-12-19T08:53:20.400Z"
   },
   {
    "duration": 12,
    "start_time": "2022-12-19T08:54:59.264Z"
   },
   {
    "duration": 12,
    "start_time": "2022-12-19T08:55:24.641Z"
   },
   {
    "duration": 5,
    "start_time": "2022-12-19T08:55:43.736Z"
   },
   {
    "duration": 1362,
    "start_time": "2022-12-19T09:17:37.165Z"
   },
   {
    "duration": 5,
    "start_time": "2022-12-19T09:17:38.530Z"
   },
   {
    "duration": 77,
    "start_time": "2022-12-19T09:17:38.536Z"
   },
   {
    "duration": 18,
    "start_time": "2022-12-19T09:17:38.617Z"
   },
   {
    "duration": 13,
    "start_time": "2022-12-19T09:17:38.637Z"
   },
   {
    "duration": 68,
    "start_time": "2022-12-19T09:17:38.651Z"
   },
   {
    "duration": 9012,
    "start_time": "2022-12-19T09:17:38.721Z"
   },
   {
    "duration": 6,
    "start_time": "2022-12-19T09:17:47.762Z"
   },
   {
    "duration": 12,
    "start_time": "2022-12-19T09:17:47.770Z"
   },
   {
    "duration": 6,
    "start_time": "2022-12-19T09:17:47.784Z"
   },
   {
    "duration": 14,
    "start_time": "2022-12-19T09:17:47.791Z"
   },
   {
    "duration": 15,
    "start_time": "2022-12-19T09:17:47.806Z"
   },
   {
    "duration": 520,
    "start_time": "2022-12-19T09:17:47.823Z"
   },
   {
    "duration": 428,
    "start_time": "2022-12-19T09:17:48.345Z"
   },
   {
    "duration": 744,
    "start_time": "2022-12-19T09:17:48.775Z"
   },
   {
    "duration": 14,
    "start_time": "2022-12-19T09:17:49.522Z"
   },
   {
    "duration": 12,
    "start_time": "2022-12-19T09:17:49.538Z"
   },
   {
    "duration": 50,
    "start_time": "2022-12-19T09:17:49.552Z"
   },
   {
    "duration": 4,
    "start_time": "2022-12-19T09:17:49.604Z"
   },
   {
    "duration": 12,
    "start_time": "2022-12-19T09:17:49.610Z"
   },
   {
    "duration": 7,
    "start_time": "2022-12-19T09:17:49.625Z"
   },
   {
    "duration": 183649,
    "start_time": "2022-12-19T09:17:49.633Z"
   },
   {
    "duration": 4,
    "start_time": "2022-12-19T09:20:53.284Z"
   },
   {
    "duration": 19,
    "start_time": "2022-12-19T09:20:53.296Z"
   },
   {
    "duration": 130,
    "start_time": "2022-12-19T09:28:07.297Z"
   },
   {
    "duration": 1706,
    "start_time": "2022-12-19T09:36:55.670Z"
   },
   {
    "duration": 3,
    "start_time": "2022-12-19T09:36:57.378Z"
   },
   {
    "duration": 67,
    "start_time": "2022-12-19T09:36:57.383Z"
   },
   {
    "duration": 14,
    "start_time": "2022-12-19T09:36:57.452Z"
   },
   {
    "duration": 19,
    "start_time": "2022-12-19T09:36:57.468Z"
   },
   {
    "duration": 46,
    "start_time": "2022-12-19T09:36:57.488Z"
   },
   {
    "duration": 8989,
    "start_time": "2022-12-19T09:36:57.536Z"
   },
   {
    "duration": 9,
    "start_time": "2022-12-19T09:37:06.527Z"
   },
   {
    "duration": 18,
    "start_time": "2022-12-19T09:37:06.541Z"
   },
   {
    "duration": 15,
    "start_time": "2022-12-19T09:37:06.562Z"
   },
   {
    "duration": 13,
    "start_time": "2022-12-19T09:37:06.579Z"
   },
   {
    "duration": 14,
    "start_time": "2022-12-19T09:37:06.593Z"
   },
   {
    "duration": 522,
    "start_time": "2022-12-19T09:37:06.610Z"
   },
   {
    "duration": 426,
    "start_time": "2022-12-19T09:37:07.134Z"
   },
   {
    "duration": 733,
    "start_time": "2022-12-19T09:37:07.562Z"
   },
   {
    "duration": 14,
    "start_time": "2022-12-19T09:37:08.296Z"
   },
   {
    "duration": 11,
    "start_time": "2022-12-19T09:37:08.312Z"
   },
   {
    "duration": 51,
    "start_time": "2022-12-19T09:37:08.325Z"
   },
   {
    "duration": 3,
    "start_time": "2022-12-19T09:37:08.377Z"
   },
   {
    "duration": 10,
    "start_time": "2022-12-19T09:37:08.381Z"
   },
   {
    "duration": 7,
    "start_time": "2022-12-19T09:37:08.392Z"
   },
   {
    "duration": 46496,
    "start_time": "2022-12-19T09:37:08.401Z"
   },
   {
    "duration": 14,
    "start_time": "2022-12-19T09:37:54.899Z"
   },
   {
    "duration": 0,
    "start_time": "2022-12-19T09:37:54.916Z"
   },
   {
    "duration": 0,
    "start_time": "2022-12-19T09:37:54.917Z"
   },
   {
    "duration": 0,
    "start_time": "2022-12-19T09:37:54.919Z"
   },
   {
    "duration": 0,
    "start_time": "2022-12-19T09:37:54.920Z"
   },
   {
    "duration": 0,
    "start_time": "2022-12-19T09:37:54.922Z"
   },
   {
    "duration": 0,
    "start_time": "2022-12-19T09:37:54.924Z"
   },
   {
    "duration": 0,
    "start_time": "2022-12-19T09:37:54.925Z"
   },
   {
    "duration": 0,
    "start_time": "2022-12-19T09:37:54.926Z"
   },
   {
    "duration": 0,
    "start_time": "2022-12-19T09:37:54.929Z"
   },
   {
    "duration": 0,
    "start_time": "2022-12-19T09:37:54.930Z"
   },
   {
    "duration": 0,
    "start_time": "2022-12-19T09:37:54.931Z"
   },
   {
    "duration": 0,
    "start_time": "2022-12-19T09:37:54.933Z"
   },
   {
    "duration": 0,
    "start_time": "2022-12-19T09:37:54.934Z"
   },
   {
    "duration": 0,
    "start_time": "2022-12-19T09:37:54.935Z"
   },
   {
    "duration": 0,
    "start_time": "2022-12-19T09:37:54.936Z"
   },
   {
    "duration": 0,
    "start_time": "2022-12-19T09:37:54.937Z"
   },
   {
    "duration": 0,
    "start_time": "2022-12-19T09:37:54.939Z"
   },
   {
    "duration": 0,
    "start_time": "2022-12-19T09:37:54.940Z"
   },
   {
    "duration": 0,
    "start_time": "2022-12-19T09:37:54.941Z"
   },
   {
    "duration": 0,
    "start_time": "2022-12-19T09:37:54.944Z"
   },
   {
    "duration": 1433,
    "start_time": "2022-12-19T09:38:43.224Z"
   },
   {
    "duration": 3,
    "start_time": "2022-12-19T09:38:44.660Z"
   },
   {
    "duration": 77,
    "start_time": "2022-12-19T09:38:44.664Z"
   },
   {
    "duration": 13,
    "start_time": "2022-12-19T09:38:44.744Z"
   },
   {
    "duration": 11,
    "start_time": "2022-12-19T09:38:44.760Z"
   },
   {
    "duration": 62,
    "start_time": "2022-12-19T09:38:44.773Z"
   },
   {
    "duration": 9555,
    "start_time": "2022-12-19T09:38:44.838Z"
   },
   {
    "duration": 8,
    "start_time": "2022-12-19T09:38:54.395Z"
   },
   {
    "duration": 9,
    "start_time": "2022-12-19T09:38:54.405Z"
   },
   {
    "duration": 9,
    "start_time": "2022-12-19T09:38:54.416Z"
   },
   {
    "duration": 17,
    "start_time": "2022-12-19T09:38:54.428Z"
   },
   {
    "duration": 9,
    "start_time": "2022-12-19T09:38:54.447Z"
   },
   {
    "duration": 556,
    "start_time": "2022-12-19T09:38:54.457Z"
   },
   {
    "duration": 458,
    "start_time": "2022-12-19T09:38:55.017Z"
   },
   {
    "duration": 824,
    "start_time": "2022-12-19T09:38:55.477Z"
   },
   {
    "duration": 16,
    "start_time": "2022-12-19T09:38:56.304Z"
   },
   {
    "duration": 21,
    "start_time": "2022-12-19T09:38:56.322Z"
   },
   {
    "duration": 32,
    "start_time": "2022-12-19T09:38:56.346Z"
   },
   {
    "duration": 4,
    "start_time": "2022-12-19T09:38:56.380Z"
   },
   {
    "duration": 19,
    "start_time": "2022-12-19T09:38:56.386Z"
   },
   {
    "duration": 12,
    "start_time": "2022-12-19T09:38:56.408Z"
   },
   {
    "duration": 112365,
    "start_time": "2022-12-19T09:38:56.423Z"
   },
   {
    "duration": 12,
    "start_time": "2022-12-19T09:40:48.789Z"
   },
   {
    "duration": 0,
    "start_time": "2022-12-19T09:40:48.803Z"
   },
   {
    "duration": 0,
    "start_time": "2022-12-19T09:40:48.805Z"
   },
   {
    "duration": 0,
    "start_time": "2022-12-19T09:40:48.807Z"
   },
   {
    "duration": 0,
    "start_time": "2022-12-19T09:40:48.808Z"
   },
   {
    "duration": 0,
    "start_time": "2022-12-19T09:40:48.810Z"
   },
   {
    "duration": 0,
    "start_time": "2022-12-19T09:40:48.813Z"
   },
   {
    "duration": 0,
    "start_time": "2022-12-19T09:40:48.814Z"
   },
   {
    "duration": 0,
    "start_time": "2022-12-19T09:40:48.816Z"
   },
   {
    "duration": 0,
    "start_time": "2022-12-19T09:40:48.818Z"
   },
   {
    "duration": 0,
    "start_time": "2022-12-19T09:40:48.819Z"
   },
   {
    "duration": 0,
    "start_time": "2022-12-19T09:40:48.821Z"
   },
   {
    "duration": 1,
    "start_time": "2022-12-19T09:40:48.822Z"
   },
   {
    "duration": 0,
    "start_time": "2022-12-19T09:40:48.824Z"
   },
   {
    "duration": 0,
    "start_time": "2022-12-19T09:40:48.826Z"
   },
   {
    "duration": 0,
    "start_time": "2022-12-19T09:40:48.827Z"
   },
   {
    "duration": 1,
    "start_time": "2022-12-19T09:40:48.829Z"
   },
   {
    "duration": 0,
    "start_time": "2022-12-19T09:40:48.830Z"
   },
   {
    "duration": 1,
    "start_time": "2022-12-19T09:40:48.831Z"
   },
   {
    "duration": 0,
    "start_time": "2022-12-19T09:40:48.833Z"
   },
   {
    "duration": 0,
    "start_time": "2022-12-19T09:40:48.834Z"
   },
   {
    "duration": 1542,
    "start_time": "2022-12-19T09:43:19.811Z"
   },
   {
    "duration": 3,
    "start_time": "2022-12-19T09:43:21.355Z"
   },
   {
    "duration": 82,
    "start_time": "2022-12-19T09:43:21.360Z"
   },
   {
    "duration": 16,
    "start_time": "2022-12-19T09:43:21.445Z"
   },
   {
    "duration": 20,
    "start_time": "2022-12-19T09:43:21.463Z"
   },
   {
    "duration": 57,
    "start_time": "2022-12-19T09:43:21.485Z"
   },
   {
    "duration": 10050,
    "start_time": "2022-12-19T09:43:21.544Z"
   },
   {
    "duration": 9,
    "start_time": "2022-12-19T09:43:31.596Z"
   },
   {
    "duration": 24,
    "start_time": "2022-12-19T09:43:31.607Z"
   },
   {
    "duration": 22,
    "start_time": "2022-12-19T09:43:31.635Z"
   },
   {
    "duration": 36,
    "start_time": "2022-12-19T09:43:31.659Z"
   },
   {
    "duration": 16,
    "start_time": "2022-12-19T09:43:31.698Z"
   },
   {
    "duration": 604,
    "start_time": "2022-12-19T09:43:31.716Z"
   },
   {
    "duration": 477,
    "start_time": "2022-12-19T09:43:32.322Z"
   },
   {
    "duration": 799,
    "start_time": "2022-12-19T09:43:32.802Z"
   },
   {
    "duration": 14,
    "start_time": "2022-12-19T09:43:33.603Z"
   },
   {
    "duration": 30,
    "start_time": "2022-12-19T09:43:33.619Z"
   },
   {
    "duration": 39,
    "start_time": "2022-12-19T09:43:33.651Z"
   },
   {
    "duration": 8,
    "start_time": "2022-12-19T09:43:33.691Z"
   },
   {
    "duration": 10,
    "start_time": "2022-12-19T09:43:33.701Z"
   },
   {
    "duration": 13,
    "start_time": "2022-12-19T09:43:33.713Z"
   },
   {
    "duration": 200357,
    "start_time": "2022-12-19T09:43:33.729Z"
   },
   {
    "duration": 18,
    "start_time": "2022-12-19T09:46:54.088Z"
   },
   {
    "duration": 40,
    "start_time": "2022-12-19T09:46:54.109Z"
   },
   {
    "duration": 13,
    "start_time": "2022-12-19T09:46:54.152Z"
   },
   {
    "duration": 13,
    "start_time": "2022-12-19T09:46:54.167Z"
   },
   {
    "duration": 8,
    "start_time": "2022-12-19T09:46:54.182Z"
   },
   {
    "duration": 249474,
    "start_time": "2022-12-19T09:46:54.194Z"
   },
   {
    "duration": 16,
    "start_time": "2022-12-19T09:51:03.669Z"
   },
   {
    "duration": 17,
    "start_time": "2022-12-19T09:51:03.687Z"
   },
   {
    "duration": 21,
    "start_time": "2022-12-19T09:51:03.706Z"
   },
   {
    "duration": 108145,
    "start_time": "2022-12-19T09:51:03.729Z"
   },
   {
    "duration": 30,
    "start_time": "2022-12-19T09:52:51.876Z"
   },
   {
    "duration": 172782,
    "start_time": "2022-12-19T09:52:51.908Z"
   },
   {
    "duration": 19,
    "start_time": "2022-12-19T09:55:44.691Z"
   },
   {
    "duration": 11,
    "start_time": "2022-12-19T09:55:44.711Z"
   },
   {
    "duration": 27,
    "start_time": "2022-12-19T09:55:44.723Z"
   },
   {
    "duration": 14,
    "start_time": "2022-12-19T09:55:44.751Z"
   },
   {
    "duration": 29,
    "start_time": "2022-12-19T09:55:44.767Z"
   },
   {
    "duration": 111836,
    "start_time": "2022-12-19T09:55:44.798Z"
   },
   {
    "duration": 30,
    "start_time": "2022-12-19T09:57:36.636Z"
   },
   {
    "duration": 45,
    "start_time": "2022-12-19T09:57:36.669Z"
   },
   {
    "duration": 168,
    "start_time": "2022-12-19T09:57:36.715Z"
   },
   {
    "duration": 117,
    "start_time": "2022-12-19T10:04:58.510Z"
   },
   {
    "duration": 11,
    "start_time": "2022-12-19T10:07:38.629Z"
   },
   {
    "duration": 10,
    "start_time": "2022-12-19T10:07:55.067Z"
   },
   {
    "duration": 11,
    "start_time": "2022-12-19T10:08:16.636Z"
   },
   {
    "duration": 11,
    "start_time": "2022-12-19T10:09:39.269Z"
   },
   {
    "duration": 14,
    "start_time": "2022-12-19T10:12:36.802Z"
   },
   {
    "duration": 1470,
    "start_time": "2022-12-19T10:14:47.027Z"
   },
   {
    "duration": 3,
    "start_time": "2022-12-19T10:14:48.499Z"
   },
   {
    "duration": 60,
    "start_time": "2022-12-19T10:14:48.504Z"
   },
   {
    "duration": 16,
    "start_time": "2022-12-19T10:14:48.566Z"
   },
   {
    "duration": 15,
    "start_time": "2022-12-19T10:14:48.585Z"
   },
   {
    "duration": 41,
    "start_time": "2022-12-19T10:14:48.602Z"
   },
   {
    "duration": 8716,
    "start_time": "2022-12-19T10:14:48.645Z"
   },
   {
    "duration": 6,
    "start_time": "2022-12-19T10:14:57.363Z"
   },
   {
    "duration": 8,
    "start_time": "2022-12-19T10:14:57.371Z"
   },
   {
    "duration": 10,
    "start_time": "2022-12-19T10:14:57.381Z"
   },
   {
    "duration": 12,
    "start_time": "2022-12-19T10:14:57.393Z"
   },
   {
    "duration": 10,
    "start_time": "2022-12-19T10:14:57.407Z"
   },
   {
    "duration": 483,
    "start_time": "2022-12-19T10:14:57.418Z"
   },
   {
    "duration": 392,
    "start_time": "2022-12-19T10:14:57.904Z"
   },
   {
    "duration": 668,
    "start_time": "2022-12-19T10:14:58.298Z"
   },
   {
    "duration": 12,
    "start_time": "2022-12-19T10:14:58.968Z"
   },
   {
    "duration": 23,
    "start_time": "2022-12-19T10:14:58.982Z"
   },
   {
    "duration": 31,
    "start_time": "2022-12-19T10:14:59.007Z"
   },
   {
    "duration": 3,
    "start_time": "2022-12-19T10:14:59.040Z"
   },
   {
    "duration": 13,
    "start_time": "2022-12-19T10:14:59.044Z"
   },
   {
    "duration": 11,
    "start_time": "2022-12-19T10:14:59.058Z"
   },
   {
    "duration": 187706,
    "start_time": "2022-12-19T10:14:59.070Z"
   },
   {
    "duration": 6,
    "start_time": "2022-12-19T10:18:06.778Z"
   },
   {
    "duration": 34,
    "start_time": "2022-12-19T10:18:06.797Z"
   },
   {
    "duration": 7,
    "start_time": "2022-12-19T10:18:06.834Z"
   },
   {
    "duration": 22,
    "start_time": "2022-12-19T10:18:06.843Z"
   },
   {
    "duration": 14,
    "start_time": "2022-12-19T10:18:06.867Z"
   },
   {
    "duration": 227796,
    "start_time": "2022-12-19T10:18:06.884Z"
   },
   {
    "duration": 140,
    "start_time": "2022-12-19T10:21:54.682Z"
   },
   {
    "duration": 0,
    "start_time": "2022-12-19T10:21:54.825Z"
   },
   {
    "duration": 0,
    "start_time": "2022-12-19T10:21:54.826Z"
   },
   {
    "duration": 0,
    "start_time": "2022-12-19T10:21:54.827Z"
   },
   {
    "duration": 0,
    "start_time": "2022-12-19T10:21:54.829Z"
   },
   {
    "duration": 0,
    "start_time": "2022-12-19T10:21:54.831Z"
   },
   {
    "duration": 0,
    "start_time": "2022-12-19T10:21:54.832Z"
   },
   {
    "duration": 0,
    "start_time": "2022-12-19T10:21:54.833Z"
   },
   {
    "duration": 0,
    "start_time": "2022-12-19T10:21:54.835Z"
   },
   {
    "duration": 0,
    "start_time": "2022-12-19T10:21:54.836Z"
   },
   {
    "duration": 0,
    "start_time": "2022-12-19T10:21:54.838Z"
   },
   {
    "duration": 0,
    "start_time": "2022-12-19T10:21:54.839Z"
   },
   {
    "duration": 0,
    "start_time": "2022-12-19T10:21:54.841Z"
   },
   {
    "duration": 0,
    "start_time": "2022-12-19T10:21:54.843Z"
   },
   {
    "duration": 0,
    "start_time": "2022-12-19T10:21:54.845Z"
   },
   {
    "duration": 0,
    "start_time": "2022-12-19T10:21:54.846Z"
   },
   {
    "duration": 0,
    "start_time": "2022-12-19T10:21:54.848Z"
   },
   {
    "duration": 0,
    "start_time": "2022-12-19T10:21:54.850Z"
   },
   {
    "duration": 0,
    "start_time": "2022-12-19T10:21:54.851Z"
   },
   {
    "duration": 10,
    "start_time": "2022-12-19T10:24:23.817Z"
   },
   {
    "duration": 240379,
    "start_time": "2022-12-19T10:24:23.829Z"
   },
   {
    "duration": 5,
    "start_time": "2022-12-19T10:28:24.210Z"
   },
   {
    "duration": 36,
    "start_time": "2022-12-19T10:28:24.218Z"
   },
   {
    "duration": 8,
    "start_time": "2022-12-19T10:28:24.256Z"
   },
   {
    "duration": 10,
    "start_time": "2022-12-19T10:28:24.265Z"
   },
   {
    "duration": 112725,
    "start_time": "2022-12-19T10:28:24.277Z"
   },
   {
    "duration": 5,
    "start_time": "2022-12-19T10:30:17.003Z"
   },
   {
    "duration": 24,
    "start_time": "2022-12-19T10:30:17.010Z"
   },
   {
    "duration": 185766,
    "start_time": "2022-12-19T10:30:17.036Z"
   },
   {
    "duration": 4,
    "start_time": "2022-12-19T10:33:22.805Z"
   },
   {
    "duration": 32,
    "start_time": "2022-12-19T10:33:22.811Z"
   },
   {
    "duration": 16,
    "start_time": "2022-12-19T10:33:22.845Z"
   },
   {
    "duration": 21,
    "start_time": "2022-12-19T10:33:22.863Z"
   },
   {
    "duration": 18,
    "start_time": "2022-12-19T10:33:22.886Z"
   },
   {
    "duration": 12,
    "start_time": "2022-12-19T10:33:22.905Z"
   },
   {
    "duration": 277670,
    "start_time": "2022-12-19T10:33:22.919Z"
   },
   {
    "duration": 6,
    "start_time": "2022-12-19T10:38:00.591Z"
   },
   {
    "duration": 96,
    "start_time": "2022-12-19T10:38:00.599Z"
   },
   {
    "duration": 0,
    "start_time": "2022-12-19T10:38:00.697Z"
   },
   {
    "duration": 0,
    "start_time": "2022-12-19T10:38:00.699Z"
   },
   {
    "duration": 36,
    "start_time": "2022-12-19T10:43:56.945Z"
   },
   {
    "duration": 10,
    "start_time": "2022-12-19T10:44:00.337Z"
   },
   {
    "duration": 30,
    "start_time": "2022-12-19T10:44:12.122Z"
   },
   {
    "duration": 145,
    "start_time": "2022-12-19T10:44:14.225Z"
   },
   {
    "duration": 106,
    "start_time": "2022-12-19T10:45:47.306Z"
   },
   {
    "duration": 16,
    "start_time": "2022-12-19T10:45:58.818Z"
   },
   {
    "duration": 18,
    "start_time": "2022-12-19T10:46:23.903Z"
   },
   {
    "duration": 16,
    "start_time": "2022-12-19T10:46:39.208Z"
   },
   {
    "duration": 13,
    "start_time": "2022-12-19T10:46:54.850Z"
   },
   {
    "duration": 4,
    "start_time": "2022-12-19T10:47:18.747Z"
   },
   {
    "duration": 14,
    "start_time": "2022-12-19T10:48:23.953Z"
   },
   {
    "duration": 4,
    "start_time": "2022-12-19T10:49:02.875Z"
   },
   {
    "duration": 13,
    "start_time": "2022-12-19T10:49:07.827Z"
   },
   {
    "duration": 15,
    "start_time": "2022-12-19T10:49:47.757Z"
   },
   {
    "duration": 9,
    "start_time": "2022-12-19T10:49:55.710Z"
   },
   {
    "duration": 8,
    "start_time": "2022-12-19T10:51:16.129Z"
   },
   {
    "duration": 12,
    "start_time": "2022-12-19T10:51:40.235Z"
   },
   {
    "duration": 12,
    "start_time": "2022-12-19T10:52:09.516Z"
   },
   {
    "duration": 9,
    "start_time": "2022-12-19T10:53:13.563Z"
   },
   {
    "duration": 11,
    "start_time": "2022-12-19T10:55:10.106Z"
   },
   {
    "duration": 9,
    "start_time": "2022-12-19T10:55:33.532Z"
   },
   {
    "duration": 4,
    "start_time": "2022-12-19T11:01:58.685Z"
   },
   {
    "duration": 9,
    "start_time": "2022-12-19T11:02:10.853Z"
   },
   {
    "duration": 13,
    "start_time": "2022-12-19T11:02:21.201Z"
   },
   {
    "duration": 5,
    "start_time": "2022-12-19T11:02:31.820Z"
   },
   {
    "duration": 10,
    "start_time": "2022-12-19T11:03:21.407Z"
   },
   {
    "duration": 4,
    "start_time": "2022-12-19T11:29:43.486Z"
   },
   {
    "duration": 4,
    "start_time": "2022-12-19T11:29:52.558Z"
   },
   {
    "duration": 6,
    "start_time": "2022-12-19T11:30:32.416Z"
   },
   {
    "duration": 5,
    "start_time": "2022-12-19T11:50:45.105Z"
   },
   {
    "duration": 6,
    "start_time": "2022-12-19T11:51:07.041Z"
   },
   {
    "duration": 4426,
    "start_time": "2022-12-19T11:51:12.481Z"
   },
   {
    "duration": 7,
    "start_time": "2022-12-19T11:51:19.921Z"
   },
   {
    "duration": 4,
    "start_time": "2022-12-19T11:54:31.426Z"
   },
   {
    "duration": 5,
    "start_time": "2022-12-19T11:56:12.148Z"
   },
   {
    "duration": 1501,
    "start_time": "2022-12-19T12:09:43.185Z"
   },
   {
    "duration": 2,
    "start_time": "2022-12-19T12:09:44.688Z"
   },
   {
    "duration": 183,
    "start_time": "2022-12-19T12:09:44.692Z"
   },
   {
    "duration": 13,
    "start_time": "2022-12-19T12:09:44.878Z"
   },
   {
    "duration": 10,
    "start_time": "2022-12-19T12:09:44.893Z"
   },
   {
    "duration": 37,
    "start_time": "2022-12-19T12:09:44.905Z"
   },
   {
    "duration": 7799,
    "start_time": "2022-12-19T12:09:44.943Z"
   },
   {
    "duration": 6,
    "start_time": "2022-12-19T12:09:52.743Z"
   },
   {
    "duration": 20,
    "start_time": "2022-12-19T12:09:52.750Z"
   },
   {
    "duration": 22,
    "start_time": "2022-12-19T12:09:52.774Z"
   },
   {
    "duration": 23,
    "start_time": "2022-12-19T12:09:52.797Z"
   },
   {
    "duration": 19,
    "start_time": "2022-12-19T12:09:52.821Z"
   },
   {
    "duration": 496,
    "start_time": "2022-12-19T12:09:52.842Z"
   },
   {
    "duration": 368,
    "start_time": "2022-12-19T12:09:53.340Z"
   },
   {
    "duration": 735,
    "start_time": "2022-12-19T12:09:53.709Z"
   },
   {
    "duration": 12,
    "start_time": "2022-12-19T12:09:54.445Z"
   },
   {
    "duration": 20,
    "start_time": "2022-12-19T12:09:54.458Z"
   },
   {
    "duration": 31,
    "start_time": "2022-12-19T12:09:54.480Z"
   },
   {
    "duration": 2,
    "start_time": "2022-12-19T12:09:54.513Z"
   },
   {
    "duration": 9,
    "start_time": "2022-12-19T12:09:54.517Z"
   },
   {
    "duration": 10,
    "start_time": "2022-12-19T12:09:54.527Z"
   },
   {
    "duration": 164556,
    "start_time": "2022-12-19T12:09:54.538Z"
   },
   {
    "duration": 4,
    "start_time": "2022-12-19T12:12:39.096Z"
   },
   {
    "duration": 16,
    "start_time": "2022-12-19T12:12:39.101Z"
   },
   {
    "duration": 5,
    "start_time": "2022-12-19T12:12:39.118Z"
   },
   {
    "duration": 14,
    "start_time": "2022-12-19T12:12:39.124Z"
   },
   {
    "duration": 19,
    "start_time": "2022-12-19T12:12:39.140Z"
   },
   {
    "duration": 3,
    "start_time": "2022-12-19T12:12:39.162Z"
   },
   {
    "duration": 15,
    "start_time": "2022-12-19T12:12:39.166Z"
   },
   {
    "duration": 6,
    "start_time": "2022-12-19T12:15:29.422Z"
   },
   {
    "duration": 10,
    "start_time": "2022-12-19T12:16:26.593Z"
   },
   {
    "duration": 9,
    "start_time": "2022-12-19T12:16:55.761Z"
   },
   {
    "duration": 10,
    "start_time": "2022-12-19T12:17:23.305Z"
   },
   {
    "duration": 10,
    "start_time": "2022-12-19T12:17:28.969Z"
   },
   {
    "duration": 3,
    "start_time": "2022-12-19T12:22:31.450Z"
   },
   {
    "duration": 21,
    "start_time": "2022-12-19T12:23:36.194Z"
   },
   {
    "duration": 21,
    "start_time": "2022-12-19T12:27:48.175Z"
   },
   {
    "duration": 18,
    "start_time": "2022-12-19T12:28:10.446Z"
   },
   {
    "duration": 18,
    "start_time": "2022-12-19T12:28:59.516Z"
   },
   {
    "duration": 3,
    "start_time": "2022-12-19T12:38:07.387Z"
   },
   {
    "duration": 16,
    "start_time": "2022-12-19T12:38:23.709Z"
   },
   {
    "duration": 21,
    "start_time": "2022-12-19T12:38:47.629Z"
   },
   {
    "duration": 18,
    "start_time": "2022-12-19T12:39:25.630Z"
   },
   {
    "duration": 128,
    "start_time": "2022-12-19T12:39:33.661Z"
   },
   {
    "duration": 16,
    "start_time": "2022-12-19T12:39:39.782Z"
   },
   {
    "duration": 19,
    "start_time": "2022-12-19T12:39:44.918Z"
   },
   {
    "duration": 20,
    "start_time": "2022-12-19T12:40:02.901Z"
   },
   {
    "duration": 22,
    "start_time": "2022-12-19T12:40:09.486Z"
   },
   {
    "duration": 19,
    "start_time": "2022-12-19T12:40:29.486Z"
   },
   {
    "duration": 4,
    "start_time": "2022-12-19T12:42:25.278Z"
   },
   {
    "duration": 19,
    "start_time": "2022-12-19T12:42:29.494Z"
   },
   {
    "duration": 19,
    "start_time": "2022-12-19T12:42:44.350Z"
   },
   {
    "duration": 4,
    "start_time": "2022-12-19T12:52:11.509Z"
   },
   {
    "duration": 4,
    "start_time": "2022-12-19T12:52:20.799Z"
   },
   {
    "duration": 159,
    "start_time": "2022-12-19T12:52:41.927Z"
   },
   {
    "duration": 24,
    "start_time": "2022-12-19T12:54:23.192Z"
   },
   {
    "duration": 4,
    "start_time": "2022-12-19T12:55:01.224Z"
   },
   {
    "duration": 17,
    "start_time": "2022-12-19T12:55:03.239Z"
   },
   {
    "duration": 5,
    "start_time": "2022-12-19T12:55:31.800Z"
   },
   {
    "duration": 10,
    "start_time": "2022-12-19T12:55:33.207Z"
   },
   {
    "duration": 5,
    "start_time": "2022-12-19T12:55:59.224Z"
   },
   {
    "duration": 16,
    "start_time": "2022-12-19T12:56:00.096Z"
   },
   {
    "duration": 5,
    "start_time": "2022-12-19T12:56:09.352Z"
   },
   {
    "duration": 20,
    "start_time": "2022-12-19T12:56:10.616Z"
   },
   {
    "duration": 112,
    "start_time": "2022-12-19T12:56:11.384Z"
   },
   {
    "duration": 7,
    "start_time": "2022-12-19T12:56:17.053Z"
   },
   {
    "duration": 20,
    "start_time": "2022-12-19T12:56:17.231Z"
   },
   {
    "duration": 5,
    "start_time": "2022-12-19T12:56:53.280Z"
   },
   {
    "duration": 13,
    "start_time": "2022-12-19T12:56:54.065Z"
   },
   {
    "duration": 137,
    "start_time": "2022-12-19T12:57:04.000Z"
   },
   {
    "duration": 3,
    "start_time": "2022-12-19T12:57:33.784Z"
   },
   {
    "duration": 16,
    "start_time": "2022-12-19T12:57:34.719Z"
   },
   {
    "duration": 120573,
    "start_time": "2022-12-19T12:57:36.504Z"
   },
   {
    "duration": 114,
    "start_time": "2022-12-19T13:00:05.681Z"
   },
   {
    "duration": 4,
    "start_time": "2022-12-19T13:00:20.240Z"
   },
   {
    "duration": 135,
    "start_time": "2022-12-19T13:00:20.978Z"
   },
   {
    "duration": 5,
    "start_time": "2022-12-19T13:02:10.953Z"
   },
   {
    "duration": 127,
    "start_time": "2022-12-19T13:02:12.713Z"
   },
   {
    "duration": 1548,
    "start_time": "2022-12-19T13:08:11.585Z"
   },
   {
    "duration": 3,
    "start_time": "2022-12-19T13:08:13.135Z"
   },
   {
    "duration": 106,
    "start_time": "2022-12-19T13:08:13.139Z"
   },
   {
    "duration": 15,
    "start_time": "2022-12-19T13:08:13.247Z"
   },
   {
    "duration": 12,
    "start_time": "2022-12-19T13:08:13.265Z"
   },
   {
    "duration": 60,
    "start_time": "2022-12-19T13:08:13.279Z"
   },
   {
    "duration": 8764,
    "start_time": "2022-12-19T13:08:13.341Z"
   },
   {
    "duration": 6,
    "start_time": "2022-12-19T13:08:22.107Z"
   },
   {
    "duration": 28,
    "start_time": "2022-12-19T13:08:22.115Z"
   },
   {
    "duration": 18,
    "start_time": "2022-12-19T13:08:22.145Z"
   },
   {
    "duration": 12,
    "start_time": "2022-12-19T13:08:22.165Z"
   },
   {
    "duration": 18,
    "start_time": "2022-12-19T13:08:22.179Z"
   },
   {
    "duration": 570,
    "start_time": "2022-12-19T13:08:22.199Z"
   },
   {
    "duration": 393,
    "start_time": "2022-12-19T13:08:22.772Z"
   },
   {
    "duration": 688,
    "start_time": "2022-12-19T13:08:23.167Z"
   },
   {
    "duration": 12,
    "start_time": "2022-12-19T13:08:23.857Z"
   },
   {
    "duration": 10,
    "start_time": "2022-12-19T13:08:23.871Z"
   },
   {
    "duration": 39,
    "start_time": "2022-12-19T13:08:23.882Z"
   },
   {
    "duration": 4,
    "start_time": "2022-12-19T13:08:23.934Z"
   },
   {
    "duration": 25,
    "start_time": "2022-12-19T13:08:23.939Z"
   },
   {
    "duration": 7,
    "start_time": "2022-12-19T13:08:23.966Z"
   },
   {
    "duration": 5,
    "start_time": "2022-12-19T13:08:41.847Z"
   },
   {
    "duration": 5,
    "start_time": "2022-12-19T13:09:22.457Z"
   },
   {
    "duration": 15,
    "start_time": "2022-12-19T13:09:50.095Z"
   },
   {
    "duration": 4,
    "start_time": "2022-12-19T13:10:28.031Z"
   },
   {
    "duration": 16,
    "start_time": "2022-12-19T13:10:28.582Z"
   },
   {
    "duration": 4,
    "start_time": "2022-12-19T13:11:58.623Z"
   },
   {
    "duration": 16,
    "start_time": "2022-12-19T13:11:59.031Z"
   },
   {
    "duration": 4,
    "start_time": "2022-12-19T13:12:20.784Z"
   },
   {
    "duration": 15,
    "start_time": "2022-12-19T13:12:21.463Z"
   },
   {
    "duration": 220,
    "start_time": "2022-12-19T13:12:42.065Z"
   },
   {
    "duration": 3,
    "start_time": "2022-12-19T13:13:07.031Z"
   },
   {
    "duration": 114,
    "start_time": "2022-12-19T13:13:12.447Z"
   },
   {
    "duration": 4,
    "start_time": "2022-12-19T13:14:59.055Z"
   },
   {
    "duration": 17,
    "start_time": "2022-12-19T13:15:00.609Z"
   },
   {
    "duration": 13,
    "start_time": "2022-12-19T13:15:21.295Z"
   },
   {
    "duration": 92,
    "start_time": "2022-12-19T13:16:10.574Z"
   },
   {
    "duration": 5,
    "start_time": "2022-12-19T13:17:15.160Z"
   },
   {
    "duration": 13,
    "start_time": "2022-12-19T13:17:16.008Z"
   },
   {
    "duration": 86,
    "start_time": "2022-12-19T13:17:18.368Z"
   },
   {
    "duration": 3,
    "start_time": "2022-12-19T13:17:51.968Z"
   },
   {
    "duration": 12,
    "start_time": "2022-12-19T13:17:54.287Z"
   },
   {
    "duration": 3,
    "start_time": "2022-12-19T13:19:04.753Z"
   },
   {
    "duration": 3,
    "start_time": "2022-12-19T13:19:06.585Z"
   },
   {
    "duration": 103,
    "start_time": "2022-12-19T13:19:16.728Z"
   },
   {
    "duration": 4,
    "start_time": "2022-12-19T13:19:44.657Z"
   },
   {
    "duration": 111,
    "start_time": "2022-12-19T13:20:03.024Z"
   },
   {
    "duration": 4,
    "start_time": "2022-12-19T13:23:40.297Z"
   },
   {
    "duration": 4,
    "start_time": "2022-12-19T13:23:40.993Z"
   },
   {
    "duration": 5,
    "start_time": "2022-12-19T13:23:42.594Z"
   },
   {
    "duration": 178368,
    "start_time": "2022-12-19T13:23:43.386Z"
   },
   {
    "duration": 55,
    "start_time": "2022-12-19T13:27:47.265Z"
   },
   {
    "duration": 7,
    "start_time": "2022-12-19T13:27:54.347Z"
   },
   {
    "duration": 7,
    "start_time": "2022-12-19T13:28:03.601Z"
   },
   {
    "duration": 7,
    "start_time": "2022-12-19T13:28:06.577Z"
   },
   {
    "duration": 179556,
    "start_time": "2022-12-19T13:29:45.785Z"
   },
   {
    "duration": 4,
    "start_time": "2022-12-19T13:33:12.034Z"
   },
   {
    "duration": 4,
    "start_time": "2022-12-19T13:40:30.804Z"
   },
   {
    "duration": 9,
    "start_time": "2022-12-19T13:40:32.295Z"
   },
   {
    "duration": 4,
    "start_time": "2022-12-19T13:43:05.532Z"
   },
   {
    "duration": 8,
    "start_time": "2022-12-19T13:43:06.844Z"
   },
   {
    "duration": 4,
    "start_time": "2022-12-19T13:43:53.003Z"
   },
   {
    "duration": 8,
    "start_time": "2022-12-19T13:43:53.675Z"
   },
   {
    "duration": 6,
    "start_time": "2022-12-19T14:02:04.703Z"
   },
   {
    "duration": 10,
    "start_time": "2022-12-19T14:02:05.105Z"
   },
   {
    "duration": 106,
    "start_time": "2022-12-19T14:02:05.847Z"
   },
   {
    "duration": 4,
    "start_time": "2022-12-19T14:03:08.423Z"
   },
   {
    "duration": 4,
    "start_time": "2022-12-19T14:03:43.375Z"
   },
   {
    "duration": 7,
    "start_time": "2022-12-19T14:03:44.647Z"
   },
   {
    "duration": 79,
    "start_time": "2022-12-19T14:04:01.392Z"
   },
   {
    "duration": 4,
    "start_time": "2022-12-19T14:04:21.568Z"
   },
   {
    "duration": 7,
    "start_time": "2022-12-19T14:04:22.855Z"
   },
   {
    "duration": 4,
    "start_time": "2022-12-19T14:06:48.496Z"
   },
   {
    "duration": 15,
    "start_time": "2022-12-19T14:06:50.327Z"
   },
   {
    "duration": 4,
    "start_time": "2022-12-19T14:07:05.320Z"
   },
   {
    "duration": 201,
    "start_time": "2022-12-19T14:07:06.194Z"
   },
   {
    "duration": 4,
    "start_time": "2022-12-19T14:07:20.960Z"
   },
   {
    "duration": 7,
    "start_time": "2022-12-19T14:07:22.055Z"
   },
   {
    "duration": 4,
    "start_time": "2022-12-19T14:07:32.694Z"
   },
   {
    "duration": 7,
    "start_time": "2022-12-19T14:07:33.093Z"
   },
   {
    "duration": 4,
    "start_time": "2022-12-19T14:07:49.392Z"
   },
   {
    "duration": 6,
    "start_time": "2022-12-19T14:07:49.960Z"
   },
   {
    "duration": 5,
    "start_time": "2022-12-19T14:08:08.656Z"
   },
   {
    "duration": 8,
    "start_time": "2022-12-19T14:08:09.857Z"
   },
   {
    "duration": 3,
    "start_time": "2022-12-19T14:08:48.457Z"
   },
   {
    "duration": 9,
    "start_time": "2022-12-19T14:08:49.232Z"
   },
   {
    "duration": 6,
    "start_time": "2022-12-19T14:10:12.664Z"
   },
   {
    "duration": 11,
    "start_time": "2022-12-19T14:10:13.441Z"
   },
   {
    "duration": 7,
    "start_time": "2022-12-19T14:12:06.169Z"
   },
   {
    "duration": 26,
    "start_time": "2022-12-19T14:12:06.721Z"
   },
   {
    "duration": 5,
    "start_time": "2022-12-19T14:12:59.337Z"
   },
   {
    "duration": 13,
    "start_time": "2022-12-19T14:13:00.144Z"
   },
   {
    "duration": 4,
    "start_time": "2022-12-19T14:15:00.546Z"
   },
   {
    "duration": 13,
    "start_time": "2022-12-19T14:15:02.027Z"
   },
   {
    "duration": 6,
    "start_time": "2022-12-19T14:15:27.490Z"
   },
   {
    "duration": 13,
    "start_time": "2022-12-19T14:15:28.257Z"
   },
   {
    "duration": 5,
    "start_time": "2022-12-19T14:15:53.938Z"
   },
   {
    "duration": 14,
    "start_time": "2022-12-19T14:15:54.409Z"
   },
   {
    "duration": 4,
    "start_time": "2022-12-19T14:16:19.762Z"
   },
   {
    "duration": 11,
    "start_time": "2022-12-19T14:16:20.914Z"
   },
   {
    "duration": 234278,
    "start_time": "2022-12-19T14:16:24.794Z"
   },
   {
    "duration": 4,
    "start_time": "2022-12-19T14:26:52.027Z"
   },
   {
    "duration": 1399,
    "start_time": "2022-12-19T14:33:18.197Z"
   },
   {
    "duration": 4,
    "start_time": "2022-12-19T14:33:19.598Z"
   },
   {
    "duration": 62,
    "start_time": "2022-12-19T14:33:19.603Z"
   },
   {
    "duration": 14,
    "start_time": "2022-12-19T14:33:19.667Z"
   },
   {
    "duration": 16,
    "start_time": "2022-12-19T14:33:19.684Z"
   },
   {
    "duration": 66,
    "start_time": "2022-12-19T14:33:19.702Z"
   },
   {
    "duration": 8720,
    "start_time": "2022-12-19T14:33:19.769Z"
   },
   {
    "duration": 7,
    "start_time": "2022-12-19T14:33:28.491Z"
   },
   {
    "duration": 19,
    "start_time": "2022-12-19T14:33:28.499Z"
   },
   {
    "duration": 21,
    "start_time": "2022-12-19T14:33:28.519Z"
   },
   {
    "duration": 31,
    "start_time": "2022-12-19T14:33:28.541Z"
   },
   {
    "duration": 23,
    "start_time": "2022-12-19T14:33:28.574Z"
   },
   {
    "duration": 506,
    "start_time": "2022-12-19T14:33:28.599Z"
   },
   {
    "duration": 398,
    "start_time": "2022-12-19T14:33:29.109Z"
   },
   {
    "duration": 672,
    "start_time": "2022-12-19T14:33:29.509Z"
   },
   {
    "duration": 11,
    "start_time": "2022-12-19T14:33:30.183Z"
   },
   {
    "duration": 42,
    "start_time": "2022-12-19T14:33:30.196Z"
   },
   {
    "duration": 53,
    "start_time": "2022-12-19T14:33:30.240Z"
   },
   {
    "duration": 4,
    "start_time": "2022-12-19T14:33:30.295Z"
   },
   {
    "duration": 39,
    "start_time": "2022-12-19T14:33:30.301Z"
   },
   {
    "duration": 20,
    "start_time": "2022-12-19T14:33:30.341Z"
   },
   {
    "duration": 30,
    "start_time": "2022-12-19T14:33:30.363Z"
   },
   {
    "duration": 183138,
    "start_time": "2022-12-19T14:33:30.395Z"
   },
   {
    "duration": 5,
    "start_time": "2022-12-19T14:36:33.535Z"
   },
   {
    "duration": 23,
    "start_time": "2022-12-19T14:36:33.542Z"
   },
   {
    "duration": 5,
    "start_time": "2022-12-19T14:36:33.567Z"
   },
   {
    "duration": 20,
    "start_time": "2022-12-19T14:36:33.574Z"
   },
   {
    "duration": 238878,
    "start_time": "2022-12-19T14:36:33.595Z"
   },
   {
    "duration": 4,
    "start_time": "2022-12-19T14:40:32.476Z"
   },
   {
    "duration": 38,
    "start_time": "2022-12-19T14:40:32.483Z"
   },
   {
    "duration": 22,
    "start_time": "2022-12-19T14:40:32.523Z"
   },
   {
    "duration": 36,
    "start_time": "2022-12-19T14:40:32.548Z"
   },
   {
    "duration": 112342,
    "start_time": "2022-12-19T14:40:32.586Z"
   },
   {
    "duration": 10,
    "start_time": "2022-12-19T14:42:24.930Z"
   },
   {
    "duration": 29,
    "start_time": "2022-12-19T14:42:24.941Z"
   },
   {
    "duration": 185045,
    "start_time": "2022-12-19T14:42:24.973Z"
   },
   {
    "duration": 15,
    "start_time": "2022-12-19T14:45:30.020Z"
   },
   {
    "duration": 44,
    "start_time": "2022-12-19T14:45:30.043Z"
   },
   {
    "duration": 21,
    "start_time": "2022-12-19T14:45:30.089Z"
   },
   {
    "duration": 56,
    "start_time": "2022-12-19T14:45:30.112Z"
   },
   {
    "duration": 17,
    "start_time": "2022-12-19T14:45:30.172Z"
   },
   {
    "duration": 27,
    "start_time": "2022-12-19T14:45:30.192Z"
   },
   {
    "duration": 278103,
    "start_time": "2022-12-19T14:45:30.221Z"
   },
   {
    "duration": 4,
    "start_time": "2022-12-19T14:50:08.326Z"
   },
   {
    "duration": 49,
    "start_time": "2022-12-19T14:50:08.335Z"
   },
   {
    "duration": 35,
    "start_time": "2022-12-19T14:50:08.386Z"
   },
   {
    "duration": 148,
    "start_time": "2022-12-19T14:50:08.423Z"
   },
   {
    "duration": 5,
    "start_time": "2022-12-19T14:50:18.630Z"
   },
   {
    "duration": 12,
    "start_time": "2022-12-19T14:50:20.096Z"
   },
   {
    "duration": 11,
    "start_time": "2022-12-19T14:50:25.814Z"
   },
   {
    "duration": 10,
    "start_time": "2022-12-19T14:50:31.518Z"
   },
   {
    "duration": 17,
    "start_time": "2022-12-19T14:50:39.118Z"
   },
   {
    "duration": 18,
    "start_time": "2022-12-19T14:53:08.967Z"
   },
   {
    "duration": 114,
    "start_time": "2022-12-19T14:53:33.134Z"
   },
   {
    "duration": 4,
    "start_time": "2022-12-19T14:53:36.527Z"
   },
   {
    "duration": 18,
    "start_time": "2022-12-19T14:53:37.014Z"
   },
   {
    "duration": 23,
    "start_time": "2022-12-19T14:54:09.863Z"
   },
   {
    "duration": 5,
    "start_time": "2022-12-19T14:55:56.063Z"
   },
   {
    "duration": 23,
    "start_time": "2022-12-19T14:55:56.830Z"
   },
   {
    "duration": 22,
    "start_time": "2022-12-19T14:56:11.294Z"
   },
   {
    "duration": 5,
    "start_time": "2022-12-19T14:56:59.090Z"
   },
   {
    "duration": 22,
    "start_time": "2022-12-19T14:56:59.503Z"
   },
   {
    "duration": 4,
    "start_time": "2022-12-19T14:57:18.655Z"
   },
   {
    "duration": 28,
    "start_time": "2022-12-19T14:57:19.046Z"
   },
   {
    "duration": 4,
    "start_time": "2022-12-19T14:57:53.399Z"
   },
   {
    "duration": 17,
    "start_time": "2022-12-19T14:57:54.001Z"
   },
   {
    "duration": 3,
    "start_time": "2022-12-19T14:58:23.071Z"
   },
   {
    "duration": 7,
    "start_time": "2022-12-19T14:58:23.543Z"
   },
   {
    "duration": 3,
    "start_time": "2022-12-19T14:58:51.984Z"
   },
   {
    "duration": 8,
    "start_time": "2022-12-19T14:58:52.799Z"
   },
   {
    "duration": 3,
    "start_time": "2022-12-19T14:59:10.191Z"
   },
   {
    "duration": 7,
    "start_time": "2022-12-19T14:59:10.591Z"
   },
   {
    "duration": 3,
    "start_time": "2022-12-19T14:59:14.703Z"
   },
   {
    "duration": 7,
    "start_time": "2022-12-19T14:59:16.335Z"
   },
   {
    "duration": 6,
    "start_time": "2022-12-19T15:01:45.273Z"
   },
   {
    "duration": 8,
    "start_time": "2022-12-19T15:01:52.552Z"
   },
   {
    "duration": 28,
    "start_time": "2022-12-19T15:02:37.440Z"
   },
   {
    "duration": 32,
    "start_time": "2022-12-19T15:02:50.040Z"
   },
   {
    "duration": 35,
    "start_time": "2022-12-19T15:02:58.607Z"
   },
   {
    "duration": 5,
    "start_time": "2022-12-19T15:04:39.432Z"
   },
   {
    "duration": 10,
    "start_time": "2022-12-19T15:07:27.192Z"
   },
   {
    "duration": 35,
    "start_time": "2022-12-19T15:07:30.622Z"
   },
   {
    "duration": 4,
    "start_time": "2022-12-19T15:07:45.552Z"
   },
   {
    "duration": 5,
    "start_time": "2022-12-19T15:08:28.736Z"
   },
   {
    "duration": 96,
    "start_time": "2022-12-19T15:08:31.761Z"
   },
   {
    "duration": 119290,
    "start_time": "2022-12-19T15:09:21.203Z"
   },
   {
    "duration": 3,
    "start_time": "2022-12-19T15:11:28.857Z"
   },
   {
    "duration": 5,
    "start_time": "2022-12-19T15:16:44.169Z"
   },
   {
    "duration": 237221,
    "start_time": "2022-12-19T15:16:49.273Z"
   },
   {
    "duration": 30,
    "start_time": "2022-12-19T15:20:48.915Z"
   },
   {
    "duration": 4,
    "start_time": "2022-12-19T15:20:55.330Z"
   },
   {
    "duration": 5,
    "start_time": "2022-12-19T15:22:06.611Z"
   },
   {
    "duration": 232011,
    "start_time": "2022-12-19T15:22:08.811Z"
   },
   {
    "duration": 5,
    "start_time": "2022-12-19T15:26:26.747Z"
   },
   {
    "duration": 1308,
    "start_time": "2022-12-19T15:27:57.386Z"
   },
   {
    "duration": 3,
    "start_time": "2022-12-19T15:27:58.696Z"
   },
   {
    "duration": 60,
    "start_time": "2022-12-19T15:27:58.700Z"
   },
   {
    "duration": 12,
    "start_time": "2022-12-19T15:27:58.762Z"
   },
   {
    "duration": 19,
    "start_time": "2022-12-19T15:27:58.776Z"
   },
   {
    "duration": 54,
    "start_time": "2022-12-19T15:27:58.797Z"
   },
   {
    "duration": 8156,
    "start_time": "2022-12-19T15:27:58.853Z"
   },
   {
    "duration": 6,
    "start_time": "2022-12-19T15:28:07.011Z"
   },
   {
    "duration": 23,
    "start_time": "2022-12-19T15:28:07.018Z"
   },
   {
    "duration": 12,
    "start_time": "2022-12-19T15:28:07.042Z"
   },
   {
    "duration": 7,
    "start_time": "2022-12-19T15:28:07.056Z"
   },
   {
    "duration": 9,
    "start_time": "2022-12-19T15:28:07.064Z"
   },
   {
    "duration": 474,
    "start_time": "2022-12-19T15:28:07.075Z"
   },
   {
    "duration": 370,
    "start_time": "2022-12-19T15:28:07.552Z"
   },
   {
    "duration": 638,
    "start_time": "2022-12-19T15:28:07.923Z"
   },
   {
    "duration": 12,
    "start_time": "2022-12-19T15:28:08.563Z"
   },
   {
    "duration": 15,
    "start_time": "2022-12-19T15:28:08.578Z"
   },
   {
    "duration": 55,
    "start_time": "2022-12-19T15:28:08.595Z"
   },
   {
    "duration": 3,
    "start_time": "2022-12-19T15:28:08.652Z"
   },
   {
    "duration": 9,
    "start_time": "2022-12-19T15:28:08.657Z"
   },
   {
    "duration": 10,
    "start_time": "2022-12-19T15:28:08.667Z"
   },
   {
    "duration": 6,
    "start_time": "2022-12-19T15:28:08.678Z"
   },
   {
    "duration": 180625,
    "start_time": "2022-12-19T15:28:08.685Z"
   },
   {
    "duration": 4,
    "start_time": "2022-12-19T15:31:09.312Z"
   },
   {
    "duration": 28,
    "start_time": "2022-12-19T15:31:09.317Z"
   },
   {
    "duration": 5,
    "start_time": "2022-12-19T15:31:09.346Z"
   },
   {
    "duration": 11,
    "start_time": "2022-12-19T15:31:09.352Z"
   },
   {
    "duration": 236036,
    "start_time": "2022-12-19T15:31:09.365Z"
   },
   {
    "duration": 5,
    "start_time": "2022-12-19T15:35:05.402Z"
   },
   {
    "duration": 27,
    "start_time": "2022-12-19T15:35:05.408Z"
   },
   {
    "duration": 190,
    "start_time": "2022-12-19T15:35:05.437Z"
   },
   {
    "duration": 10,
    "start_time": "2022-12-19T15:35:05.628Z"
   },
   {
    "duration": 0,
    "start_time": "2022-12-19T15:35:05.640Z"
   },
   {
    "duration": 0,
    "start_time": "2022-12-19T15:35:05.641Z"
   },
   {
    "duration": 0,
    "start_time": "2022-12-19T15:35:05.642Z"
   },
   {
    "duration": 0,
    "start_time": "2022-12-19T15:35:05.643Z"
   },
   {
    "duration": 118704,
    "start_time": "2022-12-19T15:36:30.590Z"
   },
   {
    "duration": 4,
    "start_time": "2022-12-19T15:38:29.296Z"
   },
   {
    "duration": 45,
    "start_time": "2022-12-19T15:38:29.302Z"
   },
   {
    "duration": 181588,
    "start_time": "2022-12-19T15:39:03.069Z"
   },
   {
    "duration": 4,
    "start_time": "2022-12-19T15:42:04.659Z"
   },
   {
    "duration": 47,
    "start_time": "2022-12-19T15:42:04.665Z"
   },
   {
    "duration": 11,
    "start_time": "2022-12-19T15:49:31.997Z"
   },
   {
    "duration": 11,
    "start_time": "2022-12-19T15:50:06.693Z"
   },
   {
    "duration": 5,
    "start_time": "2022-12-19T15:51:05.715Z"
   },
   {
    "duration": 5,
    "start_time": "2022-12-19T15:52:15.389Z"
   },
   {
    "duration": 4,
    "start_time": "2022-12-19T15:52:23.853Z"
   },
   {
    "duration": 12,
    "start_time": "2022-12-19T15:54:23.782Z"
   },
   {
    "duration": 16,
    "start_time": "2022-12-19T15:54:58.134Z"
   },
   {
    "duration": 13,
    "start_time": "2022-12-19T15:55:16.885Z"
   },
   {
    "duration": 8,
    "start_time": "2022-12-19T15:59:09.534Z"
   },
   {
    "duration": 17,
    "start_time": "2022-12-19T15:59:11.613Z"
   },
   {
    "duration": 18,
    "start_time": "2022-12-19T15:59:26.190Z"
   },
   {
    "duration": 55,
    "start_time": "2022-12-19T16:01:18.573Z"
   },
   {
    "duration": 203031,
    "start_time": "2022-12-19T16:01:39.718Z"
   },
   {
    "duration": 3,
    "start_time": "2022-12-19T16:05:39.935Z"
   },
   {
    "duration": 205689,
    "start_time": "2022-12-19T16:07:04.750Z"
   },
   {
    "duration": 5,
    "start_time": "2022-12-19T16:10:30.441Z"
   },
   {
    "duration": 32,
    "start_time": "2022-12-19T16:10:58.167Z"
   },
   {
    "duration": 30,
    "start_time": "2022-12-19T16:11:49.279Z"
   },
   {
    "duration": 148,
    "start_time": "2022-12-19T16:11:51.351Z"
   },
   {
    "duration": 1369,
    "start_time": "2022-12-19T16:12:24.291Z"
   },
   {
    "duration": 3,
    "start_time": "2022-12-19T16:12:25.662Z"
   },
   {
    "duration": 67,
    "start_time": "2022-12-19T16:12:25.667Z"
   },
   {
    "duration": 14,
    "start_time": "2022-12-19T16:12:25.736Z"
   },
   {
    "duration": 19,
    "start_time": "2022-12-19T16:12:25.752Z"
   },
   {
    "duration": 42,
    "start_time": "2022-12-19T16:12:25.773Z"
   },
   {
    "duration": 8473,
    "start_time": "2022-12-19T16:12:25.816Z"
   },
   {
    "duration": 7,
    "start_time": "2022-12-19T16:12:34.291Z"
   },
   {
    "duration": 22,
    "start_time": "2022-12-19T16:12:34.300Z"
   },
   {
    "duration": 32,
    "start_time": "2022-12-19T16:12:34.323Z"
   },
   {
    "duration": 27,
    "start_time": "2022-12-19T16:12:34.357Z"
   },
   {
    "duration": 28,
    "start_time": "2022-12-19T16:12:34.386Z"
   },
   {
    "duration": 536,
    "start_time": "2022-12-19T16:12:34.416Z"
   },
   {
    "duration": 435,
    "start_time": "2022-12-19T16:12:34.957Z"
   },
   {
    "duration": 720,
    "start_time": "2022-12-19T16:12:35.393Z"
   },
   {
    "duration": 22,
    "start_time": "2022-12-19T16:12:36.115Z"
   },
   {
    "duration": 28,
    "start_time": "2022-12-19T16:12:36.139Z"
   },
   {
    "duration": 71,
    "start_time": "2022-12-19T16:12:36.169Z"
   },
   {
    "duration": 4,
    "start_time": "2022-12-19T16:12:36.242Z"
   },
   {
    "duration": 13,
    "start_time": "2022-12-19T16:12:36.247Z"
   },
   {
    "duration": 5,
    "start_time": "2022-12-19T16:12:36.262Z"
   },
   {
    "duration": 6,
    "start_time": "2022-12-19T16:12:36.269Z"
   },
   {
    "duration": 183880,
    "start_time": "2022-12-19T16:12:36.277Z"
   },
   {
    "duration": 4,
    "start_time": "2022-12-19T16:15:40.159Z"
   },
   {
    "duration": 24,
    "start_time": "2022-12-19T16:15:40.165Z"
   },
   {
    "duration": 6,
    "start_time": "2022-12-19T16:15:40.191Z"
   },
   {
    "duration": 11,
    "start_time": "2022-12-19T16:15:40.200Z"
   },
   {
    "duration": 240333,
    "start_time": "2022-12-19T16:15:40.213Z"
   },
   {
    "duration": 13,
    "start_time": "2022-12-19T16:19:40.548Z"
   },
   {
    "duration": 120364,
    "start_time": "2022-12-19T16:19:40.563Z"
   },
   {
    "duration": 19,
    "start_time": "2022-12-19T16:21:40.929Z"
   },
   {
    "duration": 183222,
    "start_time": "2022-12-19T16:21:40.949Z"
   },
   {
    "duration": 14,
    "start_time": "2022-12-19T16:24:44.173Z"
   },
   {
    "duration": 13,
    "start_time": "2022-12-19T16:24:44.189Z"
   },
   {
    "duration": 18,
    "start_time": "2022-12-19T16:24:44.204Z"
   },
   {
    "duration": 41,
    "start_time": "2022-12-19T16:24:44.224Z"
   },
   {
    "duration": 11,
    "start_time": "2022-12-19T16:24:44.267Z"
   },
   {
    "duration": 204017,
    "start_time": "2022-12-19T16:24:44.280Z"
   },
   {
    "duration": 4,
    "start_time": "2022-12-19T16:28:08.299Z"
   },
   {
    "duration": 44,
    "start_time": "2022-12-19T16:28:08.305Z"
   },
   {
    "duration": 28,
    "start_time": "2022-12-19T16:28:08.353Z"
   },
   {
    "duration": 170,
    "start_time": "2022-12-19T16:28:08.383Z"
   }
  ],
  "kernelspec": {
   "display_name": "Python 3 (ipykernel)",
   "language": "python",
   "name": "python3"
  },
  "language_info": {
   "codemirror_mode": {
    "name": "ipython",
    "version": 3
   },
   "file_extension": ".py",
   "mimetype": "text/x-python",
   "name": "python",
   "nbconvert_exporter": "python",
   "pygments_lexer": "ipython3",
   "version": "3.9.5"
  },
  "toc": {
   "base_numbering": 1,
   "nav_menu": {},
   "number_sections": true,
   "sideBar": true,
   "skip_h1_title": true,
   "title_cell": "Содержание",
   "title_sidebar": "Contents",
   "toc_cell": true,
   "toc_position": {},
   "toc_section_display": true,
   "toc_window_display": true
  }
 },
 "nbformat": 4,
 "nbformat_minor": 2
}
